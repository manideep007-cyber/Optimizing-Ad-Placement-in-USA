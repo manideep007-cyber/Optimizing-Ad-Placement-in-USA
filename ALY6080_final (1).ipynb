{
  "cells": [
    {
      "cell_type": "code",
      "source": [
        "import pandas as pd\n",
        "\n",
        "df = pd.read_csv(\"/content/LA_filtered.csv\")\n",
        "\n",
        "# Check basic structure\n",
        "print(df.info())\n",
        "\n",
        "# See the first 5 rows\n",
        "print(df.head())\n",
        "\n",
        "# Null value check\n",
        "print(df.isnull().sum().sort_values(ascending=False))\n",
        "\n",
        "# Unique value counts\n",
        "print(df.nunique().sort_values(ascending=False))"
      ],
      "metadata": {
        "colab": {
          "base_uri": "https://localhost:8080/"
        },
        "id": "JPg2FB3bRwCZ",
        "outputId": "030197aa-8116-4522-bf3b-3e6ae714c1d0"
      },
      "execution_count": null,
      "outputs": [
        {
          "output_type": "stream",
          "name": "stdout",
          "text": [
            "<class 'pandas.core.frame.DataFrame'>\n",
            "RangeIndex: 128908 entries, 0 to 128907\n",
            "Data columns (total 52 columns):\n",
            " #   Column                                      Non-Null Count   Dtype  \n",
            "---  ------                                      --------------   -----  \n",
            " 0   placekey                                    128908 non-null  object \n",
            " 1   parent_placekey                             18080 non-null   object \n",
            " 2   safegraph_brand_ids                         9516 non-null    object \n",
            " 3   location_name                               128908 non-null  object \n",
            " 4   brands                                      9516 non-null    object \n",
            " 5   store_id                                    10071 non-null   object \n",
            " 6   top_category                                128908 non-null  object \n",
            " 7   sub_category                                105217 non-null  object \n",
            " 8   naics_code                                  128908 non-null  int64  \n",
            " 9   latitude                                    128908 non-null  float64\n",
            " 10  longitude                                   128908 non-null  float64\n",
            " 11  street_address                              128908 non-null  object \n",
            " 12  city                                        128908 non-null  object \n",
            " 13  region                                      128908 non-null  object \n",
            " 14  postal_code                                 128908 non-null  int64  \n",
            " 15  open_hours                                  63128 non-null   object \n",
            " 16  category_tags                               94863 non-null   object \n",
            " 17  opened_on                                   1196 non-null    object \n",
            " 18  closed_on                                   19636 non-null   object \n",
            " 19  tracking_closed_since                       126985 non-null  object \n",
            " 20  websites                                    57507 non-null   object \n",
            " 21  geometry_type                               128908 non-null  object \n",
            " 22  polygon_wkt                                 128908 non-null  object \n",
            " 23  polygon_class                               109272 non-null  object \n",
            " 24  enclosed                                    128908 non-null  bool   \n",
            " 25  phone_number                                94960 non-null   float64\n",
            " 26  is_synthetic                                128908 non-null  bool   \n",
            " 27  includes_parking_lot                        114575 non-null  object \n",
            " 28  iso_country_code                            128908 non-null  object \n",
            " 29  wkt_area_sq_meters                          115471 non-null  float64\n",
            " 30  date_range_start                            128908 non-null  object \n",
            " 31  date_range_end                              128908 non-null  object \n",
            " 32  raw_visit_counts                            57817 non-null   float64\n",
            " 33  raw_visitor_counts                          57817 non-null   float64\n",
            " 34  visits_by_day                               57817 non-null   object \n",
            " 35  visits_by_each_hour                         57817 non-null   object \n",
            " 36  poi_cbg                                     128908 non-null  int64  \n",
            " 37  visitor_home_cbgs                           6900 non-null    object \n",
            " 38  visitor_home_aggregation                    6900 non-null    object \n",
            " 39  visitor_daytime_cbgs                        8863 non-null    object \n",
            " 40  visitor_country_of_origin                   8302 non-null    object \n",
            " 41  distance_from_home                          0 non-null       float64\n",
            " 42  median_dwell                                56386 non-null   float64\n",
            " 43  bucketed_dwell_times                        57817 non-null   object \n",
            " 44  related_same_day_brand                      57705 non-null   object \n",
            " 45  related_same_week_brand                     57789 non-null   object \n",
            " 46  device_type                                 29377 non-null   object \n",
            " 47  normalized_visits_by_state_scaling          57817 non-null   float64\n",
            " 48  normalized_visits_by_region_naics_visits    57817 non-null   float64\n",
            " 49  normalized_visits_by_region_naics_visitors  57817 non-null   float64\n",
            " 50  normalized_visits_by_total_visits           57817 non-null   float64\n",
            " 51  normalized_visits_by_total_visitors         57817 non-null   float64\n",
            "dtypes: bool(2), float64(13), int64(3), object(34)\n",
            "memory usage: 49.4+ MB\n",
            "None\n",
            "              placekey parent_placekey safegraph_brand_ids  \\\n",
            "0  22h-222@5z4-zwd-ffz             NaN                 NaN   \n",
            "1  22h-222@5z4-zw9-syv             NaN                 NaN   \n",
            "2  zzy-223@5z5-3rs-k75             NaN                 NaN   \n",
            "3  224-224@5z5-3qs-cqz             NaN                 NaN   \n",
            "4  225-222@5z6-3py-9s5             NaN                 NaN   \n",
            "\n",
            "             location_name brands store_id  \\\n",
            "0               MagIQ Room    NaN      NaN   \n",
            "1       DormShare Westwood    NaN      NaN   \n",
            "2            Ace Hotel Inn    NaN      NaN   \n",
            "3             888 Wilshire    NaN      NaN   \n",
            "4  Jim Dandy Fried Chicken    NaN      NaN   \n",
            "\n",
            "                                top_category  \\\n",
            "0  Other Amusement and Recreation Industries   \n",
            "1                     Traveler Accommodation   \n",
            "2                     Traveler Accommodation   \n",
            "3        Restaurants and Other Eating Places   \n",
            "4        Restaurants and Other Eating Places   \n",
            "\n",
            "                                    sub_category  naics_code   latitude  ...  \\\n",
            "0  All Other Amusement and Recreation Industries      713990  34.053263  ...   \n",
            "1       Hotels (except Casino Hotels) and Motels      721110  34.063814  ...   \n",
            "2       Hotels (except Casino Hotels) and Motels      721110  34.044048  ...   \n",
            "3                       Full-Service Restaurants      722511  34.049845  ...   \n",
            "4                       Full-Service Restaurants      722511  33.931619  ...   \n",
            "\n",
            "   median_dwell bucketed_dwell_times related_same_day_brand  \\\n",
            "0           NaN                  NaN                    NaN   \n",
            "1           NaN                  NaN                    NaN   \n",
            "2           NaN                  NaN                    NaN   \n",
            "3           NaN                  NaN                    NaN   \n",
            "4           NaN                  NaN                    NaN   \n",
            "\n",
            "  related_same_week_brand  device_type normalized_visits_by_state_scaling  \\\n",
            "0                     NaN          NaN                                NaN   \n",
            "1                     NaN          NaN                                NaN   \n",
            "2                     NaN          NaN                                NaN   \n",
            "3                     NaN          NaN                                NaN   \n",
            "4                     NaN          NaN                                NaN   \n",
            "\n",
            "  normalized_visits_by_region_naics_visits  \\\n",
            "0                                      NaN   \n",
            "1                                      NaN   \n",
            "2                                      NaN   \n",
            "3                                      NaN   \n",
            "4                                      NaN   \n",
            "\n",
            "  normalized_visits_by_region_naics_visitors  \\\n",
            "0                                        NaN   \n",
            "1                                        NaN   \n",
            "2                                        NaN   \n",
            "3                                        NaN   \n",
            "4                                        NaN   \n",
            "\n",
            "  normalized_visits_by_total_visits normalized_visits_by_total_visitors  \n",
            "0                               NaN                                 NaN  \n",
            "1                               NaN                                 NaN  \n",
            "2                               NaN                                 NaN  \n",
            "3                               NaN                                 NaN  \n",
            "4                               NaN                                 NaN  \n",
            "\n",
            "[5 rows x 52 columns]\n",
            "distance_from_home                            128908\n",
            "opened_on                                     127712\n",
            "visitor_home_cbgs                             122008\n",
            "visitor_home_aggregation                      122008\n",
            "visitor_country_of_origin                     120606\n",
            "visitor_daytime_cbgs                          120045\n",
            "brands                                        119392\n",
            "safegraph_brand_ids                           119392\n",
            "store_id                                      118837\n",
            "parent_placekey                               110828\n",
            "closed_on                                     109272\n",
            "device_type                                    99531\n",
            "median_dwell                                   72522\n",
            "websites                                       71401\n",
            "related_same_day_brand                         71203\n",
            "related_same_week_brand                        71119\n",
            "raw_visitor_counts                             71091\n",
            "visits_by_day                                  71091\n",
            "normalized_visits_by_region_naics_visits       71091\n",
            "raw_visit_counts                               71091\n",
            "normalized_visits_by_total_visits              71091\n",
            "normalized_visits_by_region_naics_visitors     71091\n",
            "normalized_visits_by_total_visitors            71091\n",
            "normalized_visits_by_state_scaling             71091\n",
            "bucketed_dwell_times                           71091\n",
            "visits_by_each_hour                            71091\n",
            "open_hours                                     65780\n",
            "category_tags                                  34045\n",
            "phone_number                                   33948\n",
            "sub_category                                   23691\n",
            "polygon_class                                  19636\n",
            "includes_parking_lot                           14333\n",
            "wkt_area_sq_meters                             13437\n",
            "tracking_closed_since                           1923\n",
            "placekey                                           0\n",
            "location_name                                      0\n",
            "region                                             0\n",
            "city                                               0\n",
            "postal_code                                        0\n",
            "top_category                                       0\n",
            "naics_code                                         0\n",
            "latitude                                           0\n",
            "longitude                                          0\n",
            "street_address                                     0\n",
            "date_range_start                                   0\n",
            "iso_country_code                                   0\n",
            "date_range_end                                     0\n",
            "is_synthetic                                       0\n",
            "polygon_wkt                                        0\n",
            "geometry_type                                      0\n",
            "enclosed                                           0\n",
            "poi_cbg                                            0\n",
            "dtype: int64\n",
            "placekey                                      128908\n",
            "location_name                                 111548\n",
            "longitude                                      90516\n",
            "phone_number                                   84607\n",
            "latitude                                       74618\n",
            "street_address                                 70585\n",
            "polygon_wkt                                    55814\n",
            "websites                                       42792\n",
            "normalized_visits_by_region_naics_visits       23989\n",
            "normalized_visits_by_region_naics_visitors     23960\n",
            "open_hours                                     19861\n",
            "related_same_week_brand                        17233\n",
            "related_same_day_brand                         17150\n",
            "visits_by_each_hour                            12144\n",
            "store_id                                        9451\n",
            "category_tags                                   7800\n",
            "normalized_visits_by_total_visits               6696\n",
            "normalized_visits_by_total_visitors             6694\n",
            "visits_by_day                                   6667\n",
            "wkt_area_sq_meters                              4991\n",
            "bucketed_dwell_times                            4343\n",
            "visitor_home_cbgs                               4336\n",
            "visitor_daytime_cbgs                            4316\n",
            "visitor_home_aggregation                        4294\n",
            "poi_cbg                                         2550\n",
            "normalized_visits_by_state_scaling              2040\n",
            "device_type                                     1787\n",
            "parent_placekey                                 1784\n",
            "safegraph_brand_ids                             1270\n",
            "brands                                          1270\n",
            "median_dwell                                     724\n",
            "raw_visit_counts                                 587\n",
            "raw_visitor_counts                               536\n",
            "visitor_country_of_origin                        397\n",
            "naics_code                                       344\n",
            "sub_category                                     299\n",
            "postal_code                                      222\n",
            "top_category                                     168\n",
            "closed_on                                         47\n",
            "tracking_closed_since                             46\n",
            "opened_on                                         44\n",
            "region                                             2\n",
            "polygon_class                                      2\n",
            "includes_parking_lot                               2\n",
            "is_synthetic                                       2\n",
            "enclosed                                           2\n",
            "geometry_type                                      2\n",
            "city                                               1\n",
            "date_range_start                                   1\n",
            "iso_country_code                                   1\n",
            "date_range_end                                     1\n",
            "distance_from_home                                 0\n",
            "dtype: int64\n"
          ]
        }
      ]
    },
    {
      "cell_type": "code",
      "execution_count": null,
      "metadata": {
        "id": "4A9kqBicW_xc"
      },
      "outputs": [],
      "source": [
        "df = pd.read_csv('/content/LA_filtered.csv', on_bad_lines='skip')"
      ]
    },
    {
      "cell_type": "code",
      "execution_count": null,
      "metadata": {
        "colab": {
          "base_uri": "https://localhost:8080/"
        },
        "id": "DSy5qJAWaPVp",
        "outputId": "f642b7af-ec6e-495d-b594-3d00046dfc04"
      },
      "outputs": [
        {
          "output_type": "stream",
          "name": "stdout",
          "text": [
            "128908\n"
          ]
        }
      ],
      "source": [
        "#no of rows\n",
        "\n",
        "print(len(df))"
      ]
    },
    {
      "cell_type": "code",
      "execution_count": null,
      "metadata": {
        "colab": {
          "base_uri": "https://localhost:8080/"
        },
        "id": "qavXO4HqcMVL",
        "outputId": "108482f1-78a7-4036-f3a2-bd125ad6e743"
      },
      "outputs": [
        {
          "output_type": "execute_result",
          "data": {
            "text/plain": [
              "Index(['placekey', 'parent_placekey', 'safegraph_brand_ids', 'location_name',\n",
              "       'brands', 'store_id', 'top_category', 'sub_category', 'naics_code',\n",
              "       'latitude', 'longitude', 'street_address', 'city', 'region',\n",
              "       'postal_code', 'open_hours', 'category_tags', 'opened_on', 'closed_on',\n",
              "       'tracking_closed_since', 'websites', 'geometry_type', 'polygon_wkt',\n",
              "       'polygon_class', 'enclosed', 'phone_number', 'is_synthetic',\n",
              "       'includes_parking_lot', 'iso_country_code', 'wkt_area_sq_meters',\n",
              "       'date_range_start', 'date_range_end', 'raw_visit_counts',\n",
              "       'raw_visitor_counts', 'visits_by_day', 'visits_by_each_hour', 'poi_cbg',\n",
              "       'visitor_home_cbgs', 'visitor_home_aggregation', 'visitor_daytime_cbgs',\n",
              "       'visitor_country_of_origin', 'distance_from_home', 'median_dwell',\n",
              "       'bucketed_dwell_times', 'related_same_day_brand',\n",
              "       'related_same_week_brand', 'device_type',\n",
              "       'normalized_visits_by_state_scaling',\n",
              "       'normalized_visits_by_region_naics_visits',\n",
              "       'normalized_visits_by_region_naics_visitors',\n",
              "       'normalized_visits_by_total_visits',\n",
              "       'normalized_visits_by_total_visitors'],\n",
              "      dtype='object')"
            ]
          },
          "metadata": {},
          "execution_count": 75
        }
      ],
      "source": [
        "# prompt: want to see all the column names\n",
        "\n",
        "df.columns"
      ]
    },
    {
      "cell_type": "code",
      "execution_count": null,
      "metadata": {
        "colab": {
          "base_uri": "https://localhost:8080/",
          "height": 147
        },
        "id": "Xo4of_n9bLqg",
        "outputId": "fb5ff161-c465-4e75-c32d-8b90904212e9"
      },
      "outputs": [
        {
          "output_type": "execute_result",
          "data": {
            "text/plain": [
              "city\n",
              "Los Angeles    128908\n",
              "Name: count, dtype: int64"
            ],
            "text/html": [
              "<div>\n",
              "<style scoped>\n",
              "    .dataframe tbody tr th:only-of-type {\n",
              "        vertical-align: middle;\n",
              "    }\n",
              "\n",
              "    .dataframe tbody tr th {\n",
              "        vertical-align: top;\n",
              "    }\n",
              "\n",
              "    .dataframe thead th {\n",
              "        text-align: right;\n",
              "    }\n",
              "</style>\n",
              "<table border=\"1\" class=\"dataframe\">\n",
              "  <thead>\n",
              "    <tr style=\"text-align: right;\">\n",
              "      <th></th>\n",
              "      <th>count</th>\n",
              "    </tr>\n",
              "    <tr>\n",
              "      <th>city</th>\n",
              "      <th></th>\n",
              "    </tr>\n",
              "  </thead>\n",
              "  <tbody>\n",
              "    <tr>\n",
              "      <th>Los Angeles</th>\n",
              "      <td>128908</td>\n",
              "    </tr>\n",
              "  </tbody>\n",
              "</table>\n",
              "</div><br><label><b>dtype:</b> int64</label>"
            ]
          },
          "metadata": {},
          "execution_count": 76
        }
      ],
      "source": [
        "df['city'].value_counts()"
      ]
    },
    {
      "cell_type": "code",
      "execution_count": null,
      "metadata": {
        "colab": {
          "base_uri": "https://localhost:8080/"
        },
        "id": "k6Kn7GBldTZE",
        "outputId": "8f4c3218-b34a-425d-bd25-af36f7df9a09"
      },
      "outputs": [
        {
          "output_type": "stream",
          "name": "stdout",
          "text": [
            "Unique values: 4336\n",
            "\n",
            "Top 5 most common values:\n",
            "visitor_home_cbgs\n",
            "{\"\"060372679011\"\":4}                                                                                                                                                                                                                                                                                                                                                                                                                                                                                                                                                                                                                                                                                                                207\n",
            "{\"\"060372077101\"\":4}                                                                                                                                                                                                                                                                                                                                                                                                                                                                                                                                                                                                                                                                                                                206\n",
            "{\"\"060372317201\"\":4,\"\"060376038011\"\":4,\"\"060710013053\"\":4,\"\"060371314002\"\":4,\"\"060371132372\"\":4,\"\"150030037002\"\":4,\"\"060790117013\"\":4,\"\"060710097155\"\":4,\"\"500070008001\"\":4,\"\"060376505012\"\":4,\"\"060590524284\"\":4,\"\"060372071011\"\":4,\"\"060372781021\"\":4,\"\"060590992022\"\":4,\"\"060610206024\"\":4,\"\"060373025053\"\":4,\"\"060371861003\"\":4,\"\"060372360004\"\":4,\"\"060376200022\"\":4,\"\"060710092013\"\":4,\"\"060376014022\"\":4,\"\"060376020022\"\":4,\"\"060371371042\"\":4,\"\"060371081021\"\":4,\"\"060372780011\"\":4,\"\"060376039006\"\":4,\"\"060376200013\"\":4,\"\"060376021031\"\":4,\"\"060376025072\"\":4,\"\"060372766032\"\":4,\"\"060372374012\"\":4,\"\"060376013031\"\":4,\"\"060372766042\"\":4,\"\"150030003021\"\":4,\"\"060377018011\"\":4,\"\"060375311021\"\":4,\"\"060376012023\"\":4}    167\n",
            "{\"\"060379800281\"\":4}                                                                                                                                                                                                                                                                                                                                                                                                                                                                                                                                                                                                                                                                                                                147\n",
            "{\"\"060372075021\"\":4}                                                                                                                                                                                                                                                                                                                                                                                                                                                                                                                                                                                                                                                                                                                108\n",
            "Name: count, dtype: int64\n",
            "\n",
            "Sample values:\n",
            "['{\"\"060372214021\"\":8,\"\"060372243101\"\":8}'\n",
            " '{\"\"060371905202\"\":7,\"\"060371903011\"\":7}'\n",
            " '{\"\"060470018011\"\":15,\"\"060372314001\"\":15,\"\"060372342001\"\":15}'\n",
            " '{\"\"060372077101\"\":4}' '{\"\"120860044041\"\":4}']\n"
          ]
        }
      ],
      "source": [
        " # Check number of unique values\n",
        "print(\"Unique values:\", df['visitor_home_cbgs'].nunique())\n",
        "\n",
        "# Check top 5 most frequent values\n",
        "print(\"\\nTop 5 most common values:\")\n",
        "print(df['visitor_home_cbgs'].value_counts().head())\n",
        "\n",
        "# Show a few random raw values for inspection\n",
        "print(\"\\nSample values:\")\n",
        "print(df['visitor_home_cbgs'].dropna().sample(5).values)\n"
      ]
    },
    {
      "cell_type": "code",
      "execution_count": null,
      "metadata": {
        "colab": {
          "base_uri": "https://localhost:8080/"
        },
        "id": "B0Gj5yO8bL9o",
        "outputId": "a25948fd-ea6f-4f9c-c598-c90334b6e742"
      },
      "outputs": [
        {
          "output_type": "stream",
          "name": "stdout",
          "text": [
            "Non-null rows: 6900\n",
            "\n",
            "Sample entries:\n",
            "\n",
            "['{\"\"060376002013\"\":4}' '{\"\"060372421001\"\":4}' '{\"\"060372383101\"\":9}'\n",
            " '{\"\"060372760002\"\":6,\"\"060376013021\"\":6}'\n",
            " '{\"\"060670093224\"\":4,\"\"060377001021\"\":4,\"\"060373107012\"\":4,\"\"060371895002\"\":4,\"\"060371916101\"\":4}']\n"
          ]
        }
      ],
      "source": [
        "# View non-null entries in the visitor_home_cbgs column\n",
        "non_null_cbgs = df['visitor_home_cbgs'].dropna()\n",
        "\n",
        "# Print how many non-null rows and show 5 examples\n",
        "print(\"Non-null rows:\", non_null_cbgs.shape[0])\n",
        "print(\"\\nSample entries:\\n\")\n",
        "print(non_null_cbgs.head(5).values)"
      ]
    },
    {
      "cell_type": "code",
      "execution_count": null,
      "metadata": {
        "colab": {
          "base_uri": "https://localhost:8080/"
        },
        "id": "-_xCMORmbMGy",
        "outputId": "4ec34948-7baf-4db2-e9e9-e1cedc59caf5"
      },
      "outputs": [
        {
          "output_type": "stream",
          "name": "stdout",
          "text": [
            "Number of unique values in 'visitor_home_cbgs': 4336\n"
          ]
        }
      ],
      "source": [
        "unique_count = df['visitor_home_cbgs'].nunique()\n",
        "print(\"Number of unique values in 'visitor_home_cbgs':\", unique_count)"
      ]
    },
    {
      "cell_type": "code",
      "execution_count": null,
      "metadata": {
        "colab": {
          "base_uri": "https://localhost:8080/",
          "height": 763
        },
        "id": "pYXeWKQD-OE8",
        "outputId": "186c2e90-d7bb-432c-8dd3-72fa2de92df5"
      },
      "outputs": [
        {
          "output_type": "execute_result",
          "data": {
            "text/plain": [
              "visitor_home_cbgs\n",
              "{\"\"060372679011\"\":4}                                                                                                                                                                                                                                                                                                                                                                                                                                                                                                                                                                                                                                                                                                                                                                                                                                                                                                                                                                         207\n",
              "{\"\"060372077101\"\":4}                                                                                                                                                                                                                                                                                                                                                                                                                                                                                                                                                                                                                                                                                                                                                                                                                                                                                                                                                                         206\n",
              "{\"\"060372317201\"\":4,\"\"060376038011\"\":4,\"\"060710013053\"\":4,\"\"060371314002\"\":4,\"\"060371132372\"\":4,\"\"150030037002\"\":4,\"\"060790117013\"\":4,\"\"060710097155\"\":4,\"\"500070008001\"\":4,\"\"060376505012\"\":4,\"\"060590524284\"\":4,\"\"060372071011\"\":4,\"\"060372781021\"\":4,\"\"060590992022\"\":4,\"\"060610206024\"\":4,\"\"060373025053\"\":4,\"\"060371861003\"\":4,\"\"060372360004\"\":4,\"\"060376200022\"\":4,\"\"060710092013\"\":4,\"\"060376014022\"\":4,\"\"060376020022\"\":4,\"\"060371371042\"\":4,\"\"060371081021\"\":4,\"\"060372780011\"\":4,\"\"060376039006\"\":4,\"\"060376200013\"\":4,\"\"060376021031\"\":4,\"\"060376025072\"\":4,\"\"060372766032\"\":4,\"\"060372374012\"\":4,\"\"060376013031\"\":4,\"\"060372766042\"\":4,\"\"150030003021\"\":4,\"\"060377018011\"\":4,\"\"060375311021\"\":4,\"\"060376012023\"\":4}                                                                                                                                                                                                                                                             167\n",
              "{\"\"060379800281\"\":4}                                                                                                                                                                                                                                                                                                                                                                                                                                                                                                                                                                                                                                                                                                                                                                                                                                                                                                                                                                         147\n",
              "{\"\"060372075021\"\":4}                                                                                                                                                                                                                                                                                                                                                                                                                                                                                                                                                                                                                                                                                                                                                                                                                                                                                                                                                                         108\n",
              "{\"\"060372364002\"\":20}                                                                                                                                                                                                                                                                                                                                                                                                                                                                                                                                                                                                                                                                                                                                                                                                                                                                                                                                                                         96\n",
              "{\"\"060372060323\"\":12,\"\"060372124101\"\":4,\"\"060372127021\"\":4,\"\"060372118031\"\":4,\"\"060372126101\"\":4,\"\"484530022071\"\":4,\"\"060375545122\"\":4,\"\"060372062002\"\":4,\"\"060372123041\"\":4,\"\"060375409011\"\":4,\"\"060372079001\"\":4,\"\"060372124201\"\":4,\"\"060375303022\"\":4,\"\"060590756044\"\":4,\"\"060377008021\"\":4,\"\"060372124102\"\":4,\"\"060590868031\"\":4,\"\"060372121012\"\":4,\"\"060376022005\"\":4,\"\"060591105004\"\":4}                                                                                                                                                                                                                                                                                                                                                                                                                                                                                                                                                                                                80\n",
              "{\"\"060374027031\"\":5,\"\"060372118031\"\":5,\"\"060371915003\"\":5,\"\"060590756044\"\":4,\"\"060375545122\"\":4,\"\"060372062002\"\":4,\"\"060372126201\"\":4,\"\"060372124201\"\":4}                                                                                                                                                                                                                                                                                                                                                                                                                                                                                                                                                                                                                                                                                                                                                                                                                                     59\n",
              "{\"\"060372079001\"\":4}                                                                                                                                                                                                                                                                                                                                                                                                                                                                                                                                                                                                                                                                                                                                                                                                                                                                                                                                                                          47\n",
              "{\"\"CA:35202113\"\":4,\"\"060374033212\"\":4,\"\"060590875044\"\":4,\"\"060378003282\"\":4,\"\"240217676002\"\":4}                                                                                                                                                                                                                                                                                                                                                                                                                                                                                                                                                                                                                                                                                                                                                                                                                                                                                               35\n",
              "{\"\"060372077101\"\":12,\"\"060373107012\"\":12,\"\"060371048221\"\":12,\"\"060372679011\"\":12,\"\"060379106021\"\":12,\"\"530350913022\"\":12,\"\"060375401013\"\":12,\"\"060376012022\"\":12,\"\"060371096031\"\":12,\"\"060371834011\"\":12,\"\"120950152021\"\":12,\"\"060590750022\"\":12,\"\"120860199005\"\":12,\"\"060650452242\"\":12}                                                                                                                                                                                                                                                                                                                                                                                                                                                                                                                                                                                                                                                                                                     34\n",
              "{\"\"060371862011\"\":48,\"\"060371060201\"\":33,\"\"060371810004\"\":33,\"\"060371834022\"\":24,\"\"060373018013\"\":24,\"\"060371864032\"\":10,\"\"060371899041\"\":10,\"\"060290031235\"\":10,\"\"060372075021\"\":10,\"\"060371815002\"\":10,\"\"060371832223\"\":10,\"\"060372086101\"\":10,\"\"060374049022\"\":10,\"\"060373021031\"\":10,\"\"060372397011\"\":10,\"\"060374814022\"\":10,\"\"060373022012\"\":5,\"\"060375041021\"\":5,\"\"360110414001\"\":5,\"\"060372643013\"\":5,\"\"060371810003\"\":5,\"\"060371852031\"\":5,\"\"060371835202\"\":5,\"\"060375407002\"\":5,\"\"170978614041\"\":5,\"\"060790109012\"\":5,\"\"060590626402\"\":5,\"\"060371831031\"\":5,\"\"060371815003\"\":5,\"\"060374804003\"\":5,\"\"060373020022\"\":5,\"\"060372111221\"\":5,\"\"060374047032\"\":5,\"\"060371958032\"\":5,\"\"060373008001\"\":5,\"\"060371374022\"\":5,\"\"060590994121\"\":5,\"\"060371913011\"\":5,\"\"060371871011\"\":5,\"\"060372086203\"\":5,\"\"060373021043\"\":5,\"\"060372083023\"\":5,\"\"060373009011\"\":5,\"\"060371816001\"\":5,\"\"060371831012\"\":5}                                                                                      32\n",
              "{\"\"060371901002\"\":4}                                                                                                                                                                                                                                                                                                                                                                                                                                                                                                                                                                                                                                                                                                                                                                                                                                                                                                                                                                          31\n",
              "{\"\"060372077101\"\":14,\"\"060372092001\"\":9,\"\"060374602005\"\":4,\"\"060372132011\"\":4,\"\"060372123031\"\":4,\"\"060372193001\"\":4,\"\"060710020331\"\":4,\"\"240317006062\"\":4,\"\"060374324011\"\":4,\"\"060372060311\"\":4,\"\"060372118021\"\":4,\"\"060372281002\"\":4,\"\"060372167003\"\":4,\"\"060710109023\"\":4,\"\"060372321201\"\":4,\"\"110010009011\"\":4,\"\"220510244002\"\":4,\"\"060590870012\"\":4,\"\"060372643013\"\":4,\"\"060730191013\"\":4,\"\"390351801021\"\":4,\"\"471579801001\"\":4,\"\"060372124201\"\":4,\"\"060371012102\"\":4,\"\"060590999023\"\":4,\"\"180290803003\"\":4,\"\"060374306001\"\":4,\"\"060372672002\"\":4,\"\"310790013001\"\":4,\"\"060376013024\"\":4,\"\"060730091013\"\":4,\"\"040131042021\"\":4,\"\"390610213033\"\":4}                                                                                                                                                                                                                                                                                                                                         31\n",
              "{\"\"060372149021\"\":4}                                                                                                                                                                                                                                                                                                                                                                                                                                                                                                                                                                                                                                                                                                                                                                                                                                                                                                                                                                          30\n",
              "{\"\"CA:35202113\"\":4,\"\"040190004001\"\":4}                                                                                                                                                                                                                                                                                                                                                                                                                                                                                                                                                                                                                                                                                                                                                                                                                                                                                                                                                        29\n",
              "{\"\"060372653011\"\":4}                                                                                                                                                                                                                                                                                                                                                                                                                                                                                                                                                                                                                                                                                                                                                                                                                                                                                                                                                                          27\n",
              "{\"\"060372092001\"\":8,\"\"060372077101\"\":4,\"\"060371014002\"\":4,\"\"240317006062\"\":4,\"\"060372087101\"\":4,\"\"060374602005\"\":4,\"\"060372073022\"\":4,\"\"060372316004\"\":4,\"\"060371012102\"\":4,\"\"060372264202\"\":4,\"\"060730091013\"\":4,\"\"060372060311\"\":4,\"\"060375351012\"\":4,\"\"180290803003\"\":4,\"\"060377009011\"\":4,\"\"390351801021\"\":4,\"\"060590999023\"\":4,\"\"060710020331\"\":4,\"\"060590870012\"\":4,\"\"060371815002\"\":4,\"\"060379200373\"\":4,\"\"060372360004\"\":4,\"\"060372094021\"\":4,\"\"060372079001\"\":4,\"\"060372321201\"\":4,\"\"220510244002\"\":4,\"\"060372124201\"\":4,\"\"060372118022\"\":4,\"\"471579801001\"\":4,\"\"060374074001\"\":4,\"\"310790013001\"\":4,\"\"060372093002\"\":4,\"\"060372672002\"\":4,\"\"060375303022\"\":4,\"\"320030023021\"\":4,\"\"060372071011\"\":4,\"\"061010505041\"\":4,\"\"060377008021\"\":4,\"\"320030067001\"\":4,\"\"060610210033\"\":4,\"\"110010009011\"\":4,\"\"390610213033\"\":4,\"\"060372060323\"\":4,\"\"060379800281\"\":4,\"\"060376024033\"\":4,\"\"060372291001\"\":4,\"\"040131042021\"\":4,\"\"060374324011\"\":4}                                             27\n",
              "{\"\"060372118021\"\":12,\"\"060372118041\"\":12,\"\"060372117042\"\":8,\"\"060372125021\"\":7,\"\"060372117031\"\":5,\"\"060371081021\"\":4,\"\"060372132022\"\":4,\"\"060372117011\"\":4,\"\"060372212202\"\":4,\"\"060372087101\"\":4,\"\"060372119211\"\":4,\"\"060376033022\"\":4,\"\"060378005041\"\":4,\"\"060372074001\"\":4,\"\"060375040013\"\":4,\"\"484530022071\"\":4,\"\"060377026004\"\":4,\"\"060710092021\"\":4,\"\"060830029222\"\":4,\"\"060371959031\"\":4,\"\"060730089021\"\":4,\"\"060373200001\"\":4,\"\"060372122042\"\":4,\"\"060373203004\"\":4,\"\"060372718011\"\":4,\"\"060372114101\"\":4,\"\"060374806004\"\":4,\"\"060375320022\"\":4,\"\"060372033001\"\":4,\"\"060371911201\"\":4,\"\"060372652021\"\":4,\"\"060372134011\"\":4,\"\"060372118031\"\":4,\"\"060372126101\"\":4,\"\"060375301014\"\":4,\"\"060372118042\"\":4,\"\"060371432001\"\":4,\"\"131350505421\"\":4,\"\"060372122022\"\":4,\"\"120110421002\"\":4,\"\"060372313002\"\":4,\"\"060372145021\"\":4,\"\"060377002001\"\":4,\"\"060372132012\"\":4,\"\"120110405022\"\":4,\"\"060371924201\"\":4,\"\"060372111202\"\":4,\"\"060371897021\"\":4,\"\"060371905101\"\":4,\"\"060372117013\"\":4}     26\n",
              "{\"\"060372653011\"\":12,\"\"061110014011\"\":6,\"\"060371349051\"\":6,\"\"060372652021\"\":6}                                                                                                                                                                                                                                                                                                                                                                                                                                                                                                                                                                                                                                                                                                                                                                                                                                                                                                                26\n",
              "Name: count, dtype: int64"
            ],
            "text/html": [
              "<div>\n",
              "<style scoped>\n",
              "    .dataframe tbody tr th:only-of-type {\n",
              "        vertical-align: middle;\n",
              "    }\n",
              "\n",
              "    .dataframe tbody tr th {\n",
              "        vertical-align: top;\n",
              "    }\n",
              "\n",
              "    .dataframe thead th {\n",
              "        text-align: right;\n",
              "    }\n",
              "</style>\n",
              "<table border=\"1\" class=\"dataframe\">\n",
              "  <thead>\n",
              "    <tr style=\"text-align: right;\">\n",
              "      <th></th>\n",
              "      <th>count</th>\n",
              "    </tr>\n",
              "    <tr>\n",
              "      <th>visitor_home_cbgs</th>\n",
              "      <th></th>\n",
              "    </tr>\n",
              "  </thead>\n",
              "  <tbody>\n",
              "    <tr>\n",
              "      <th>{\"\"060372679011\"\":4}</th>\n",
              "      <td>207</td>\n",
              "    </tr>\n",
              "    <tr>\n",
              "      <th>{\"\"060372077101\"\":4}</th>\n",
              "      <td>206</td>\n",
              "    </tr>\n",
              "    <tr>\n",
              "      <th>{\"\"060372317201\"\":4,\"\"060376038011\"\":4,\"\"060710013053\"\":4,\"\"060371314002\"\":4,\"\"060371132372\"\":4,\"\"150030037002\"\":4,\"\"060790117013\"\":4,\"\"060710097155\"\":4,\"\"500070008001\"\":4,\"\"060376505012\"\":4,\"\"060590524284\"\":4,\"\"060372071011\"\":4,\"\"060372781021\"\":4,\"\"060590992022\"\":4,\"\"060610206024\"\":4,\"\"060373025053\"\":4,\"\"060371861003\"\":4,\"\"060372360004\"\":4,\"\"060376200022\"\":4,\"\"060710092013\"\":4,\"\"060376014022\"\":4,\"\"060376020022\"\":4,\"\"060371371042\"\":4,\"\"060371081021\"\":4,\"\"060372780011\"\":4,\"\"060376039006\"\":4,\"\"060376200013\"\":4,\"\"060376021031\"\":4,\"\"060376025072\"\":4,\"\"060372766032\"\":4,\"\"060372374012\"\":4,\"\"060376013031\"\":4,\"\"060372766042\"\":4,\"\"150030003021\"\":4,\"\"060377018011\"\":4,\"\"060375311021\"\":4,\"\"060376012023\"\":4}</th>\n",
              "      <td>167</td>\n",
              "    </tr>\n",
              "    <tr>\n",
              "      <th>{\"\"060379800281\"\":4}</th>\n",
              "      <td>147</td>\n",
              "    </tr>\n",
              "    <tr>\n",
              "      <th>{\"\"060372075021\"\":4}</th>\n",
              "      <td>108</td>\n",
              "    </tr>\n",
              "    <tr>\n",
              "      <th>{\"\"060372364002\"\":20}</th>\n",
              "      <td>96</td>\n",
              "    </tr>\n",
              "    <tr>\n",
              "      <th>{\"\"060372060323\"\":12,\"\"060372124101\"\":4,\"\"060372127021\"\":4,\"\"060372118031\"\":4,\"\"060372126101\"\":4,\"\"484530022071\"\":4,\"\"060375545122\"\":4,\"\"060372062002\"\":4,\"\"060372123041\"\":4,\"\"060375409011\"\":4,\"\"060372079001\"\":4,\"\"060372124201\"\":4,\"\"060375303022\"\":4,\"\"060590756044\"\":4,\"\"060377008021\"\":4,\"\"060372124102\"\":4,\"\"060590868031\"\":4,\"\"060372121012\"\":4,\"\"060376022005\"\":4,\"\"060591105004\"\":4}</th>\n",
              "      <td>80</td>\n",
              "    </tr>\n",
              "    <tr>\n",
              "      <th>{\"\"060374027031\"\":5,\"\"060372118031\"\":5,\"\"060371915003\"\":5,\"\"060590756044\"\":4,\"\"060375545122\"\":4,\"\"060372062002\"\":4,\"\"060372126201\"\":4,\"\"060372124201\"\":4}</th>\n",
              "      <td>59</td>\n",
              "    </tr>\n",
              "    <tr>\n",
              "      <th>{\"\"060372079001\"\":4}</th>\n",
              "      <td>47</td>\n",
              "    </tr>\n",
              "    <tr>\n",
              "      <th>{\"\"CA:35202113\"\":4,\"\"060374033212\"\":4,\"\"060590875044\"\":4,\"\"060378003282\"\":4,\"\"240217676002\"\":4}</th>\n",
              "      <td>35</td>\n",
              "    </tr>\n",
              "    <tr>\n",
              "      <th>{\"\"060372077101\"\":12,\"\"060373107012\"\":12,\"\"060371048221\"\":12,\"\"060372679011\"\":12,\"\"060379106021\"\":12,\"\"530350913022\"\":12,\"\"060375401013\"\":12,\"\"060376012022\"\":12,\"\"060371096031\"\":12,\"\"060371834011\"\":12,\"\"120950152021\"\":12,\"\"060590750022\"\":12,\"\"120860199005\"\":12,\"\"060650452242\"\":12}</th>\n",
              "      <td>34</td>\n",
              "    </tr>\n",
              "    <tr>\n",
              "      <th>{\"\"060371862011\"\":48,\"\"060371060201\"\":33,\"\"060371810004\"\":33,\"\"060371834022\"\":24,\"\"060373018013\"\":24,\"\"060371864032\"\":10,\"\"060371899041\"\":10,\"\"060290031235\"\":10,\"\"060372075021\"\":10,\"\"060371815002\"\":10,\"\"060371832223\"\":10,\"\"060372086101\"\":10,\"\"060374049022\"\":10,\"\"060373021031\"\":10,\"\"060372397011\"\":10,\"\"060374814022\"\":10,\"\"060373022012\"\":5,\"\"060375041021\"\":5,\"\"360110414001\"\":5,\"\"060372643013\"\":5,\"\"060371810003\"\":5,\"\"060371852031\"\":5,\"\"060371835202\"\":5,\"\"060375407002\"\":5,\"\"170978614041\"\":5,\"\"060790109012\"\":5,\"\"060590626402\"\":5,\"\"060371831031\"\":5,\"\"060371815003\"\":5,\"\"060374804003\"\":5,\"\"060373020022\"\":5,\"\"060372111221\"\":5,\"\"060374047032\"\":5,\"\"060371958032\"\":5,\"\"060373008001\"\":5,\"\"060371374022\"\":5,\"\"060590994121\"\":5,\"\"060371913011\"\":5,\"\"060371871011\"\":5,\"\"060372086203\"\":5,\"\"060373021043\"\":5,\"\"060372083023\"\":5,\"\"060373009011\"\":5,\"\"060371816001\"\":5,\"\"060371831012\"\":5}</th>\n",
              "      <td>32</td>\n",
              "    </tr>\n",
              "    <tr>\n",
              "      <th>{\"\"060371901002\"\":4}</th>\n",
              "      <td>31</td>\n",
              "    </tr>\n",
              "    <tr>\n",
              "      <th>{\"\"060372077101\"\":14,\"\"060372092001\"\":9,\"\"060374602005\"\":4,\"\"060372132011\"\":4,\"\"060372123031\"\":4,\"\"060372193001\"\":4,\"\"060710020331\"\":4,\"\"240317006062\"\":4,\"\"060374324011\"\":4,\"\"060372060311\"\":4,\"\"060372118021\"\":4,\"\"060372281002\"\":4,\"\"060372167003\"\":4,\"\"060710109023\"\":4,\"\"060372321201\"\":4,\"\"110010009011\"\":4,\"\"220510244002\"\":4,\"\"060590870012\"\":4,\"\"060372643013\"\":4,\"\"060730191013\"\":4,\"\"390351801021\"\":4,\"\"471579801001\"\":4,\"\"060372124201\"\":4,\"\"060371012102\"\":4,\"\"060590999023\"\":4,\"\"180290803003\"\":4,\"\"060374306001\"\":4,\"\"060372672002\"\":4,\"\"310790013001\"\":4,\"\"060376013024\"\":4,\"\"060730091013\"\":4,\"\"040131042021\"\":4,\"\"390610213033\"\":4}</th>\n",
              "      <td>31</td>\n",
              "    </tr>\n",
              "    <tr>\n",
              "      <th>{\"\"060372149021\"\":4}</th>\n",
              "      <td>30</td>\n",
              "    </tr>\n",
              "    <tr>\n",
              "      <th>{\"\"CA:35202113\"\":4,\"\"040190004001\"\":4}</th>\n",
              "      <td>29</td>\n",
              "    </tr>\n",
              "    <tr>\n",
              "      <th>{\"\"060372653011\"\":4}</th>\n",
              "      <td>27</td>\n",
              "    </tr>\n",
              "    <tr>\n",
              "      <th>{\"\"060372092001\"\":8,\"\"060372077101\"\":4,\"\"060371014002\"\":4,\"\"240317006062\"\":4,\"\"060372087101\"\":4,\"\"060374602005\"\":4,\"\"060372073022\"\":4,\"\"060372316004\"\":4,\"\"060371012102\"\":4,\"\"060372264202\"\":4,\"\"060730091013\"\":4,\"\"060372060311\"\":4,\"\"060375351012\"\":4,\"\"180290803003\"\":4,\"\"060377009011\"\":4,\"\"390351801021\"\":4,\"\"060590999023\"\":4,\"\"060710020331\"\":4,\"\"060590870012\"\":4,\"\"060371815002\"\":4,\"\"060379200373\"\":4,\"\"060372360004\"\":4,\"\"060372094021\"\":4,\"\"060372079001\"\":4,\"\"060372321201\"\":4,\"\"220510244002\"\":4,\"\"060372124201\"\":4,\"\"060372118022\"\":4,\"\"471579801001\"\":4,\"\"060374074001\"\":4,\"\"310790013001\"\":4,\"\"060372093002\"\":4,\"\"060372672002\"\":4,\"\"060375303022\"\":4,\"\"320030023021\"\":4,\"\"060372071011\"\":4,\"\"061010505041\"\":4,\"\"060377008021\"\":4,\"\"320030067001\"\":4,\"\"060610210033\"\":4,\"\"110010009011\"\":4,\"\"390610213033\"\":4,\"\"060372060323\"\":4,\"\"060379800281\"\":4,\"\"060376024033\"\":4,\"\"060372291001\"\":4,\"\"040131042021\"\":4,\"\"060374324011\"\":4}</th>\n",
              "      <td>27</td>\n",
              "    </tr>\n",
              "    <tr>\n",
              "      <th>{\"\"060372118021\"\":12,\"\"060372118041\"\":12,\"\"060372117042\"\":8,\"\"060372125021\"\":7,\"\"060372117031\"\":5,\"\"060371081021\"\":4,\"\"060372132022\"\":4,\"\"060372117011\"\":4,\"\"060372212202\"\":4,\"\"060372087101\"\":4,\"\"060372119211\"\":4,\"\"060376033022\"\":4,\"\"060378005041\"\":4,\"\"060372074001\"\":4,\"\"060375040013\"\":4,\"\"484530022071\"\":4,\"\"060377026004\"\":4,\"\"060710092021\"\":4,\"\"060830029222\"\":4,\"\"060371959031\"\":4,\"\"060730089021\"\":4,\"\"060373200001\"\":4,\"\"060372122042\"\":4,\"\"060373203004\"\":4,\"\"060372718011\"\":4,\"\"060372114101\"\":4,\"\"060374806004\"\":4,\"\"060375320022\"\":4,\"\"060372033001\"\":4,\"\"060371911201\"\":4,\"\"060372652021\"\":4,\"\"060372134011\"\":4,\"\"060372118031\"\":4,\"\"060372126101\"\":4,\"\"060375301014\"\":4,\"\"060372118042\"\":4,\"\"060371432001\"\":4,\"\"131350505421\"\":4,\"\"060372122022\"\":4,\"\"120110421002\"\":4,\"\"060372313002\"\":4,\"\"060372145021\"\":4,\"\"060377002001\"\":4,\"\"060372132012\"\":4,\"\"120110405022\"\":4,\"\"060371924201\"\":4,\"\"060372111202\"\":4,\"\"060371897021\"\":4,\"\"060371905101\"\":4,\"\"060372117013\"\":4}</th>\n",
              "      <td>26</td>\n",
              "    </tr>\n",
              "    <tr>\n",
              "      <th>{\"\"060372653011\"\":12,\"\"061110014011\"\":6,\"\"060371349051\"\":6,\"\"060372652021\"\":6}</th>\n",
              "      <td>26</td>\n",
              "    </tr>\n",
              "  </tbody>\n",
              "</table>\n",
              "</div><br><label><b>dtype:</b> int64</label>"
            ]
          },
          "metadata": {},
          "execution_count": 80
        }
      ],
      "source": [
        "df['visitor_home_cbgs'].value_counts().head(20)"
      ]
    },
    {
      "cell_type": "code",
      "execution_count": null,
      "metadata": {
        "colab": {
          "base_uri": "https://localhost:8080/"
        },
        "id": "vJdyeunY-N2w",
        "outputId": "5cc0b600-9597-44ee-d848-7250578983b3"
      },
      "outputs": [
        {
          "output_type": "stream",
          "name": "stdout",
          "text": [
            "Null values: 122008\n"
          ]
        }
      ],
      "source": [
        "# 1. Check for missing or null values\n",
        "print(\"Null values:\", df['visitor_home_cbgs'].isna().sum())"
      ]
    },
    {
      "cell_type": "code",
      "execution_count": null,
      "metadata": {
        "colab": {
          "base_uri": "https://localhost:8080/"
        },
        "id": "oOtHNTQubMQX",
        "outputId": "37a8276c-3e5f-4326-a6e5-9df90e8d2dc0"
      },
      "outputs": [
        {
          "output_type": "stream",
          "name": "stdout",
          "text": [
            "Empty string entries: 0\n"
          ]
        }
      ],
      "source": [
        "# 2. Check for empty strings\n",
        "print(\"Empty string entries:\", (df['visitor_home_cbgs'].astype(str).str.strip() == '').sum())"
      ]
    },
    {
      "cell_type": "code",
      "execution_count": null,
      "metadata": {
        "colab": {
          "base_uri": "https://localhost:8080/"
        },
        "id": "kwL0z0GYAzk7",
        "outputId": "647bc0a7-6bcd-42fc-dd9e-937035eb44e0"
      },
      "outputs": [
        {
          "output_type": "stream",
          "name": "stdout",
          "text": [
            "Possibly malformed/non-JSON entries: 0\n"
          ]
        }
      ],
      "source": [
        "# 3. Count how many rows contain any alphabetic or malformed entries (not JSON-like)\n",
        "malformed = df['visitor_home_cbgs'].dropna().apply(lambda x: not x.strip().startswith('{'))\n",
        "print(\"Possibly malformed/non-JSON entries:\", malformed.sum())"
      ]
    },
    {
      "cell_type": "code",
      "execution_count": null,
      "metadata": {
        "colab": {
          "base_uri": "https://localhost:8080/"
        },
        "id": "xSLIKscbAzU4",
        "outputId": "77764bfc-df82-4321-ad5a-edd9f2b9d0fb"
      },
      "outputs": [
        {
          "output_type": "stream",
          "name": "stdout",
          "text": [
            "Top 30 most common values:\n",
            "visitor_home_cbgs\n",
            "{\"\"060372679011\"\":4}                                                                                                                                                                                                                                                                                                                                                                                                                                                                                                                                                                                                                                                                                                                                                                                                                                                                                                                                                                                                                                                                         207\n",
            "{\"\"060372077101\"\":4}                                                                                                                                                                                                                                                                                                                                                                                                                                                                                                                                                                                                                                                                                                                                                                                                                                                                                                                                                                                                                                                                         206\n",
            "{\"\"060372317201\"\":4,\"\"060376038011\"\":4,\"\"060710013053\"\":4,\"\"060371314002\"\":4,\"\"060371132372\"\":4,\"\"150030037002\"\":4,\"\"060790117013\"\":4,\"\"060710097155\"\":4,\"\"500070008001\"\":4,\"\"060376505012\"\":4,\"\"060590524284\"\":4,\"\"060372071011\"\":4,\"\"060372781021\"\":4,\"\"060590992022\"\":4,\"\"060610206024\"\":4,\"\"060373025053\"\":4,\"\"060371861003\"\":4,\"\"060372360004\"\":4,\"\"060376200022\"\":4,\"\"060710092013\"\":4,\"\"060376014022\"\":4,\"\"060376020022\"\":4,\"\"060371371042\"\":4,\"\"060371081021\"\":4,\"\"060372780011\"\":4,\"\"060376039006\"\":4,\"\"060376200013\"\":4,\"\"060376021031\"\":4,\"\"060376025072\"\":4,\"\"060372766032\"\":4,\"\"060372374012\"\":4,\"\"060376013031\"\":4,\"\"060372766042\"\":4,\"\"150030003021\"\":4,\"\"060377018011\"\":4,\"\"060375311021\"\":4,\"\"060376012023\"\":4}                                                                                                                                                                                                                                                                                                                                                             167\n",
            "{\"\"060379800281\"\":4}                                                                                                                                                                                                                                                                                                                                                                                                                                                                                                                                                                                                                                                                                                                                                                                                                                                                                                                                                                                                                                                                         147\n",
            "{\"\"060372075021\"\":4}                                                                                                                                                                                                                                                                                                                                                                                                                                                                                                                                                                                                                                                                                                                                                                                                                                                                                                                                                                                                                                                                         108\n",
            "{\"\"060372364002\"\":20}                                                                                                                                                                                                                                                                                                                                                                                                                                                                                                                                                                                                                                                                                                                                                                                                                                                                                                                                                                                                                                                                         96\n",
            "{\"\"060372060323\"\":12,\"\"060372124101\"\":4,\"\"060372127021\"\":4,\"\"060372118031\"\":4,\"\"060372126101\"\":4,\"\"484530022071\"\":4,\"\"060375545122\"\":4,\"\"060372062002\"\":4,\"\"060372123041\"\":4,\"\"060375409011\"\":4,\"\"060372079001\"\":4,\"\"060372124201\"\":4,\"\"060375303022\"\":4,\"\"060590756044\"\":4,\"\"060377008021\"\":4,\"\"060372124102\"\":4,\"\"060590868031\"\":4,\"\"060372121012\"\":4,\"\"060376022005\"\":4,\"\"060591105004\"\":4}                                                                                                                                                                                                                                                                                                                                                                                                                                                                                                                                                                                                                                                                                                80\n",
            "{\"\"060374027031\"\":5,\"\"060372118031\"\":5,\"\"060371915003\"\":5,\"\"060590756044\"\":4,\"\"060375545122\"\":4,\"\"060372062002\"\":4,\"\"060372126201\"\":4,\"\"060372124201\"\":4}                                                                                                                                                                                                                                                                                                                                                                                                                                                                                                                                                                                                                                                                                                                                                                                                                                                                                                                                     59\n",
            "{\"\"060372079001\"\":4}                                                                                                                                                                                                                                                                                                                                                                                                                                                                                                                                                                                                                                                                                                                                                                                                                                                                                                                                                                                                                                                                          47\n",
            "{\"\"CA:35202113\"\":4,\"\"060374033212\"\":4,\"\"060590875044\"\":4,\"\"060378003282\"\":4,\"\"240217676002\"\":4}                                                                                                                                                                                                                                                                                                                                                                                                                                                                                                                                                                                                                                                                                                                                                                                                                                                                                                                                                                                               35\n",
            "{\"\"060372077101\"\":12,\"\"060373107012\"\":12,\"\"060371048221\"\":12,\"\"060372679011\"\":12,\"\"060379106021\"\":12,\"\"530350913022\"\":12,\"\"060375401013\"\":12,\"\"060376012022\"\":12,\"\"060371096031\"\":12,\"\"060371834011\"\":12,\"\"120950152021\"\":12,\"\"060590750022\"\":12,\"\"120860199005\"\":12,\"\"060650452242\"\":12}                                                                                                                                                                                                                                                                                                                                                                                                                                                                                                                                                                                                                                                                                                                                                                                                     34\n",
            "{\"\"060371862011\"\":48,\"\"060371060201\"\":33,\"\"060371810004\"\":33,\"\"060371834022\"\":24,\"\"060373018013\"\":24,\"\"060371864032\"\":10,\"\"060371899041\"\":10,\"\"060290031235\"\":10,\"\"060372075021\"\":10,\"\"060371815002\"\":10,\"\"060371832223\"\":10,\"\"060372086101\"\":10,\"\"060374049022\"\":10,\"\"060373021031\"\":10,\"\"060372397011\"\":10,\"\"060374814022\"\":10,\"\"060373022012\"\":5,\"\"060375041021\"\":5,\"\"360110414001\"\":5,\"\"060372643013\"\":5,\"\"060371810003\"\":5,\"\"060371852031\"\":5,\"\"060371835202\"\":5,\"\"060375407002\"\":5,\"\"170978614041\"\":5,\"\"060790109012\"\":5,\"\"060590626402\"\":5,\"\"060371831031\"\":5,\"\"060371815003\"\":5,\"\"060374804003\"\":5,\"\"060373020022\"\":5,\"\"060372111221\"\":5,\"\"060374047032\"\":5,\"\"060371958032\"\":5,\"\"060373008001\"\":5,\"\"060371374022\"\":5,\"\"060590994121\"\":5,\"\"060371913011\"\":5,\"\"060371871011\"\":5,\"\"060372086203\"\":5,\"\"060373021043\"\":5,\"\"060372083023\"\":5,\"\"060373009011\"\":5,\"\"060371816001\"\":5,\"\"060371831012\"\":5}                                                                                                                                                                                      32\n",
            "{\"\"060371901002\"\":4}                                                                                                                                                                                                                                                                                                                                                                                                                                                                                                                                                                                                                                                                                                                                                                                                                                                                                                                                                                                                                                                                          31\n",
            "{\"\"060372077101\"\":14,\"\"060372092001\"\":9,\"\"060374602005\"\":4,\"\"060372132011\"\":4,\"\"060372123031\"\":4,\"\"060372193001\"\":4,\"\"060710020331\"\":4,\"\"240317006062\"\":4,\"\"060374324011\"\":4,\"\"060372060311\"\":4,\"\"060372118021\"\":4,\"\"060372281002\"\":4,\"\"060372167003\"\":4,\"\"060710109023\"\":4,\"\"060372321201\"\":4,\"\"110010009011\"\":4,\"\"220510244002\"\":4,\"\"060590870012\"\":4,\"\"060372643013\"\":4,\"\"060730191013\"\":4,\"\"390351801021\"\":4,\"\"471579801001\"\":4,\"\"060372124201\"\":4,\"\"060371012102\"\":4,\"\"060590999023\"\":4,\"\"180290803003\"\":4,\"\"060374306001\"\":4,\"\"060372672002\"\":4,\"\"310790013001\"\":4,\"\"060376013024\"\":4,\"\"060730091013\"\":4,\"\"040131042021\"\":4,\"\"390610213033\"\":4}                                                                                                                                                                                                                                                                                                                                                                                                                                         31\n",
            "{\"\"060372149021\"\":4}                                                                                                                                                                                                                                                                                                                                                                                                                                                                                                                                                                                                                                                                                                                                                                                                                                                                                                                                                                                                                                                                          30\n",
            "{\"\"CA:35202113\"\":4,\"\"040190004001\"\":4}                                                                                                                                                                                                                                                                                                                                                                                                                                                                                                                                                                                                                                                                                                                                                                                                                                                                                                                                                                                                                                                        29\n",
            "{\"\"060372653011\"\":4}                                                                                                                                                                                                                                                                                                                                                                                                                                                                                                                                                                                                                                                                                                                                                                                                                                                                                                                                                                                                                                                                          27\n",
            "{\"\"060372092001\"\":8,\"\"060372077101\"\":4,\"\"060371014002\"\":4,\"\"240317006062\"\":4,\"\"060372087101\"\":4,\"\"060374602005\"\":4,\"\"060372073022\"\":4,\"\"060372316004\"\":4,\"\"060371012102\"\":4,\"\"060372264202\"\":4,\"\"060730091013\"\":4,\"\"060372060311\"\":4,\"\"060375351012\"\":4,\"\"180290803003\"\":4,\"\"060377009011\"\":4,\"\"390351801021\"\":4,\"\"060590999023\"\":4,\"\"060710020331\"\":4,\"\"060590870012\"\":4,\"\"060371815002\"\":4,\"\"060379200373\"\":4,\"\"060372360004\"\":4,\"\"060372094021\"\":4,\"\"060372079001\"\":4,\"\"060372321201\"\":4,\"\"220510244002\"\":4,\"\"060372124201\"\":4,\"\"060372118022\"\":4,\"\"471579801001\"\":4,\"\"060374074001\"\":4,\"\"310790013001\"\":4,\"\"060372093002\"\":4,\"\"060372672002\"\":4,\"\"060375303022\"\":4,\"\"320030023021\"\":4,\"\"060372071011\"\":4,\"\"061010505041\"\":4,\"\"060377008021\"\":4,\"\"320030067001\"\":4,\"\"060610210033\"\":4,\"\"110010009011\"\":4,\"\"390610213033\"\":4,\"\"060372060323\"\":4,\"\"060379800281\"\":4,\"\"060376024033\"\":4,\"\"060372291001\"\":4,\"\"040131042021\"\":4,\"\"060374324011\"\":4}                                                                                                                                             27\n",
            "{\"\"060372118021\"\":12,\"\"060372118041\"\":12,\"\"060372117042\"\":8,\"\"060372125021\"\":7,\"\"060372117031\"\":5,\"\"060371081021\"\":4,\"\"060372132022\"\":4,\"\"060372117011\"\":4,\"\"060372212202\"\":4,\"\"060372087101\"\":4,\"\"060372119211\"\":4,\"\"060376033022\"\":4,\"\"060378005041\"\":4,\"\"060372074001\"\":4,\"\"060375040013\"\":4,\"\"484530022071\"\":4,\"\"060377026004\"\":4,\"\"060710092021\"\":4,\"\"060830029222\"\":4,\"\"060371959031\"\":4,\"\"060730089021\"\":4,\"\"060373200001\"\":4,\"\"060372122042\"\":4,\"\"060373203004\"\":4,\"\"060372718011\"\":4,\"\"060372114101\"\":4,\"\"060374806004\"\":4,\"\"060375320022\"\":4,\"\"060372033001\"\":4,\"\"060371911201\"\":4,\"\"060372652021\"\":4,\"\"060372134011\"\":4,\"\"060372118031\"\":4,\"\"060372126101\"\":4,\"\"060375301014\"\":4,\"\"060372118042\"\":4,\"\"060371432001\"\":4,\"\"131350505421\"\":4,\"\"060372122022\"\":4,\"\"120110421002\"\":4,\"\"060372313002\"\":4,\"\"060372145021\"\":4,\"\"060377002001\"\":4,\"\"060372132012\"\":4,\"\"120110405022\"\":4,\"\"060371924201\"\":4,\"\"060372111202\"\":4,\"\"060371897021\"\":4,\"\"060371905101\"\":4,\"\"060372117013\"\":4}                                                                                                     26\n",
            "{\"\"060372653011\"\":12,\"\"061110014011\"\":6,\"\"060371349051\"\":6,\"\"060372652021\"\":6}                                                                                                                                                                                                                                                                                                                                                                                                                                                                                                                                                                                                                                                                                                                                                                                                                                                                                                                                                                                                                26\n",
            "{\"\"060372126201\"\":10,\"\"060372328002\"\":10}                                                                                                                                                                                                                                                                                                                                                                                                                                                                                                                                                                                                                                                                                                                                                                                                                                                                                                                                                                                                                                                     24\n",
            "{\"\"060372702003\"\":7,\"\"060371957102\"\":7,\"\"060590639031\"\":4,\"\"060372626011\"\":4,\"\"060372676003\"\":4,\"\"060372111203\"\":4,\"\"060372133201\"\":4,\"\"060376040023\"\":4,\"\"060372675012\"\":4}                                                                                                                                                                                                                                                                                                                                                                                                                                                                                                                                                                                                                                                                                                                                                                                                                                                                                                                  23\n",
            "{\"\"060371910002\"\":6,\"\"060650430071\"\":6,\"\"060372653051\"\":6,\"\"060376030061\"\":6,\"\"060650307001\"\":6,\"\"060730176013\"\":6,\"\"060377006001\"\":6,\"\"060530107012\"\":6,\"\"060373117002\"\":6}                                                                                                                                                                                                                                                                                                                                                                                                                                                                                                                                                                                                                                                                                                                                                                                                                                                                                                                  21\n",
            "{\"\"040190028032\"\":11,\"\"060371112023\"\":6}                                                                                                                                                                                                                                                                                                                                                                                                                                                                                                                                                                                                                                                                                                                                                                                                                                                                                                                                                                                                                                                      20\n",
            "{\"\"060372167003\"\":4,\"\"060374310014\"\":4,\"\"060372145023\"\":4,\"\"060372134023\"\":4,\"\"060372146002\"\":4}                                                                                                                                                                                                                                                                                                                                                                                                                                                                                                                                                                                                                                                                                                                                                                                                                                                                                                                                                                                              19\n",
            "{\"\"060379800281\"\":4,\"\"120860001272\"\":4}                                                                                                                                                                                                                                                                                                                                                                                                                                                                                                                                                                                                                                                                                                                                                                                                                                                                                                                                                                                                                                                       19\n",
            "{\"\"060372772002\"\":4}                                                                                                                                                                                                                                                                                                                                                                                                                                                                                                                                                                                                                                                                                                                                                                                                                                                                                                                                                                                                                                                                          18\n",
            "{\"\"060372077101\"\":95,\"\"060372079001\"\":16,\"\"060372063003\"\":10,\"\"060372075021\"\":6,\"\"060372772002\"\":4,\"\"060372073022\"\":4,\"\"060372060321\"\":4,\"\"060372111212\"\":4,\"\"060375329004\"\":4,\"\"060372038004\"\":4,\"\"060371851002\"\":4,\"\"060014035022\"\":4,\"\"060371232051\"\":4,\"\"060871004001\"\":4,\"\"060373018022\"\":4,\"\"060376032002\"\":4,\"\"060372270101\"\":4,\"\"060371372011\"\":4,\"\"060371236013\"\":4,\"\"060372071011\"\":4,\"\"060372060323\"\":4,\"\"060372075011\"\":4,\"\"060372374012\"\":4,\"\"060377029011\"\":4,\"\"060374303025\"\":4,\"\"061110084012\"\":4,\"\"060730203051\"\":4,\"\"060374335041\"\":4,\"\"060372080001\"\":4,\"\"060590878023\"\":4,\"\"060375321012\"\":4,\"\"060372327001\"\":4,\"\"060372287101\"\":4,\"\"060372247001\"\":4,\"\"471579801001\"\":4,\"\"060376031012\"\":4,\"\"420171045061\"\":4,\"\"060375352001\"\":4,\"\"170310610001\"\":4,\"\"060372084011\"\":4,\"\"060375722024\"\":4,\"\"060377004001\"\":4,\"\"120110904013\"\":4,\"\"060372086102\"\":4,\"\"360810775003\"\":4,\"\"060374085041\"\":4,\"\"060375405012\"\":4,\"\"150030019032\"\":4,\"\"060375321022\"\":4,\"\"060372328002\"\":4,\"\"060590761011\"\":4,\"\"060371204003\"\":4,\"\"060374086301\"\":4,\"\"060375422002\"\":4,\"\"060372132012\"\":4}     16\n",
            "{\"\"060372151011\"\":4,\"\"060650444023\"\":4,\"\"060710008083\"\":4,\"\"060374006021\"\":4,\"\"060372376001\"\":4}                                                                                                                                                                                                                                                                                                                                                                                                                                                                                                                                                                                                                                                                                                                                                                                                                                                                                                                                                                                              15\n",
            "{\"\"120860001272\"\":4}                                                                                                                                                                                                                                                                                                                                                                                                                                                                                                                                                                                                                                                                                                                                                                                                                                                                                                                                                                                                                                                                          14\n",
            "Name: count, dtype: int64\n"
          ]
        }
      ],
      "source": [
        "# 4. Get the unique non-null values and their counts\n",
        "value_counts = df['visitor_home_cbgs'].value_counts(dropna=True)\n",
        "print(\"Top 30 most common values:\")\n",
        "print(value_counts.head(30))"
      ]
    },
    {
      "cell_type": "code",
      "execution_count": null,
      "metadata": {
        "colab": {
          "base_uri": "https://localhost:8080/"
        },
        "id": "kFEUXuQZAzFn",
        "outputId": "c935f5d3-1d58-4e3c-cc5c-6ac8460bd448"
      },
      "outputs": [
        {
          "output_type": "stream",
          "name": "stdout",
          "text": [
            "\n",
            "Sample entries:\n",
            "['{\"\"120730014022\"\":4,\"\"420034511021\"\":4,\"\"060371197003\"\":4,\"\"361031461052\"\":4,\"\"060372151021\"\":4,\"\"060710031023\"\":4,\"\"120990038003\"\":4,\"\"320030036201\"\":4}', '{\"\"060372216021\"\":14}', '{\"\"060372411201\"\":9,\"\"CA:59153249\"\":4,\"\"060650301043\"\":4,\"\"060379800281\"\":4}', '{\"\"060372395012\"\":10}', '{\"\"060372060323\"\":12,\"\"060372124101\"\":4,\"\"060372127021\"\":4,\"\"060372118031\"\":4,\"\"060372126101\"\":4,\"\"484530022071\"\":4,\"\"060375545122\"\":4,\"\"060372062002\"\":4,\"\"060372123041\"\":4,\"\"060375409011\"\":4,\"\"060372079001\"\":4,\"\"060372124201\"\":4,\"\"060375303022\"\":4,\"\"060590756044\"\":4,\"\"060377008021\"\":4,\"\"060372124102\"\":4,\"\"060590868031\"\":4,\"\"060372121012\"\":4,\"\"060376022005\"\":4,\"\"060591105004\"\":4}']\n"
          ]
        }
      ],
      "source": [
        "# 5. Sample a few entries to inspect structure\n",
        "print(\"\\nSample entries:\")\n",
        "print(df['visitor_home_cbgs'].dropna().sample(5, random_state=42).tolist())"
      ]
    },
    {
      "cell_type": "code",
      "execution_count": null,
      "metadata": {
        "id": "uRlEaj4AAy3Y"
      },
      "outputs": [],
      "source": [
        "# Filter the rows where visitor_home_cbgs appears \"null\"\n",
        "null_rows = df[df['visitor_home_cbgs'].isnull()]"
      ]
    },
    {
      "cell_type": "code",
      "execution_count": null,
      "metadata": {
        "colab": {
          "base_uri": "https://localhost:8080/"
        },
        "id": "eTgz5ub8Aypg",
        "outputId": "0a2d7090-67af-463a-aae2-4711042f21ea"
      },
      "outputs": [
        {
          "output_type": "stream",
          "name": "stdout",
          "text": [
            "Null rows count: 122008\n"
          ]
        }
      ],
      "source": [
        "# See how many there are\n",
        "print(\"Null rows count:\", null_rows.shape[0])"
      ]
    },
    {
      "cell_type": "code",
      "execution_count": null,
      "metadata": {
        "colab": {
          "base_uri": "https://localhost:8080/"
        },
        "id": "LzroSXHrAybp",
        "outputId": "132edd6c-8f26-413d-96d7-2b8005a56dd3"
      },
      "outputs": [
        {
          "output_type": "stream",
          "name": "stdout",
          "text": [
            "\n",
            "Sample of 'visitor_home_cbgs' values in null rows:\n",
            "[nan]\n"
          ]
        }
      ],
      "source": [
        "# Check the first few entries\n",
        "print(\"\\nSample of 'visitor_home_cbgs' values in null rows:\")\n",
        "print(null_rows['visitor_home_cbgs'].unique()[:30])  # Show unique entries (first 10)"
      ]
    },
    {
      "cell_type": "code",
      "execution_count": null,
      "metadata": {
        "colab": {
          "base_uri": "https://localhost:8080/"
        },
        "id": "y_wupzB-DL2_",
        "outputId": "f28e9f7e-90ba-4eef-97ad-ac3e068299db"
      },
      "outputs": [
        {
          "output_type": "stream",
          "name": "stdout",
          "text": [
            "\n",
            "Data types of null entries:\n",
            "visitor_home_cbgs\n",
            "<class 'float'>    122008\n",
            "Name: count, dtype: int64\n"
          ]
        }
      ],
      "source": [
        "# Check datatype of these null values (sometimes it’s actually a string like 'nan')\n",
        "print(\"\\nData types of null entries:\")\n",
        "print(null_rows['visitor_home_cbgs'].apply(type).value_counts())"
      ]
    },
    {
      "cell_type": "code",
      "execution_count": null,
      "metadata": {
        "colab": {
          "base_uri": "https://localhost:8080/"
        },
        "id": "ywM8yqSRDLeu",
        "outputId": "4bcbf25a-faff-4fd9-89a5-e8f52af07288"
      },
      "outputs": [
        {
          "output_type": "stream",
          "name": "stdout",
          "text": [
            "[nan]\n"
          ]
        }
      ],
      "source": [
        "# Just print the unique values in the null-marked rows\n",
        "print(null_rows['visitor_home_cbgs'].unique())"
      ]
    },
    {
      "cell_type": "code",
      "execution_count": null,
      "metadata": {
        "id": "sF8hCoyLDLHx"
      },
      "outputs": [],
      "source": [
        "# Filter only non-null entries\n",
        "valid_cbgs = df['visitor_home_cbgs'].dropna()"
      ]
    },
    {
      "cell_type": "code",
      "execution_count": null,
      "metadata": {
        "id": "LPlCvHdbDKxI"
      },
      "outputs": [],
      "source": [
        "import ast\n",
        "from collections import Counter\n",
        "\n",
        "# Convert stringified dicts to actual dicts and flatten all CBGs\n",
        "cbg_counts = Counter()\n",
        "for row in valid_cbgs:\n",
        "    try:\n",
        "        parsed = ast.literal_eval(row)\n",
        "        cbg_counts.update(parsed)\n",
        "    except:\n",
        "        continue  # skip malformed rows, though we already checked this should be safe\n"
      ]
    },
    {
      "cell_type": "code",
      "execution_count": null,
      "metadata": {
        "colab": {
          "base_uri": "https://localhost:8080/"
        },
        "id": "KgGhxTVeGXqe",
        "outputId": "4f7e5a92-2187-46b6-d80d-c5057dff50db"
      },
      "outputs": [
        {
          "output_type": "stream",
          "name": "stdout",
          "text": [
            "Total unique CBGs: 0\n",
            "\n",
            "Top 10 most common CBGs:\n",
            "Empty DataFrame\n",
            "Columns: [CBG, Visit_Count]\n",
            "Index: []\n"
          ]
        }
      ],
      "source": [
        "# Convert to DataFrame for inspection\n",
        "cbg_df = pd.DataFrame(cbg_counts.items(), columns=['CBG', 'Visit_Count'])\n",
        "cbg_df = cbg_df.sort_values(by='Visit_Count', ascending=False)\n",
        "\n",
        "# Summary\n",
        "print(\"Total unique CBGs:\", cbg_df.shape[0])\n",
        "print(\"\\nTop 10 most common CBGs:\")\n",
        "print(cbg_df.head(10))"
      ]
    },
    {
      "cell_type": "code",
      "execution_count": null,
      "metadata": {
        "colab": {
          "base_uri": "https://localhost:8080/"
        },
        "id": "C_fh0XOrGXKt",
        "outputId": "0c502061-3075-4086-d2af-ac84308ce88f"
      },
      "outputs": [
        {
          "output_type": "stream",
          "name": "stdout",
          "text": [
            "Total parsed CBGs: 2044\n",
            "               CBG  Visit_Count\n",
            "14    060379800281          683\n",
            "1509  060371012101          457\n",
            "531   060372167003          443\n",
            "956   060372765001          422\n",
            "317   060372756021          311\n",
            "147   060372077101          287\n",
            "422   060372111202          260\n",
            "1745  060133551122          247\n",
            "1744  320030069002          247\n",
            "1510  060379800211          238\n"
          ]
        }
      ],
      "source": [
        "import re\n",
        "\n",
        "# Get non-null rows\n",
        "valid_cbgs = df['visitor_home_cbgs'].dropna().head(500)\n",
        "\n",
        "cbg_counts = Counter()\n",
        "\n",
        "for row in valid_cbgs:\n",
        "    try:\n",
        "        # Fix the quote formatting (remove double double-quotes)\n",
        "        cleaned_row = row.replace('\"\"', '\"')\n",
        "        parsed = ast.literal_eval(cleaned_row)\n",
        "        cbg_counts.update(parsed)\n",
        "    except Exception as e:\n",
        "        print(\"Error:\", e)\n",
        "        print(\"Row:\", row)\n",
        "        continue\n",
        "\n",
        "# Show top results\n",
        "cbg_df = pd.DataFrame(cbg_counts.items(), columns=['CBG', 'Visit_Count']).sort_values(by='Visit_Count', ascending=False)\n",
        "\n",
        "print(\"Total parsed CBGs:\", cbg_df.shape[0])\n",
        "print(cbg_df.head(10))"
      ]
    },
    {
      "cell_type": "code",
      "execution_count": null,
      "metadata": {
        "colab": {
          "base_uri": "https://localhost:8080/",
          "height": 607
        },
        "id": "ecj4izEPGWuX",
        "outputId": "1fc432e9-79ed-41f1-ab30-1d10976e00d9"
      },
      "outputs": [
        {
          "output_type": "display_data",
          "data": {
            "text/plain": [
              "<Figure size 1000x600 with 1 Axes>"
            ],
            "image/png": "[encoded data removed]"
          },
          "metadata": {}
        }
      ],
      "source": [
        "import pandas as pd\n",
        "import json\n",
        "import matplotlib.pyplot as plt\n",
        "from collections import defaultdict\n",
        "\n",
        "# Step 1: Load the dataset\n",
        "df = pd.read_csv('LA_filtered.csv')\n",
        "\n",
        "# Step 2: Filter out null visitor_home_cbgs\n",
        "non_null_df = df[df['visitor_home_cbgs'].notnull()]\n",
        "\n",
        "# Step 3: Parse the JSON-like strings into CBG counts\n",
        "cbg_visit_counts = defaultdict(int)\n",
        "\n",
        "for entry in non_null_df['visitor_home_cbgs']:\n",
        "    try:\n",
        "        cleaned = entry.replace('\"\"', '\"')  # Replace double-double quotes\n",
        "        parsed = json.loads(cleaned)\n",
        "        for cbg, count in parsed.items():\n",
        "            cbg_visit_counts[cbg] += count\n",
        "    except Exception as e:\n",
        "        print(f\"Skipping entry due to error: {e}\")\n",
        "\n",
        "# Step 4: Create a DataFrame from the visit counts\n",
        "cbg_df = pd.DataFrame(cbg_visit_counts.items(), columns=['CBG', 'Visit_Count'])\n",
        "cbg_df = cbg_df.sort_values(by='Visit_Count', ascending=False)\n",
        "\n",
        "# Step 5: Plot histogram of CBG visit frequencies\n",
        "plt.figure(figsize=(10, 6))\n",
        "plt.hist(cbg_df['Visit_Count'], bins=50, edgecolor='black', log=True)\n",
        "plt.title(\"Distribution of Visit Counts per CBG (Log Scale)\")\n",
        "plt.xlabel(\"Visit Count\")\n",
        "plt.ylabel(\"Number of CBGs\")\n",
        "plt.grid(True)\n",
        "plt.tight_layout()\n",
        "plt.show()"
      ]
    },
    {
      "cell_type": "code",
      "execution_count": null,
      "metadata": {
        "id": "PQr_AmJ0GWTl"
      },
      "outputs": [],
      "source": [
        "import pandas as pd\n",
        "import json\n",
        "from collections import defaultdict\n",
        "\n",
        "cbg_counts = defaultdict(int)\n",
        "\n",
        "# Loop through non-null visitor_home_cbgs values\n",
        "for raw in df['visitor_home_cbgs'].dropna():\n",
        "    try:\n",
        "        parsed = json.loads(raw)\n",
        "        for cbg, count in parsed.items():\n",
        "            cbg_counts[cbg] += int(count)\n",
        "    except Exception:\n",
        "        continue  # skip any malformed rows\n",
        "\n",
        "# Convert to DataFrame\n",
        "cbg_visit_df = pd.DataFrame(list(cbg_counts.items()), columns=[\"CBG\", \"Visit_Count\"])"
      ]
    },
    {
      "cell_type": "code",
      "execution_count": null,
      "metadata": {
        "colab": {
          "base_uri": "https://localhost:8080/"
        },
        "id": "Nof6v56yGV5J",
        "outputId": "ddafc1b8-300f-4ac7-f151-e476a04c035c"
      },
      "outputs": [
        {
          "output_type": "stream",
          "name": "stdout",
          "text": [
            "Non-null rows in original column: 6900\n",
            "Total CBG-level visit counts after parsing: 0\n"
          ]
        }
      ],
      "source": [
        "# Step 1: Non-null rows\n",
        "non_null_total = df['visitor_home_cbgs'].notnull().sum()\n",
        "\n",
        "# Step 2: Parsed visits from flattened data\n",
        "parsed_total = cbg_visit_df['Visit_Count'].sum()\n",
        "\n",
        "# Step 3: Compare\n",
        "print(\"Non-null rows in original column:\", non_null_total)\n",
        "print(\"Total CBG-level visit counts after parsing:\", parsed_total)"
      ]
    },
    {
      "cell_type": "code",
      "execution_count": null,
      "metadata": {
        "id": "wAihtTPDGVf_"
      },
      "outputs": [],
      "source": [
        "from collections import defaultdict\n",
        "import json\n",
        "\n",
        "cbg_counts = defaultdict(int)\n",
        "\n",
        "for raw in df['visitor_home_cbgs'].dropna():\n",
        "    try:\n",
        "        # Fix escaped double quotes\n",
        "        clean_raw = raw.replace('\"\"', '\"').strip('\"')\n",
        "        parsed = json.loads(clean_raw)\n",
        "        for cbg, count in parsed.items():\n",
        "            cbg_counts[cbg] += int(count)\n",
        "    except Exception as e:\n",
        "        continue  # skip bad rows\n",
        "\n",
        "cbg_visit_df = pd.DataFrame(list(cbg_counts.items()), columns=[\"CBG\", \"Visit_Count\"])"
      ]
    },
    {
      "cell_type": "code",
      "execution_count": null,
      "metadata": {
        "colab": {
          "base_uri": "https://localhost:8080/"
        },
        "id": "J7p7CXFMseAs",
        "outputId": "ff842a85-9bb5-4e6d-8b5a-5211c64b99ed"
      },
      "outputs": [
        {
          "output_type": "stream",
          "name": "stdout",
          "text": [
            "✅ Total CBG-level visit counts after parsing: 589463\n"
          ]
        }
      ],
      "source": [
        "parsed_total = cbg_visit_df['Visit_Count'].sum()\n",
        "print(\"✅ Total CBG-level visit counts after parsing:\", parsed_total)"
      ]
    },
    {
      "cell_type": "code",
      "execution_count": null,
      "metadata": {
        "colab": {
          "base_uri": "https://localhost:8080/",
          "height": 335
        },
        "id": "IRef-OdosdTf",
        "outputId": "3dcc019c-4210-45ec-b475-a4b8ec1a6a9c"
      },
      "outputs": [
        {
          "output_type": "execute_result",
          "data": {
            "text/plain": [
              "count    7356.000000\n",
              "mean       80.133632\n",
              "std       223.029175\n",
              "min         4.000000\n",
              "25%         9.000000\n",
              "50%        23.000000\n",
              "75%        72.000000\n",
              "max      7814.000000\n",
              "Name: Visit_Count, dtype: float64"
            ],
            "text/html": [
              "<div>\n",
              "<style scoped>\n",
              "    .dataframe tbody tr th:only-of-type {\n",
              "        vertical-align: middle;\n",
              "    }\n",
              "\n",
              "    .dataframe tbody tr th {\n",
              "        vertical-align: top;\n",
              "    }\n",
              "\n",
              "    .dataframe thead th {\n",
              "        text-align: right;\n",
              "    }\n",
              "</style>\n",
              "<table border=\"1\" class=\"dataframe\">\n",
              "  <thead>\n",
              "    <tr style=\"text-align: right;\">\n",
              "      <th></th>\n",
              "      <th>Visit_Count</th>\n",
              "    </tr>\n",
              "  </thead>\n",
              "  <tbody>\n",
              "    <tr>\n",
              "      <th>count</th>\n",
              "      <td>7356.000000</td>\n",
              "    </tr>\n",
              "    <tr>\n",
              "      <th>mean</th>\n",
              "      <td>80.133632</td>\n",
              "    </tr>\n",
              "    <tr>\n",
              "      <th>std</th>\n",
              "      <td>223.029175</td>\n",
              "    </tr>\n",
              "    <tr>\n",
              "      <th>min</th>\n",
              "      <td>4.000000</td>\n",
              "    </tr>\n",
              "    <tr>\n",
              "      <th>25%</th>\n",
              "      <td>9.000000</td>\n",
              "    </tr>\n",
              "    <tr>\n",
              "      <th>50%</th>\n",
              "      <td>23.000000</td>\n",
              "    </tr>\n",
              "    <tr>\n",
              "      <th>75%</th>\n",
              "      <td>72.000000</td>\n",
              "    </tr>\n",
              "    <tr>\n",
              "      <th>max</th>\n",
              "      <td>7814.000000</td>\n",
              "    </tr>\n",
              "  </tbody>\n",
              "</table>\n",
              "</div><br><label><b>dtype:</b> float64</label>"
            ]
          },
          "metadata": {},
          "execution_count": 100
        }
      ],
      "source": [
        "cbg_visit_df['Visit_Count'].describe()"
      ]
    },
    {
      "cell_type": "code",
      "execution_count": null,
      "metadata": {
        "colab": {
          "base_uri": "https://localhost:8080/",
          "height": 363
        },
        "id": "y5HQFnI5scmP",
        "outputId": "49480291-3ce9-46ab-9d26-c37adf48518b"
      },
      "outputs": [
        {
          "output_type": "execute_result",
          "data": {
            "text/plain": [
              "               CBG  Visit_Count\n",
              "7338  060590423101            4\n",
              "7337  060379011011            4\n",
              "7334  060375731001            4\n",
              "3957  051190037131            4\n",
              "7326  060014446011            4\n",
              "7325  060590994112            4\n",
              "7324  060710074034            4\n",
              "7323  060710074033            4\n",
              "7306  530719203002            4\n",
              "7330  060710033023            4"
            ],
            "text/html": [
              "\n",
              "  <div id=\"df-df50040a-cf75-4ead-aff8-909f8924f3b3\" class=\"colab-df-container\">\n",
              "    <div>\n",
              "<style scoped>\n",
              "    .dataframe tbody tr th:only-of-type {\n",
              "        vertical-align: middle;\n",
              "    }\n",
              "\n",
              "    .dataframe tbody tr th {\n",
              "        vertical-align: top;\n",
              "    }\n",
              "\n",
              "    .dataframe thead th {\n",
              "        text-align: right;\n",
              "    }\n",
              "</style>\n",
              "<table border=\"1\" class=\"dataframe\">\n",
              "  <thead>\n",
              "    <tr style=\"text-align: right;\">\n",
              "      <th></th>\n",
              "      <th>CBG</th>\n",
              "      <th>Visit_Count</th>\n",
              "    </tr>\n",
              "  </thead>\n",
              "  <tbody>\n",
              "    <tr>\n",
              "      <th>7338</th>\n",
              "      <td>060590423101</td>\n",
              "      <td>4</td>\n",
              "    </tr>\n",
              "    <tr>\n",
              "      <th>7337</th>\n",
              "      <td>060379011011</td>\n",
              "      <td>4</td>\n",
              "    </tr>\n",
              "    <tr>\n",
              "      <th>7334</th>\n",
              "      <td>060375731001</td>\n",
              "      <td>4</td>\n",
              "    </tr>\n",
              "    <tr>\n",
              "      <th>3957</th>\n",
              "      <td>051190037131</td>\n",
              "      <td>4</td>\n",
              "    </tr>\n",
              "    <tr>\n",
              "      <th>7326</th>\n",
              "      <td>060014446011</td>\n",
              "      <td>4</td>\n",
              "    </tr>\n",
              "    <tr>\n",
              "      <th>7325</th>\n",
              "      <td>060590994112</td>\n",
              "      <td>4</td>\n",
              "    </tr>\n",
              "    <tr>\n",
              "      <th>7324</th>\n",
              "      <td>060710074034</td>\n",
              "      <td>4</td>\n",
              "    </tr>\n",
              "    <tr>\n",
              "      <th>7323</th>\n",
              "      <td>060710074033</td>\n",
              "      <td>4</td>\n",
              "    </tr>\n",
              "    <tr>\n",
              "      <th>7306</th>\n",
              "      <td>530719203002</td>\n",
              "      <td>4</td>\n",
              "    </tr>\n",
              "    <tr>\n",
              "      <th>7330</th>\n",
              "      <td>060710033023</td>\n",
              "      <td>4</td>\n",
              "    </tr>\n",
              "  </tbody>\n",
              "</table>\n",
              "</div>\n",
              "    <div class=\"colab-df-buttons\">\n",
              "\n",
              "  <div class=\"colab-df-container\">\n",
              "    <button class=\"colab-df-convert\" onclick=\"convertToInteractive('df-df50040a-cf75-4ead-aff8-909f8924f3b3')\"\n",
              "            title=\"Convert this dataframe to an interactive table.\"\n",
              "            style=\"display:none;\">\n",
              "\n",
              "  <svg xmlns=\"http://www.w3.org/2000/svg\" height=\"24px\" viewBox=\"0 -960 960 960\">\n",
              "    <path d=\"M120-120v-720h720v720H120Zm60-500h600v-160H180v160Zm220 220h160v-160H400v160Zm0 220h160v-160H400v160ZM180-400h160v-160H180v160Zm440 0h160v-160H620v160ZM180-180h160v-160H180v160Zm440 0h160v-160H620v160Z\"/>\n",
              "  </svg>\n",
              "    </button>\n",
              "\n",
              "  <style>\n",
              "    .colab-df-container {\n",
              "      display:flex;\n",
              "      gap: 12px;\n",
              "    }\n",
              "\n",
              "    .colab-df-convert {\n",
              "      background-color: #E8F0FE;\n",
              "      border: none;\n",
              "      border-radius: 50%;\n",
              "      cursor: pointer;\n",
              "      display: none;\n",
              "      fill: #1967D2;\n",
              "      height: 32px;\n",
              "      padding: 0 0 0 0;\n",
              "      width: 32px;\n",
              "    }\n",
              "\n",
              "    .colab-df-convert:hover {\n",
              "      background-color: #E2EBFA;\n",
              "      box-shadow: 0px 1px 2px rgba(60, 64, 67, 0.3), 0px 1px 3px 1px rgba(60, 64, 67, 0.15);\n",
              "      fill: #174EA6;\n",
              "    }\n",
              "\n",
              "    .colab-df-buttons div {\n",
              "      margin-bottom: 4px;\n",
              "    }\n",
              "\n",
              "    [theme=dark] .colab-df-convert {\n",
              "      background-color: #3B4455;\n",
              "      fill: #D2E3FC;\n",
              "    }\n",
              "\n",
              "    [theme=dark] .colab-df-convert:hover {\n",
              "      background-color: #434B5C;\n",
              "      box-shadow: 0px 1px 3px 1px rgba(0, 0, 0, 0.15);\n",
              "      filter: drop-shadow(0px 1px 2px rgba(0, 0, 0, 0.3));\n",
              "      fill: #FFFFFF;\n",
              "    }\n",
              "  </style>\n",
              "\n",
              "    <script>\n",
              "      const buttonEl =\n",
              "        document.querySelector('#df-df50040a-cf75-4ead-aff8-909f8924f3b3 button.colab-df-convert');\n",
              "      buttonEl.style.display =\n",
              "        google.colab.kernel.accessAllowed ? 'block' : 'none';\n",
              "\n",
              "      async function convertToInteractive(key) {\n",
              "        const element = document.querySelector('#df-df50040a-cf75-4ead-aff8-909f8924f3b3');\n",
              "        const dataTable =\n",
              "          await google.colab.kernel.invokeFunction('convertToInteractive',\n",
              "                                                    [key], {});\n",
              "        if (!dataTable) return;\n",
              "\n",
              "        const docLinkHtml = 'Like what you see? Visit the ' +\n",
              "          '<a target=\"_blank\" href=https://colab.research.google.com/notebooks/data_table.ipynb>data table notebook</a>'\n",
              "          + ' to learn more about interactive tables.';\n",
              "        element.innerHTML = '';\n",
              "        dataTable['output_type'] = 'display_data';\n",
              "        await google.colab.output.renderOutput(dataTable, element);\n",
              "        const docLink = document.createElement('div');\n",
              "        docLink.innerHTML = docLinkHtml;\n",
              "        element.appendChild(docLink);\n",
              "      }\n",
              "    </script>\n",
              "  </div>\n",
              "\n",
              "\n",
              "    <div id=\"df-e6d234b5-7daf-4b61-919c-3ac28a97f8f9\">\n",
              "      <button class=\"colab-df-quickchart\" onclick=\"quickchart('df-e6d234b5-7daf-4b61-919c-3ac28a97f8f9')\"\n",
              "                title=\"Suggest charts\"\n",
              "                style=\"display:none;\">\n",
              "\n",
              "<svg xmlns=\"http://www.w3.org/2000/svg\" height=\"24px\"viewBox=\"0 0 24 24\"\n",
              "     width=\"24px\">\n",
              "    <g>\n",
              "        <path d=\"M19 3H5c-1.1 0-2 .9-2 2v14c0 1.1.9 2 2 2h14c1.1 0 2-.9 2-2V5c0-1.1-.9-2-2-2zM9 17H7v-7h2v7zm4 0h-2V7h2v10zm4 0h-2v-4h2v4z\"/>\n",
              "    </g>\n",
              "</svg>\n",
              "      </button>\n",
              "\n",
              "<style>\n",
              "  .colab-df-quickchart {\n",
              "      --bg-color: #E8F0FE;\n",
              "      --fill-color: #1967D2;\n",
              "      --hover-bg-color: #E2EBFA;\n",
              "      --hover-fill-color: #174EA6;\n",
              "      --disabled-fill-color: #AAA;\n",
              "      --disabled-bg-color: #DDD;\n",
              "  }\n",
              "\n",
              "  [theme=dark] .colab-df-quickchart {\n",
              "      --bg-color: #3B4455;\n",
              "      --fill-color: #D2E3FC;\n",
              "      --hover-bg-color: #434B5C;\n",
              "      --hover-fill-color: #FFFFFF;\n",
              "      --disabled-bg-color: #3B4455;\n",
              "      --disabled-fill-color: #666;\n",
              "  }\n",
              "\n",
              "  .colab-df-quickchart {\n",
              "    background-color: var(--bg-color);\n",
              "    border: none;\n",
              "    border-radius: 50%;\n",
              "    cursor: pointer;\n",
              "    display: none;\n",
              "    fill: var(--fill-color);\n",
              "    height: 32px;\n",
              "    padding: 0;\n",
              "    width: 32px;\n",
              "  }\n",
              "\n",
              "  .colab-df-quickchart:hover {\n",
              "    background-color: var(--hover-bg-color);\n",
              "    box-shadow: 0 1px 2px rgba(60, 64, 67, 0.3), 0 1px 3px 1px rgba(60, 64, 67, 0.15);\n",
              "    fill: var(--button-hover-fill-color);\n",
              "  }\n",
              "\n",
              "  .colab-df-quickchart-complete:disabled,\n",
              "  .colab-df-quickchart-complete:disabled:hover {\n",
              "    background-color: var(--disabled-bg-color);\n",
              "    fill: var(--disabled-fill-color);\n",
              "    box-shadow: none;\n",
              "  }\n",
              "\n",
              "  .colab-df-spinner {\n",
              "    border: 2px solid var(--fill-color);\n",
              "    border-color: transparent;\n",
              "    border-bottom-color: var(--fill-color);\n",
              "    animation:\n",
              "      spin 1s steps(1) infinite;\n",
              "  }\n",
              "\n",
              "  @keyframes spin {\n",
              "    0% {\n",
              "      border-color: transparent;\n",
              "      border-bottom-color: var(--fill-color);\n",
              "      border-left-color: var(--fill-color);\n",
              "    }\n",
              "    20% {\n",
              "      border-color: transparent;\n",
              "      border-left-color: var(--fill-color);\n",
              "      border-top-color: var(--fill-color);\n",
              "    }\n",
              "    30% {\n",
              "      border-color: transparent;\n",
              "      border-left-color: var(--fill-color);\n",
              "      border-top-color: var(--fill-color);\n",
              "      border-right-color: var(--fill-color);\n",
              "    }\n",
              "    40% {\n",
              "      border-color: transparent;\n",
              "      border-right-color: var(--fill-color);\n",
              "      border-top-color: var(--fill-color);\n",
              "    }\n",
              "    60% {\n",
              "      border-color: transparent;\n",
              "      border-right-color: var(--fill-color);\n",
              "    }\n",
              "    80% {\n",
              "      border-color: transparent;\n",
              "      border-right-color: var(--fill-color);\n",
              "      border-bottom-color: var(--fill-color);\n",
              "    }\n",
              "    90% {\n",
              "      border-color: transparent;\n",
              "      border-bottom-color: var(--fill-color);\n",
              "    }\n",
              "  }\n",
              "</style>\n",
              "\n",
              "      <script>\n",
              "        async function quickchart(key) {\n",
              "          const quickchartButtonEl =\n",
              "            document.querySelector('#' + key + ' button');\n",
              "          quickchartButtonEl.disabled = true;  // To prevent multiple clicks.\n",
              "          quickchartButtonEl.classList.add('colab-df-spinner');\n",
              "          try {\n",
              "            const charts = await google.colab.kernel.invokeFunction(\n",
              "                'suggestCharts', [key], {});\n",
              "          } catch (error) {\n",
              "            console.error('Error during call to suggestCharts:', error);\n",
              "          }\n",
              "          quickchartButtonEl.classList.remove('colab-df-spinner');\n",
              "          quickchartButtonEl.classList.add('colab-df-quickchart-complete');\n",
              "        }\n",
              "        (() => {\n",
              "          let quickchartButtonEl =\n",
              "            document.querySelector('#df-e6d234b5-7daf-4b61-919c-3ac28a97f8f9 button');\n",
              "          quickchartButtonEl.style.display =\n",
              "            google.colab.kernel.accessAllowed ? 'block' : 'none';\n",
              "        })();\n",
              "      </script>\n",
              "    </div>\n",
              "\n",
              "    </div>\n",
              "  </div>\n"
            ],
            "application/vnd.google.colaboratory.intrinsic+json": {
              "type": "dataframe",
              "summary": "{\n  \"name\": \"cbg_visit_df\",\n  \"rows\": 10,\n  \"fields\": [\n    {\n      \"column\": \"CBG\",\n      \"properties\": {\n        \"dtype\": \"string\",\n        \"num_unique_values\": 10,\n        \"samples\": [\n          \"530719203002\",\n          \"060379011011\",\n          \"060590994112\"\n        ],\n        \"semantic_type\": \"\",\n        \"description\": \"\"\n      }\n    },\n    {\n      \"column\": \"Visit_Count\",\n      \"properties\": {\n        \"dtype\": \"number\",\n        \"std\": 0,\n        \"min\": 4,\n        \"max\": 4,\n        \"num_unique_values\": 1,\n        \"samples\": [\n          4\n        ],\n        \"semantic_type\": \"\",\n        \"description\": \"\"\n      }\n    }\n  ]\n}"
            }
          },
          "metadata": {},
          "execution_count": 101
        }
      ],
      "source": [
        "# Top 10 most visited CBGs\n",
        "cbg_visit_df.sort_values(by='Visit_Count', ascending=False).head(10)\n",
        "\n",
        "# Bottom 10 (least visited)\n",
        "cbg_visit_df.sort_values(by='Visit_Count', ascending=True).head(10)"
      ]
    },
    {
      "cell_type": "code",
      "execution_count": null,
      "metadata": {
        "colab": {
          "base_uri": "https://localhost:8080/",
          "height": 487
        },
        "id": "AbXifqswsbuA",
        "outputId": "b5d1f5e0-66dd-4570-f742-a1c725a9edf3"
      },
      "outputs": [
        {
          "output_type": "display_data",
          "data": {
            "text/plain": [
              "<Figure size 1000x500 with 1 Axes>"
            ],
            "image/png": "[encoded data removed]"
          },
          "metadata": {}
        }
      ],
      "source": [
        "import matplotlib.pyplot as plt\n",
        "\n",
        "plt.figure(figsize=(10, 5))\n",
        "cbg_visit_df['Visit_Count'].plot(kind='hist', bins=50, edgecolor='black')\n",
        "plt.title('Distribution of Visit Counts per CBG')\n",
        "plt.xlabel('Visit Count')\n",
        "plt.ylabel('Number of CBGs')\n",
        "plt.grid(True)\n",
        "plt.show()"
      ]
    },
    {
      "cell_type": "code",
      "execution_count": null,
      "metadata": {
        "colab": {
          "base_uri": "https://localhost:8080/",
          "height": 241
        },
        "id": "N-IcceOBtUcR",
        "outputId": "0c6493a7-fb8b-48d5-a1cf-7d9c581a024b"
      },
      "outputs": [
        {
          "output_type": "execute_result",
          "data": {
            "text/plain": [
              "Visit_Bucket\n",
              "Low          2137\n",
              "High         1830\n",
              "Very High    1828\n",
              "Medium       1561\n",
              "Name: count, dtype: int64"
            ],
            "text/html": [
              "<div>\n",
              "<style scoped>\n",
              "    .dataframe tbody tr th:only-of-type {\n",
              "        vertical-align: middle;\n",
              "    }\n",
              "\n",
              "    .dataframe tbody tr th {\n",
              "        vertical-align: top;\n",
              "    }\n",
              "\n",
              "    .dataframe thead th {\n",
              "        text-align: right;\n",
              "    }\n",
              "</style>\n",
              "<table border=\"1\" class=\"dataframe\">\n",
              "  <thead>\n",
              "    <tr style=\"text-align: right;\">\n",
              "      <th></th>\n",
              "      <th>count</th>\n",
              "    </tr>\n",
              "    <tr>\n",
              "      <th>Visit_Bucket</th>\n",
              "      <th></th>\n",
              "    </tr>\n",
              "  </thead>\n",
              "  <tbody>\n",
              "    <tr>\n",
              "      <th>Low</th>\n",
              "      <td>2137</td>\n",
              "    </tr>\n",
              "    <tr>\n",
              "      <th>High</th>\n",
              "      <td>1830</td>\n",
              "    </tr>\n",
              "    <tr>\n",
              "      <th>Very High</th>\n",
              "      <td>1828</td>\n",
              "    </tr>\n",
              "    <tr>\n",
              "      <th>Medium</th>\n",
              "      <td>1561</td>\n",
              "    </tr>\n",
              "  </tbody>\n",
              "</table>\n",
              "</div><br><label><b>dtype:</b> int64</label>"
            ]
          },
          "metadata": {},
          "execution_count": 103
        }
      ],
      "source": [
        "cbg_visit_df['Visit_Bucket'] = pd.qcut(cbg_visit_df['Visit_Count'], q=4, labels=['Low', 'Medium', 'High', 'Very High'])\n",
        "cbg_visit_df['Visit_Bucket'].value_counts()"
      ]
    },
    {
      "cell_type": "code",
      "execution_count": null,
      "metadata": {
        "colab": {
          "base_uri": "https://localhost:8080/"
        },
        "id": "CamFVbsstTXq",
        "outputId": "378b75b9-5903-4902-c26e-a9de4da10654"
      },
      "outputs": [
        {
          "output_type": "stream",
          "name": "stdout",
          "text": [
            "Income Data:\n",
            "<class 'pandas.core.frame.DataFrame'>\n",
            "RangeIndex: 6591 entries, 0 to 6590\n",
            "Data columns (total 5 columns):\n",
            " #   Column    Non-Null Count  Dtype  \n",
            "---  ------    --------------  -----  \n",
            " 0   GEOID     6591 non-null   int64  \n",
            " 1   NAME      6591 non-null   object \n",
            " 2   variable  6591 non-null   object \n",
            " 3   estimate  6207 non-null   float64\n",
            " 4   moe       6151 non-null   float64\n",
            "dtypes: float64(2), int64(1), object(2)\n",
            "memory usage: 257.6+ KB\n",
            "None \n",
            "\n",
            "Age Data:\n",
            "<class 'pandas.core.frame.DataFrame'>\n",
            "RangeIndex: 322959 entries, 0 to 322958\n",
            "Data columns (total 5 columns):\n",
            " #   Column    Non-Null Count   Dtype \n",
            "---  ------    --------------   ----- \n",
            " 0   GEOID     322959 non-null  int64 \n",
            " 1   NAME      322959 non-null  object\n",
            " 2   variable  322959 non-null  object\n",
            " 3   estimate  322959 non-null  int64 \n",
            " 4   moe       322959 non-null  int64 \n",
            "dtypes: int64(3), object(2)\n",
            "memory usage: 12.3+ MB\n",
            "None \n",
            "\n",
            "Race Data:\n",
            "<class 'pandas.core.frame.DataFrame'>\n",
            "RangeIndex: 6591 entries, 0 to 6590\n",
            "Data columns (total 18 columns):\n",
            " #   Column        Non-Null Count  Dtype \n",
            "---  ------        --------------  ----- \n",
            " 0   GEOID         6591 non-null   int64 \n",
            " 1   NAME          6591 non-null   object\n",
            " 2   totalE        6591 non-null   int64 \n",
            " 3   totalM        6591 non-null   int64 \n",
            " 4   whiteE        6591 non-null   int64 \n",
            " 5   whiteM        6591 non-null   int64 \n",
            " 6   blackE        6591 non-null   int64 \n",
            " 7   blackM        6591 non-null   int64 \n",
            " 8   nativeE       6591 non-null   int64 \n",
            " 9   nativeM       6591 non-null   int64 \n",
            " 10  asianE        6591 non-null   int64 \n",
            " 11  asianM        6591 non-null   int64 \n",
            " 12  pacificE      6591 non-null   int64 \n",
            " 13  pacificM      6591 non-null   int64 \n",
            " 14  otherE        6591 non-null   int64 \n",
            " 15  otherM        6591 non-null   int64 \n",
            " 16  multiracialE  6591 non-null   int64 \n",
            " 17  multiracialM  6591 non-null   int64 \n",
            "dtypes: int64(17), object(1)\n",
            "memory usage: 927.0+ KB\n",
            "None\n"
          ]
        }
      ],
      "source": [
        "import pandas as pd\n",
        "\n",
        "# Load each dataset\n",
        "income_df = pd.read_csv('/income_data.csv')\n",
        "age_df = pd.read_csv('/age_data.csv')\n",
        "race_df = pd.read_csv('/race_data.csv')\n",
        "\n",
        "# Show basic info\n",
        "print(\"Income Data:\")\n",
        "print(income_df.info(), \"\\n\")\n",
        "\n",
        "print(\"Age Data:\")\n",
        "print(age_df.info(), \"\\n\")\n",
        "\n",
        "print(\"Race Data:\")\n",
        "print(race_df.info())"
      ]
    },
    {
      "cell_type": "code",
      "execution_count": null,
      "metadata": {
        "colab": {
          "base_uri": "https://localhost:8080/"
        },
        "id": "XVqqmcKvPyfx",
        "outputId": "a0906c14-bd2b-4896-f307-8b77671cebf7"
      },
      "outputs": [
        {
          "output_type": "stream",
          "name": "stdout",
          "text": [
            "0    060371011101\n",
            "1    060371011102\n",
            "2    060371011103\n",
            "Name: GEOID, dtype: object\n",
            "0    060371011101\n",
            "1    060371011101\n",
            "2    060371011101\n",
            "Name: GEOID, dtype: object\n",
            "0    060371011101\n",
            "1    060371011102\n",
            "2    060371011103\n",
            "Name: GEOID, dtype: object\n"
          ]
        }
      ],
      "source": [
        "# Step 2: Standardize GEOID across datasets\n",
        "income_df['GEOID'] = income_df['GEOID'].astype(str).str.zfill(12)\n",
        "age_df['GEOID'] = age_df['GEOID'].astype(str).str.zfill(12)\n",
        "race_df['GEOID'] = race_df['GEOID'].astype(str).str.zfill(12)\n",
        "\n",
        "# Confirm they all look like 12-digit strings\n",
        "print(income_df['GEOID'].head(3))\n",
        "print(age_df['GEOID'].head(3))\n",
        "print(race_df['GEOID'].head(3))"
      ]
    },
    {
      "cell_type": "code",
      "execution_count": null,
      "metadata": {
        "colab": {
          "base_uri": "https://localhost:8080/"
        },
        "id": "qEphqsQWPxnY",
        "outputId": "2d22ca9a-4c09-4274-ee55-489cc1525ddc"
      },
      "outputs": [
        {
          "output_type": "stream",
          "name": "stdout",
          "text": [
            "(6207, 2)\n",
            "          GEOID  median_income\n",
            "0  060371011101        63242.0\n",
            "1  060371011102        56250.0\n",
            "2  060371011103        99567.0\n"
          ]
        }
      ],
      "source": [
        "# Filter and clean income data\n",
        "income_clean = income_df[income_df['variable'] == 'B19013_001'].copy()\n",
        "income_clean = income_clean[['GEOID', 'estimate']].rename(columns={'estimate': 'median_income'})\n",
        "\n",
        "# Drop rows with missing income\n",
        "income_clean = income_clean.dropna(subset=['median_income'])\n",
        "\n",
        "# Check result\n",
        "print(income_clean.shape)\n",
        "print(income_clean.head(3))"
      ]
    },
    {
      "cell_type": "code",
      "execution_count": null,
      "metadata": {
        "colab": {
          "base_uri": "https://localhost:8080/"
        },
        "id": "VLLEtuRBPwue",
        "outputId": "2059ebac-8afe-4cda-dac7-2dd21f869c22"
      },
      "outputs": [
        {
          "output_type": "stream",
          "name": "stdout",
          "text": [
            "(6591, 5)\n",
            "age_group         GEOID  18_24  25_40  41_60  60_plus\n",
            "0          060371011101     49     62    308      490\n",
            "1          060371011102     30     60    304      460\n",
            "2          060371011103     24     10    185      243\n"
          ]
        }
      ],
      "source": [
        "# Define variable codes for each age bucket\n",
        "age_bins = {\n",
        "    '18_24': ['B01001_007', 'B01001_031'],  # Male 18–19, Female 18–19\n",
        "    '25_40': ['B01001_008', 'B01001_009', 'B01001_010', 'B01001_032', 'B01001_033', 'B01001_034'],  # Male/Female 20–39\n",
        "    '41_60': ['B01001_011', 'B01001_012', 'B01001_013', 'B01001_035', 'B01001_036', 'B01001_037'],  # Male/Female 40–59\n",
        "    '60_plus': ['B01001_014', 'B01001_015', 'B01001_016', 'B01001_017', 'B01001_038', 'B01001_039', 'B01001_040', 'B01001_041'],  # Male/Female 60+\n",
        "}\n",
        "\n",
        "# Initialize clean age dataframe\n",
        "age_agg = age_df[['GEOID', 'variable', 'estimate']].copy()\n",
        "\n",
        "# Tag each row with age bin\n",
        "def map_age_group(var):\n",
        "    for k, v in age_bins.items():\n",
        "        if var in v:\n",
        "            return k\n",
        "    return None\n",
        "\n",
        "age_agg['age_group'] = age_agg['variable'].apply(map_age_group)\n",
        "age_agg = age_agg.dropna(subset=['age_group'])\n",
        "\n",
        "# Aggregate population estimate per CBG per age group\n",
        "age_clean = age_agg.groupby(['GEOID', 'age_group'])['estimate'].sum().reset_index()\n",
        "\n",
        "# Pivot to wide format\n",
        "age_pivot = age_clean.pivot(index='GEOID', columns='age_group', values='estimate').reset_index().fillna(0)\n",
        "\n",
        "# Preview\n",
        "print(age_pivot.shape)\n",
        "print(age_pivot.head(3))"
      ]
    },
    {
      "cell_type": "code",
      "execution_count": null,
      "metadata": {
        "colab": {
          "base_uri": "https://localhost:8080/"
        },
        "id": "H1k-oWC-Pv1A",
        "outputId": "99bbf507-a5a1-4209-c415-cc3ff59b58f0"
      },
      "outputs": [
        {
          "output_type": "stream",
          "name": "stdout",
          "text": [
            "(6591, 5)\n",
            "          GEOID  pct_white  pct_black  pct_asian  pct_other\n",
            "0  060371011101   0.580919   0.064311   0.048057   0.306714\n",
            "1  060371011102   0.576670   0.016429   0.145126   0.257393\n",
            "2  060371011103   0.712807   0.051746   0.073739   0.161708\n"
          ]
        }
      ],
      "source": [
        "# Select only relevant estimate columns\n",
        "race_cols = ['GEOID', 'whiteE', 'blackE', 'asianE', 'otherE', 'multiracialE', 'totalE']\n",
        "race_clean = race_df[race_cols].copy()\n",
        "\n",
        "# Convert GEOID to string format\n",
        "race_clean['GEOID'] = race_clean['GEOID'].astype(str)\n",
        "\n",
        "# Calculate percentage breakdowns\n",
        "race_clean['pct_white'] = race_clean['whiteE'] / race_clean['totalE']\n",
        "race_clean['pct_black'] = race_clean['blackE'] / race_clean['totalE']\n",
        "race_clean['pct_asian'] = race_clean['asianE'] / race_clean['totalE']\n",
        "race_clean['pct_other'] = race_clean[['otherE', 'multiracialE']].sum(axis=1) / race_clean['totalE']\n",
        "\n",
        "# Keep just final columns\n",
        "race_final = race_clean[['GEOID', 'pct_white', 'pct_black', 'pct_asian', 'pct_other']].fillna(0)\n",
        "\n",
        "# Preview\n",
        "print(race_final.shape)\n",
        "print(race_final.head(3))"
      ]
    },
    {
      "cell_type": "code",
      "execution_count": null,
      "metadata": {
        "colab": {
          "base_uri": "https://localhost:8080/",
          "height": 161
        },
        "id": "Lrs6QLY5TMGB",
        "outputId": "78700f37-be52-49da-d186-0f6641d2511f"
      },
      "outputs": [
        {
          "output_type": "stream",
          "name": "stdout",
          "text": [
            "Merged Demographic DataFrame shape: (6207, 10)\n"
          ]
        },
        {
          "output_type": "execute_result",
          "data": {
            "text/plain": [
              "          GEOID  median_income  18_24  25_40  41_60  60_plus  pct_white  \\\n",
              "0  060371011101        63242.0     49     62    308      490   0.580919   \n",
              "1  060371011102        56250.0     30     60    304      460   0.576670   \n",
              "2  060371011103        99567.0     24     10    185      243   0.712807   \n",
              "\n",
              "   pct_black  pct_asian  pct_other  \n",
              "0   0.064311   0.048057   0.306714  \n",
              "1   0.016429   0.145126   0.257393  \n",
              "2   0.051746   0.073739   0.161708  "
            ],
            "text/html": [
              "\n",
              "  <div id=\"df-e2b50610-0113-46ad-a2fb-088c4fb47843\" class=\"colab-df-container\">\n",
              "    <div>\n",
              "<style scoped>\n",
              "    .dataframe tbody tr th:only-of-type {\n",
              "        vertical-align: middle;\n",
              "    }\n",
              "\n",
              "    .dataframe tbody tr th {\n",
              "        vertical-align: top;\n",
              "    }\n",
              "\n",
              "    .dataframe thead th {\n",
              "        text-align: right;\n",
              "    }\n",
              "</style>\n",
              "<table border=\"1\" class=\"dataframe\">\n",
              "  <thead>\n",
              "    <tr style=\"text-align: right;\">\n",
              "      <th></th>\n",
              "      <th>GEOID</th>\n",
              "      <th>median_income</th>\n",
              "      <th>18_24</th>\n",
              "      <th>25_40</th>\n",
              "      <th>41_60</th>\n",
              "      <th>60_plus</th>\n",
              "      <th>pct_white</th>\n",
              "      <th>pct_black</th>\n",
              "      <th>pct_asian</th>\n",
              "      <th>pct_other</th>\n",
              "    </tr>\n",
              "  </thead>\n",
              "  <tbody>\n",
              "    <tr>\n",
              "      <th>0</th>\n",
              "      <td>060371011101</td>\n",
              "      <td>63242.0</td>\n",
              "      <td>49</td>\n",
              "      <td>62</td>\n",
              "      <td>308</td>\n",
              "      <td>490</td>\n",
              "      <td>0.580919</td>\n",
              "      <td>0.064311</td>\n",
              "      <td>0.048057</td>\n",
              "      <td>0.306714</td>\n",
              "    </tr>\n",
              "    <tr>\n",
              "      <th>1</th>\n",
              "      <td>060371011102</td>\n",
              "      <td>56250.0</td>\n",
              "      <td>30</td>\n",
              "      <td>60</td>\n",
              "      <td>304</td>\n",
              "      <td>460</td>\n",
              "      <td>0.576670</td>\n",
              "      <td>0.016429</td>\n",
              "      <td>0.145126</td>\n",
              "      <td>0.257393</td>\n",
              "    </tr>\n",
              "    <tr>\n",
              "      <th>2</th>\n",
              "      <td>060371011103</td>\n",
              "      <td>99567.0</td>\n",
              "      <td>24</td>\n",
              "      <td>10</td>\n",
              "      <td>185</td>\n",
              "      <td>243</td>\n",
              "      <td>0.712807</td>\n",
              "      <td>0.051746</td>\n",
              "      <td>0.073739</td>\n",
              "      <td>0.161708</td>\n",
              "    </tr>\n",
              "  </tbody>\n",
              "</table>\n",
              "</div>\n",
              "    <div class=\"colab-df-buttons\">\n",
              "\n",
              "  <div class=\"colab-df-container\">\n",
              "    <button class=\"colab-df-convert\" onclick=\"convertToInteractive('df-e2b50610-0113-46ad-a2fb-088c4fb47843')\"\n",
              "            title=\"Convert this dataframe to an interactive table.\"\n",
              "            style=\"display:none;\">\n",
              "\n",
              "  <svg xmlns=\"http://www.w3.org/2000/svg\" height=\"24px\" viewBox=\"0 -960 960 960\">\n",
              "    <path d=\"M120-120v-720h720v720H120Zm60-500h600v-160H180v160Zm220 220h160v-160H400v160Zm0 220h160v-160H400v160ZM180-400h160v-160H180v160Zm440 0h160v-160H620v160ZM180-180h160v-160H180v160Zm440 0h160v-160H620v160Z\"/>\n",
              "  </svg>\n",
              "    </button>\n",
              "\n",
              "  <style>\n",
              "    .colab-df-container {\n",
              "      display:flex;\n",
              "      gap: 12px;\n",
              "    }\n",
              "\n",
              "    .colab-df-convert {\n",
              "      background-color: #E8F0FE;\n",
              "      border: none;\n",
              "      border-radius: 50%;\n",
              "      cursor: pointer;\n",
              "      display: none;\n",
              "      fill: #1967D2;\n",
              "      height: 32px;\n",
              "      padding: 0 0 0 0;\n",
              "      width: 32px;\n",
              "    }\n",
              "\n",
              "    .colab-df-convert:hover {\n",
              "      background-color: #E2EBFA;\n",
              "      box-shadow: 0px 1px 2px rgba(60, 64, 67, 0.3), 0px 1px 3px 1px rgba(60, 64, 67, 0.15);\n",
              "      fill: #174EA6;\n",
              "    }\n",
              "\n",
              "    .colab-df-buttons div {\n",
              "      margin-bottom: 4px;\n",
              "    }\n",
              "\n",
              "    [theme=dark] .colab-df-convert {\n",
              "      background-color: #3B4455;\n",
              "      fill: #D2E3FC;\n",
              "    }\n",
              "\n",
              "    [theme=dark] .colab-df-convert:hover {\n",
              "      background-color: #434B5C;\n",
              "      box-shadow: 0px 1px 3px 1px rgba(0, 0, 0, 0.15);\n",
              "      filter: drop-shadow(0px 1px 2px rgba(0, 0, 0, 0.3));\n",
              "      fill: #FFFFFF;\n",
              "    }\n",
              "  </style>\n",
              "\n",
              "    <script>\n",
              "      const buttonEl =\n",
              "        document.querySelector('#df-e2b50610-0113-46ad-a2fb-088c4fb47843 button.colab-df-convert');\n",
              "      buttonEl.style.display =\n",
              "        google.colab.kernel.accessAllowed ? 'block' : 'none';\n",
              "\n",
              "      async function convertToInteractive(key) {\n",
              "        const element = document.querySelector('#df-e2b50610-0113-46ad-a2fb-088c4fb47843');\n",
              "        const dataTable =\n",
              "          await google.colab.kernel.invokeFunction('convertToInteractive',\n",
              "                                                    [key], {});\n",
              "        if (!dataTable) return;\n",
              "\n",
              "        const docLinkHtml = 'Like what you see? Visit the ' +\n",
              "          '<a target=\"_blank\" href=https://colab.research.google.com/notebooks/data_table.ipynb>data table notebook</a>'\n",
              "          + ' to learn more about interactive tables.';\n",
              "        element.innerHTML = '';\n",
              "        dataTable['output_type'] = 'display_data';\n",
              "        await google.colab.output.renderOutput(dataTable, element);\n",
              "        const docLink = document.createElement('div');\n",
              "        docLink.innerHTML = docLinkHtml;\n",
              "        element.appendChild(docLink);\n",
              "      }\n",
              "    </script>\n",
              "  </div>\n",
              "\n",
              "\n",
              "    <div id=\"df-4278ec55-43b5-4a3d-8756-a06ea334ae80\">\n",
              "      <button class=\"colab-df-quickchart\" onclick=\"quickchart('df-4278ec55-43b5-4a3d-8756-a06ea334ae80')\"\n",
              "                title=\"Suggest charts\"\n",
              "                style=\"display:none;\">\n",
              "\n",
              "<svg xmlns=\"http://www.w3.org/2000/svg\" height=\"24px\"viewBox=\"0 0 24 24\"\n",
              "     width=\"24px\">\n",
              "    <g>\n",
              "        <path d=\"M19 3H5c-1.1 0-2 .9-2 2v14c0 1.1.9 2 2 2h14c1.1 0 2-.9 2-2V5c0-1.1-.9-2-2-2zM9 17H7v-7h2v7zm4 0h-2V7h2v10zm4 0h-2v-4h2v4z\"/>\n",
              "    </g>\n",
              "</svg>\n",
              "      </button>\n",
              "\n",
              "<style>\n",
              "  .colab-df-quickchart {\n",
              "      --bg-color: #E8F0FE;\n",
              "      --fill-color: #1967D2;\n",
              "      --hover-bg-color: #E2EBFA;\n",
              "      --hover-fill-color: #174EA6;\n",
              "      --disabled-fill-color: #AAA;\n",
              "      --disabled-bg-color: #DDD;\n",
              "  }\n",
              "\n",
              "  [theme=dark] .colab-df-quickchart {\n",
              "      --bg-color: #3B4455;\n",
              "      --fill-color: #D2E3FC;\n",
              "      --hover-bg-color: #434B5C;\n",
              "      --hover-fill-color: #FFFFFF;\n",
              "      --disabled-bg-color: #3B4455;\n",
              "      --disabled-fill-color: #666;\n",
              "  }\n",
              "\n",
              "  .colab-df-quickchart {\n",
              "    background-color: var(--bg-color);\n",
              "    border: none;\n",
              "    border-radius: 50%;\n",
              "    cursor: pointer;\n",
              "    display: none;\n",
              "    fill: var(--fill-color);\n",
              "    height: 32px;\n",
              "    padding: 0;\n",
              "    width: 32px;\n",
              "  }\n",
              "\n",
              "  .colab-df-quickchart:hover {\n",
              "    background-color: var(--hover-bg-color);\n",
              "    box-shadow: 0 1px 2px rgba(60, 64, 67, 0.3), 0 1px 3px 1px rgba(60, 64, 67, 0.15);\n",
              "    fill: var(--button-hover-fill-color);\n",
              "  }\n",
              "\n",
              "  .colab-df-quickchart-complete:disabled,\n",
              "  .colab-df-quickchart-complete:disabled:hover {\n",
              "    background-color: var(--disabled-bg-color);\n",
              "    fill: var(--disabled-fill-color);\n",
              "    box-shadow: none;\n",
              "  }\n",
              "\n",
              "  .colab-df-spinner {\n",
              "    border: 2px solid var(--fill-color);\n",
              "    border-color: transparent;\n",
              "    border-bottom-color: var(--fill-color);\n",
              "    animation:\n",
              "      spin 1s steps(1) infinite;\n",
              "  }\n",
              "\n",
              "  @keyframes spin {\n",
              "    0% {\n",
              "      border-color: transparent;\n",
              "      border-bottom-color: var(--fill-color);\n",
              "      border-left-color: var(--fill-color);\n",
              "    }\n",
              "    20% {\n",
              "      border-color: transparent;\n",
              "      border-left-color: var(--fill-color);\n",
              "      border-top-color: var(--fill-color);\n",
              "    }\n",
              "    30% {\n",
              "      border-color: transparent;\n",
              "      border-left-color: var(--fill-color);\n",
              "      border-top-color: var(--fill-color);\n",
              "      border-right-color: var(--fill-color);\n",
              "    }\n",
              "    40% {\n",
              "      border-color: transparent;\n",
              "      border-right-color: var(--fill-color);\n",
              "      border-top-color: var(--fill-color);\n",
              "    }\n",
              "    60% {\n",
              "      border-color: transparent;\n",
              "      border-right-color: var(--fill-color);\n",
              "    }\n",
              "    80% {\n",
              "      border-color: transparent;\n",
              "      border-right-color: var(--fill-color);\n",
              "      border-bottom-color: var(--fill-color);\n",
              "    }\n",
              "    90% {\n",
              "      border-color: transparent;\n",
              "      border-bottom-color: var(--fill-color);\n",
              "    }\n",
              "  }\n",
              "</style>\n",
              "\n",
              "      <script>\n",
              "        async function quickchart(key) {\n",
              "          const quickchartButtonEl =\n",
              "            document.querySelector('#' + key + ' button');\n",
              "          quickchartButtonEl.disabled = true;  // To prevent multiple clicks.\n",
              "          quickchartButtonEl.classList.add('colab-df-spinner');\n",
              "          try {\n",
              "            const charts = await google.colab.kernel.invokeFunction(\n",
              "                'suggestCharts', [key], {});\n",
              "          } catch (error) {\n",
              "            console.error('Error during call to suggestCharts:', error);\n",
              "          }\n",
              "          quickchartButtonEl.classList.remove('colab-df-spinner');\n",
              "          quickchartButtonEl.classList.add('colab-df-quickchart-complete');\n",
              "        }\n",
              "        (() => {\n",
              "          let quickchartButtonEl =\n",
              "            document.querySelector('#df-4278ec55-43b5-4a3d-8756-a06ea334ae80 button');\n",
              "          quickchartButtonEl.style.display =\n",
              "            google.colab.kernel.accessAllowed ? 'block' : 'none';\n",
              "        })();\n",
              "      </script>\n",
              "    </div>\n",
              "\n",
              "    </div>\n",
              "  </div>\n"
            ],
            "application/vnd.google.colaboratory.intrinsic+json": {
              "type": "dataframe",
              "variable_name": "merged_df",
              "summary": "{\n  \"name\": \"merged_df\",\n  \"rows\": 6207,\n  \"fields\": [\n    {\n      \"column\": \"GEOID\",\n      \"properties\": {\n        \"dtype\": \"string\",\n        \"num_unique_values\": 6207,\n        \"samples\": [\n          \"060374826002\",\n          \"060375306032\",\n          \"060372422012\"\n        ],\n        \"semantic_type\": \"\",\n        \"description\": \"\"\n      }\n    },\n    {\n      \"column\": \"median_income\",\n      \"properties\": {\n        \"dtype\": \"number\",\n        \"std\": 42738.38443374506,\n        \"min\": 10783.0,\n        \"max\": 250001.0,\n        \"num_unique_values\": 5279,\n        \"samples\": [\n          44398.0,\n          65885.0,\n          42206.0\n        ],\n        \"semantic_type\": \"\",\n        \"description\": \"\"\n      }\n    },\n    {\n      \"column\": \"18_24\",\n      \"properties\": {\n        \"dtype\": \"number\",\n        \"std\": 52,\n        \"min\": 0,\n        \"max\": 1260,\n        \"num_unique_values\": 228,\n        \"samples\": [\n          184,\n          132,\n          9\n        ],\n        \"semantic_type\": \"\",\n        \"description\": \"\"\n      }\n    },\n    {\n      \"column\": \"25_40\",\n      \"properties\": {\n        \"dtype\": \"number\",\n        \"std\": 101,\n        \"min\": 0,\n        \"max\": 1908,\n        \"num_unique_values\": 415,\n        \"samples\": [\n          116,\n          142,\n          210\n        ],\n        \"semantic_type\": \"\",\n        \"description\": \"\"\n      }\n    },\n    {\n      \"column\": \"41_60\",\n      \"properties\": {\n        \"dtype\": \"number\",\n        \"std\": 219,\n        \"min\": 0,\n        \"max\": 5331,\n        \"num_unique_values\": 930,\n        \"samples\": [\n          668,\n          737,\n          580\n        ],\n        \"semantic_type\": \"\",\n        \"description\": \"\"\n      }\n    },\n    {\n      \"column\": \"60_plus\",\n      \"properties\": {\n        \"dtype\": \"number\",\n        \"std\": 197,\n        \"min\": 2,\n        \"max\": 2950,\n        \"num_unique_values\": 913,\n        \"samples\": [\n          132,\n          1186,\n          150\n        ],\n        \"semantic_type\": \"\",\n        \"description\": \"\"\n      }\n    },\n    {\n      \"column\": \"pct_white\",\n      \"properties\": {\n        \"dtype\": \"number\",\n        \"std\": 0.2252242255183912,\n        \"min\": 0.0,\n        \"max\": 1.0,\n        \"num_unique_values\": 6126,\n        \"samples\": [\n          0.304725168756027,\n          0.6635311143270622,\n          0.19038817005545286\n        ],\n        \"semantic_type\": \"\",\n        \"description\": \"\"\n      }\n    },\n    {\n      \"column\": \"pct_black\",\n      \"properties\": {\n        \"dtype\": \"number\",\n        \"std\": 0.13335420620139066,\n        \"min\": 0.0,\n        \"max\": 1.0,\n        \"num_unique_values\": 4608,\n        \"samples\": [\n          0.7544303797468355,\n          0.08631188774159386,\n          0.11292834890965732\n        ],\n        \"semantic_type\": \"\",\n        \"description\": \"\"\n      }\n    },\n    {\n      \"column\": \"pct_asian\",\n      \"properties\": {\n        \"dtype\": \"number\",\n        \"std\": 0.1719037333609575,\n        \"min\": 0.0,\n        \"max\": 0.9407699901283317,\n        \"num_unique_values\": 5339,\n        \"samples\": [\n          0.8238754325259515,\n          0.10946745562130178,\n          0.11021505376344086\n        ],\n        \"semantic_type\": \"\",\n        \"description\": \"\"\n      }\n    },\n    {\n      \"column\": \"pct_other\",\n      \"properties\": {\n        \"dtype\": \"number\",\n        \"std\": 0.21306222590546353,\n        \"min\": 0.0,\n        \"max\": 0.9483726150392817,\n        \"num_unique_values\": 6107,\n        \"samples\": [\n          0.0457516339869281,\n          0.27353342428376537,\n          0.3427959292983396\n        ],\n        \"semantic_type\": \"\",\n        \"description\": \"\"\n      }\n    }\n  ]\n}"
            }
          },
          "metadata": {},
          "execution_count": 109
        }
      ],
      "source": [
        "# Rename age_pivot to match pattern\n",
        "age_final = age_pivot.copy()\n",
        "\n",
        "# Merge income and age\n",
        "merged_df = pd.merge(income_clean, age_final, on='GEOID', how='inner')\n",
        "\n",
        "# Merge with race data\n",
        "merged_df = pd.merge(merged_df, race_final, on='GEOID', how='inner')\n",
        "\n",
        "# Preview final result\n",
        "print(\"Merged Demographic DataFrame shape:\", merged_df.shape)\n",
        "merged_df.head(3)"
      ]
    },
    {
      "cell_type": "code",
      "execution_count": null,
      "metadata": {
        "id": "oTrfD3OLTK8C"
      },
      "outputs": [],
      "source": [
        "# Step 1: Filter only rows with non-null visitor_home_cbgs\n",
        "mobility_valid = df[df['visitor_home_cbgs'].notnull()].copy()"
      ]
    },
    {
      "cell_type": "code",
      "execution_count": null,
      "metadata": {
        "id": "I4YGn4NiTJkq"
      },
      "outputs": [],
      "source": [
        "import json\n",
        "\n",
        "# Step 2: Parse visitor_home_cbgs string to dictionary\n",
        "def parse_cbgs(cbgs_str):\n",
        "    try:\n",
        "        return json.loads(cbgs_str)\n",
        "    except:\n",
        "        return {}\n",
        "\n",
        "mobility_valid['parsed_cbgs'] = mobility_valid['visitor_home_cbgs'].apply(parse_cbgs)"
      ]
    },
    {
      "cell_type": "code",
      "execution_count": null,
      "metadata": {
        "id": "CNC2wN7tUBSH"
      },
      "outputs": [],
      "source": [
        "# Step 3: Expand into long-format records\n",
        "flattened_data = []\n",
        "\n",
        "for _, row in mobility_valid.iterrows():\n",
        "    poi = row['placekey']\n",
        "    cbg_dict = row['parsed_cbgs']\n",
        "    for cbg, count in cbg_dict.items():\n",
        "        flattened_data.append({'placekey': poi, 'home_CBG': cbg, 'visit_count': count})\n",
        "\n",
        "cbg_visits_df = pd.DataFrame(flattened_data)"
      ]
    },
    {
      "cell_type": "code",
      "execution_count": null,
      "metadata": {
        "colab": {
          "base_uri": "https://localhost:8080/",
          "height": 178
        },
        "id": "bEmY8Ex7UAKY",
        "outputId": "86898bf7-6894-44f3-a434-9d1ca493931c"
      },
      "outputs": [
        {
          "output_type": "execute_result",
          "data": {
            "text/plain": [
              "26     {}\n",
              "75     {}\n",
              "116    {}\n",
              "Name: parsed_cbgs, dtype: object"
            ],
            "text/html": [
              "<div>\n",
              "<style scoped>\n",
              "    .dataframe tbody tr th:only-of-type {\n",
              "        vertical-align: middle;\n",
              "    }\n",
              "\n",
              "    .dataframe tbody tr th {\n",
              "        vertical-align: top;\n",
              "    }\n",
              "\n",
              "    .dataframe thead th {\n",
              "        text-align: right;\n",
              "    }\n",
              "</style>\n",
              "<table border=\"1\" class=\"dataframe\">\n",
              "  <thead>\n",
              "    <tr style=\"text-align: right;\">\n",
              "      <th></th>\n",
              "      <th>parsed_cbgs</th>\n",
              "    </tr>\n",
              "  </thead>\n",
              "  <tbody>\n",
              "    <tr>\n",
              "      <th>26</th>\n",
              "      <td>{}</td>\n",
              "    </tr>\n",
              "    <tr>\n",
              "      <th>75</th>\n",
              "      <td>{}</td>\n",
              "    </tr>\n",
              "    <tr>\n",
              "      <th>116</th>\n",
              "      <td>{}</td>\n",
              "    </tr>\n",
              "  </tbody>\n",
              "</table>\n",
              "</div><br><label><b>dtype:</b> object</label>"
            ]
          },
          "metadata": {},
          "execution_count": 113
        }
      ],
      "source": [
        "mobility_valid['parsed_cbgs'].head(3)"
      ]
    },
    {
      "cell_type": "code",
      "execution_count": null,
      "metadata": {
        "colab": {
          "base_uri": "https://localhost:8080/",
          "height": 35
        },
        "id": "qqo5XMd9T-_d",
        "outputId": "5045dc73-d707-4f7f-d394-e07455c2c26a"
      },
      "outputs": [
        {
          "output_type": "execute_result",
          "data": {
            "text/plain": [
              "'{\"\"060376002013\"\":4}'"
            ],
            "application/vnd.google.colaboratory.intrinsic+json": {
              "type": "string"
            }
          },
          "metadata": {},
          "execution_count": 114
        }
      ],
      "source": [
        "df['visitor_home_cbgs'].dropna().iloc[0]"
      ]
    },
    {
      "cell_type": "code",
      "execution_count": null,
      "metadata": {
        "id": "zEWUwoa3W12w"
      },
      "outputs": [],
      "source": [
        "import json\n",
        "\n",
        "def parse_visitor_home_cbgs(value):\n",
        "    try:\n",
        "        if pd.isnull(value):\n",
        "            return {}\n",
        "        # Fix malformed quotes by replacing double-double quotes\n",
        "        fixed_value = value.replace('\"\"', '\"')\n",
        "        return json.loads(fixed_value)\n",
        "    except:\n",
        "        return {}"
      ]
    },
    {
      "cell_type": "code",
      "execution_count": null,
      "metadata": {
        "id": "gcJ7GuO-W925"
      },
      "outputs": [],
      "source": [
        "mobility_valid['parsed_cbgs'] = mobility_valid['visitor_home_cbgs'].apply(parse_visitor_home_cbgs)"
      ]
    },
    {
      "cell_type": "code",
      "execution_count": null,
      "metadata": {
        "colab": {
          "base_uri": "https://localhost:8080/",
          "height": 178
        },
        "id": "b-YtFwaHW8tg",
        "outputId": "df2ec428-5440-4894-84e9-4ad1db72dfa1"
      },
      "outputs": [
        {
          "output_type": "execute_result",
          "data": {
            "text/plain": [
              "26     {'060376002013': 4}\n",
              "75     {'060372421001': 4}\n",
              "116    {'060372383101': 9}\n",
              "Name: parsed_cbgs, dtype: object"
            ],
            "text/html": [
              "<div>\n",
              "<style scoped>\n",
              "    .dataframe tbody tr th:only-of-type {\n",
              "        vertical-align: middle;\n",
              "    }\n",
              "\n",
              "    .dataframe tbody tr th {\n",
              "        vertical-align: top;\n",
              "    }\n",
              "\n",
              "    .dataframe thead th {\n",
              "        text-align: right;\n",
              "    }\n",
              "</style>\n",
              "<table border=\"1\" class=\"dataframe\">\n",
              "  <thead>\n",
              "    <tr style=\"text-align: right;\">\n",
              "      <th></th>\n",
              "      <th>parsed_cbgs</th>\n",
              "    </tr>\n",
              "  </thead>\n",
              "  <tbody>\n",
              "    <tr>\n",
              "      <th>26</th>\n",
              "      <td>{'060376002013': 4}</td>\n",
              "    </tr>\n",
              "    <tr>\n",
              "      <th>75</th>\n",
              "      <td>{'060372421001': 4}</td>\n",
              "    </tr>\n",
              "    <tr>\n",
              "      <th>116</th>\n",
              "      <td>{'060372383101': 9}</td>\n",
              "    </tr>\n",
              "  </tbody>\n",
              "</table>\n",
              "</div><br><label><b>dtype:</b> object</label>"
            ]
          },
          "metadata": {},
          "execution_count": 117
        }
      ],
      "source": [
        "mobility_valid['parsed_cbgs'].head(3)"
      ]
    },
    {
      "cell_type": "code",
      "execution_count": null,
      "metadata": {
        "colab": {
          "base_uri": "https://localhost:8080/",
          "height": 224
        },
        "id": "FQ_MHcFwW7jJ",
        "outputId": "50747a32-5d8e-4a67-ead1-34c96ee0bf80"
      },
      "outputs": [
        {
          "output_type": "stream",
          "name": "stdout",
          "text": [
            "CBG-level Visit DataFrame shape: (7356, 2)\n"
          ]
        },
        {
          "output_type": "execute_result",
          "data": {
            "text/plain": [
              "            CBG  Visit_Count\n",
              "0  010150016003           12\n",
              "1  010310113002            5\n",
              "2  010539699003            5\n",
              "3  010730027001           34\n",
              "4  010730059103           57"
            ],
            "text/html": [
              "\n",
              "  <div id=\"df-de268b4c-633b-4820-bab8-807b13e575ad\" class=\"colab-df-container\">\n",
              "    <div>\n",
              "<style scoped>\n",
              "    .dataframe tbody tr th:only-of-type {\n",
              "        vertical-align: middle;\n",
              "    }\n",
              "\n",
              "    .dataframe tbody tr th {\n",
              "        vertical-align: top;\n",
              "    }\n",
              "\n",
              "    .dataframe thead th {\n",
              "        text-align: right;\n",
              "    }\n",
              "</style>\n",
              "<table border=\"1\" class=\"dataframe\">\n",
              "  <thead>\n",
              "    <tr style=\"text-align: right;\">\n",
              "      <th></th>\n",
              "      <th>CBG</th>\n",
              "      <th>Visit_Count</th>\n",
              "    </tr>\n",
              "  </thead>\n",
              "  <tbody>\n",
              "    <tr>\n",
              "      <th>0</th>\n",
              "      <td>010150016003</td>\n",
              "      <td>12</td>\n",
              "    </tr>\n",
              "    <tr>\n",
              "      <th>1</th>\n",
              "      <td>010310113002</td>\n",
              "      <td>5</td>\n",
              "    </tr>\n",
              "    <tr>\n",
              "      <th>2</th>\n",
              "      <td>010539699003</td>\n",
              "      <td>5</td>\n",
              "    </tr>\n",
              "    <tr>\n",
              "      <th>3</th>\n",
              "      <td>010730027001</td>\n",
              "      <td>34</td>\n",
              "    </tr>\n",
              "    <tr>\n",
              "      <th>4</th>\n",
              "      <td>010730059103</td>\n",
              "      <td>57</td>\n",
              "    </tr>\n",
              "  </tbody>\n",
              "</table>\n",
              "</div>\n",
              "    <div class=\"colab-df-buttons\">\n",
              "\n",
              "  <div class=\"colab-df-container\">\n",
              "    <button class=\"colab-df-convert\" onclick=\"convertToInteractive('df-de268b4c-633b-4820-bab8-807b13e575ad')\"\n",
              "            title=\"Convert this dataframe to an interactive table.\"\n",
              "            style=\"display:none;\">\n",
              "\n",
              "  <svg xmlns=\"http://www.w3.org/2000/svg\" height=\"24px\" viewBox=\"0 -960 960 960\">\n",
              "    <path d=\"M120-120v-720h720v720H120Zm60-500h600v-160H180v160Zm220 220h160v-160H400v160Zm0 220h160v-160H400v160ZM180-400h160v-160H180v160Zm440 0h160v-160H620v160ZM180-180h160v-160H180v160Zm440 0h160v-160H620v160Z\"/>\n",
              "  </svg>\n",
              "    </button>\n",
              "\n",
              "  <style>\n",
              "    .colab-df-container {\n",
              "      display:flex;\n",
              "      gap: 12px;\n",
              "    }\n",
              "\n",
              "    .colab-df-convert {\n",
              "      background-color: #E8F0FE;\n",
              "      border: none;\n",
              "      border-radius: 50%;\n",
              "      cursor: pointer;\n",
              "      display: none;\n",
              "      fill: #1967D2;\n",
              "      height: 32px;\n",
              "      padding: 0 0 0 0;\n",
              "      width: 32px;\n",
              "    }\n",
              "\n",
              "    .colab-df-convert:hover {\n",
              "      background-color: #E2EBFA;\n",
              "      box-shadow: 0px 1px 2px rgba(60, 64, 67, 0.3), 0px 1px 3px 1px rgba(60, 64, 67, 0.15);\n",
              "      fill: #174EA6;\n",
              "    }\n",
              "\n",
              "    .colab-df-buttons div {\n",
              "      margin-bottom: 4px;\n",
              "    }\n",
              "\n",
              "    [theme=dark] .colab-df-convert {\n",
              "      background-color: #3B4455;\n",
              "      fill: #D2E3FC;\n",
              "    }\n",
              "\n",
              "    [theme=dark] .colab-df-convert:hover {\n",
              "      background-color: #434B5C;\n",
              "      box-shadow: 0px 1px 3px 1px rgba(0, 0, 0, 0.15);\n",
              "      filter: drop-shadow(0px 1px 2px rgba(0, 0, 0, 0.3));\n",
              "      fill: #FFFFFF;\n",
              "    }\n",
              "  </style>\n",
              "\n",
              "    <script>\n",
              "      const buttonEl =\n",
              "        document.querySelector('#df-de268b4c-633b-4820-bab8-807b13e575ad button.colab-df-convert');\n",
              "      buttonEl.style.display =\n",
              "        google.colab.kernel.accessAllowed ? 'block' : 'none';\n",
              "\n",
              "      async function convertToInteractive(key) {\n",
              "        const element = document.querySelector('#df-de268b4c-633b-4820-bab8-807b13e575ad');\n",
              "        const dataTable =\n",
              "          await google.colab.kernel.invokeFunction('convertToInteractive',\n",
              "                                                    [key], {});\n",
              "        if (!dataTable) return;\n",
              "\n",
              "        const docLinkHtml = 'Like what you see? Visit the ' +\n",
              "          '<a target=\"_blank\" href=https://colab.research.google.com/notebooks/data_table.ipynb>data table notebook</a>'\n",
              "          + ' to learn more about interactive tables.';\n",
              "        element.innerHTML = '';\n",
              "        dataTable['output_type'] = 'display_data';\n",
              "        await google.colab.output.renderOutput(dataTable, element);\n",
              "        const docLink = document.createElement('div');\n",
              "        docLink.innerHTML = docLinkHtml;\n",
              "        element.appendChild(docLink);\n",
              "      }\n",
              "    </script>\n",
              "  </div>\n",
              "\n",
              "\n",
              "    <div id=\"df-52dda536-ff5c-45b6-ae64-55d12aa4978c\">\n",
              "      <button class=\"colab-df-quickchart\" onclick=\"quickchart('df-52dda536-ff5c-45b6-ae64-55d12aa4978c')\"\n",
              "                title=\"Suggest charts\"\n",
              "                style=\"display:none;\">\n",
              "\n",
              "<svg xmlns=\"http://www.w3.org/2000/svg\" height=\"24px\"viewBox=\"0 0 24 24\"\n",
              "     width=\"24px\">\n",
              "    <g>\n",
              "        <path d=\"M19 3H5c-1.1 0-2 .9-2 2v14c0 1.1.9 2 2 2h14c1.1 0 2-.9 2-2V5c0-1.1-.9-2-2-2zM9 17H7v-7h2v7zm4 0h-2V7h2v10zm4 0h-2v-4h2v4z\"/>\n",
              "    </g>\n",
              "</svg>\n",
              "      </button>\n",
              "\n",
              "<style>\n",
              "  .colab-df-quickchart {\n",
              "      --bg-color: #E8F0FE;\n",
              "      --fill-color: #1967D2;\n",
              "      --hover-bg-color: #E2EBFA;\n",
              "      --hover-fill-color: #174EA6;\n",
              "      --disabled-fill-color: #AAA;\n",
              "      --disabled-bg-color: #DDD;\n",
              "  }\n",
              "\n",
              "  [theme=dark] .colab-df-quickchart {\n",
              "      --bg-color: #3B4455;\n",
              "      --fill-color: #D2E3FC;\n",
              "      --hover-bg-color: #434B5C;\n",
              "      --hover-fill-color: #FFFFFF;\n",
              "      --disabled-bg-color: #3B4455;\n",
              "      --disabled-fill-color: #666;\n",
              "  }\n",
              "\n",
              "  .colab-df-quickchart {\n",
              "    background-color: var(--bg-color);\n",
              "    border: none;\n",
              "    border-radius: 50%;\n",
              "    cursor: pointer;\n",
              "    display: none;\n",
              "    fill: var(--fill-color);\n",
              "    height: 32px;\n",
              "    padding: 0;\n",
              "    width: 32px;\n",
              "  }\n",
              "\n",
              "  .colab-df-quickchart:hover {\n",
              "    background-color: var(--hover-bg-color);\n",
              "    box-shadow: 0 1px 2px rgba(60, 64, 67, 0.3), 0 1px 3px 1px rgba(60, 64, 67, 0.15);\n",
              "    fill: var(--button-hover-fill-color);\n",
              "  }\n",
              "\n",
              "  .colab-df-quickchart-complete:disabled,\n",
              "  .colab-df-quickchart-complete:disabled:hover {\n",
              "    background-color: var(--disabled-bg-color);\n",
              "    fill: var(--disabled-fill-color);\n",
              "    box-shadow: none;\n",
              "  }\n",
              "\n",
              "  .colab-df-spinner {\n",
              "    border: 2px solid var(--fill-color);\n",
              "    border-color: transparent;\n",
              "    border-bottom-color: var(--fill-color);\n",
              "    animation:\n",
              "      spin 1s steps(1) infinite;\n",
              "  }\n",
              "\n",
              "  @keyframes spin {\n",
              "    0% {\n",
              "      border-color: transparent;\n",
              "      border-bottom-color: var(--fill-color);\n",
              "      border-left-color: var(--fill-color);\n",
              "    }\n",
              "    20% {\n",
              "      border-color: transparent;\n",
              "      border-left-color: var(--fill-color);\n",
              "      border-top-color: var(--fill-color);\n",
              "    }\n",
              "    30% {\n",
              "      border-color: transparent;\n",
              "      border-left-color: var(--fill-color);\n",
              "      border-top-color: var(--fill-color);\n",
              "      border-right-color: var(--fill-color);\n",
              "    }\n",
              "    40% {\n",
              "      border-color: transparent;\n",
              "      border-right-color: var(--fill-color);\n",
              "      border-top-color: var(--fill-color);\n",
              "    }\n",
              "    60% {\n",
              "      border-color: transparent;\n",
              "      border-right-color: var(--fill-color);\n",
              "    }\n",
              "    80% {\n",
              "      border-color: transparent;\n",
              "      border-right-color: var(--fill-color);\n",
              "      border-bottom-color: var(--fill-color);\n",
              "    }\n",
              "    90% {\n",
              "      border-color: transparent;\n",
              "      border-bottom-color: var(--fill-color);\n",
              "    }\n",
              "  }\n",
              "</style>\n",
              "\n",
              "      <script>\n",
              "        async function quickchart(key) {\n",
              "          const quickchartButtonEl =\n",
              "            document.querySelector('#' + key + ' button');\n",
              "          quickchartButtonEl.disabled = true;  // To prevent multiple clicks.\n",
              "          quickchartButtonEl.classList.add('colab-df-spinner');\n",
              "          try {\n",
              "            const charts = await google.colab.kernel.invokeFunction(\n",
              "                'suggestCharts', [key], {});\n",
              "          } catch (error) {\n",
              "            console.error('Error during call to suggestCharts:', error);\n",
              "          }\n",
              "          quickchartButtonEl.classList.remove('colab-df-spinner');\n",
              "          quickchartButtonEl.classList.add('colab-df-quickchart-complete');\n",
              "        }\n",
              "        (() => {\n",
              "          let quickchartButtonEl =\n",
              "            document.querySelector('#df-52dda536-ff5c-45b6-ae64-55d12aa4978c button');\n",
              "          quickchartButtonEl.style.display =\n",
              "            google.colab.kernel.accessAllowed ? 'block' : 'none';\n",
              "        })();\n",
              "      </script>\n",
              "    </div>\n",
              "\n",
              "    </div>\n",
              "  </div>\n"
            ],
            "application/vnd.google.colaboratory.intrinsic+json": {
              "type": "dataframe",
              "variable_name": "cbg_visits_df",
              "summary": "{\n  \"name\": \"cbg_visits_df\",\n  \"rows\": 7356,\n  \"fields\": [\n    {\n      \"column\": \"CBG\",\n      \"properties\": {\n        \"dtype\": \"string\",\n        \"num_unique_values\": 7356,\n        \"samples\": [\n          \"060372374011\",\n          \"060590626141\",\n          \"401350304023\"\n        ],\n        \"semantic_type\": \"\",\n        \"description\": \"\"\n      }\n    },\n    {\n      \"column\": \"Visit_Count\",\n      \"properties\": {\n        \"dtype\": \"number\",\n        \"std\": 223,\n        \"min\": 4,\n        \"max\": 7814,\n        \"num_unique_values\": 582,\n        \"samples\": [\n          725,\n          146,\n          300\n        ],\n        \"semantic_type\": \"\",\n        \"description\": \"\"\n      }\n    }\n  ]\n}"
            }
          },
          "metadata": {},
          "execution_count": 118
        }
      ],
      "source": [
        "# Flatten parsed_cbgs into a long dataframe\n",
        "cbg_visit_list = []\n",
        "\n",
        "for row in mobility_valid['parsed_cbgs']:\n",
        "    for cbg, count in row.items():\n",
        "        cbg_visit_list.append({'CBG': cbg, 'Visit_Count': count})\n",
        "\n",
        "cbg_visits_df = pd.DataFrame(cbg_visit_list)\n",
        "\n",
        "# Optional: aggregate if same CBG appears multiple times\n",
        "cbg_visits_df = cbg_visits_df.groupby('CBG', as_index=False)['Visit_Count'].sum()\n",
        "\n",
        "# Preview the result\n",
        "print(\"CBG-level Visit DataFrame shape:\", cbg_visits_df.shape)\n",
        "cbg_visits_df.head()"
      ]
    },
    {
      "cell_type": "code",
      "execution_count": null,
      "metadata": {
        "colab": {
          "base_uri": "https://localhost:8080/",
          "height": 224
        },
        "id": "SEJcdJkSW6Ic",
        "outputId": "35e22771-29cc-4425-eee1-e32bf699cddc"
      },
      "outputs": [
        {
          "output_type": "stream",
          "name": "stdout",
          "text": [
            "Filtered visit CBGs: (3046, 2)\n"
          ]
        },
        {
          "output_type": "execute_result",
          "data": {
            "text/plain": [
              "              CBG  Visit_Count\n",
              "342  060371011101           10\n",
              "343  060371011102           74\n",
              "344  060371011221          149\n",
              "345  060371011222           28\n",
              "348  060371012201           89"
            ],
            "text/html": [
              "\n",
              "  <div id=\"df-2cde4370-e7b7-478b-aaa5-ca0a93e613df\" class=\"colab-df-container\">\n",
              "    <div>\n",
              "<style scoped>\n",
              "    .dataframe tbody tr th:only-of-type {\n",
              "        vertical-align: middle;\n",
              "    }\n",
              "\n",
              "    .dataframe tbody tr th {\n",
              "        vertical-align: top;\n",
              "    }\n",
              "\n",
              "    .dataframe thead th {\n",
              "        text-align: right;\n",
              "    }\n",
              "</style>\n",
              "<table border=\"1\" class=\"dataframe\">\n",
              "  <thead>\n",
              "    <tr style=\"text-align: right;\">\n",
              "      <th></th>\n",
              "      <th>CBG</th>\n",
              "      <th>Visit_Count</th>\n",
              "    </tr>\n",
              "  </thead>\n",
              "  <tbody>\n",
              "    <tr>\n",
              "      <th>342</th>\n",
              "      <td>060371011101</td>\n",
              "      <td>10</td>\n",
              "    </tr>\n",
              "    <tr>\n",
              "      <th>343</th>\n",
              "      <td>060371011102</td>\n",
              "      <td>74</td>\n",
              "    </tr>\n",
              "    <tr>\n",
              "      <th>344</th>\n",
              "      <td>060371011221</td>\n",
              "      <td>149</td>\n",
              "    </tr>\n",
              "    <tr>\n",
              "      <th>345</th>\n",
              "      <td>060371011222</td>\n",
              "      <td>28</td>\n",
              "    </tr>\n",
              "    <tr>\n",
              "      <th>348</th>\n",
              "      <td>060371012201</td>\n",
              "      <td>89</td>\n",
              "    </tr>\n",
              "  </tbody>\n",
              "</table>\n",
              "</div>\n",
              "    <div class=\"colab-df-buttons\">\n",
              "\n",
              "  <div class=\"colab-df-container\">\n",
              "    <button class=\"colab-df-convert\" onclick=\"convertToInteractive('df-2cde4370-e7b7-478b-aaa5-ca0a93e613df')\"\n",
              "            title=\"Convert this dataframe to an interactive table.\"\n",
              "            style=\"display:none;\">\n",
              "\n",
              "  <svg xmlns=\"http://www.w3.org/2000/svg\" height=\"24px\" viewBox=\"0 -960 960 960\">\n",
              "    <path d=\"M120-120v-720h720v720H120Zm60-500h600v-160H180v160Zm220 220h160v-160H400v160Zm0 220h160v-160H400v160ZM180-400h160v-160H180v160Zm440 0h160v-160H620v160ZM180-180h160v-160H180v160Zm440 0h160v-160H620v160Z\"/>\n",
              "  </svg>\n",
              "    </button>\n",
              "\n",
              "  <style>\n",
              "    .colab-df-container {\n",
              "      display:flex;\n",
              "      gap: 12px;\n",
              "    }\n",
              "\n",
              "    .colab-df-convert {\n",
              "      background-color: #E8F0FE;\n",
              "      border: none;\n",
              "      border-radius: 50%;\n",
              "      cursor: pointer;\n",
              "      display: none;\n",
              "      fill: #1967D2;\n",
              "      height: 32px;\n",
              "      padding: 0 0 0 0;\n",
              "      width: 32px;\n",
              "    }\n",
              "\n",
              "    .colab-df-convert:hover {\n",
              "      background-color: #E2EBFA;\n",
              "      box-shadow: 0px 1px 2px rgba(60, 64, 67, 0.3), 0px 1px 3px 1px rgba(60, 64, 67, 0.15);\n",
              "      fill: #174EA6;\n",
              "    }\n",
              "\n",
              "    .colab-df-buttons div {\n",
              "      margin-bottom: 4px;\n",
              "    }\n",
              "\n",
              "    [theme=dark] .colab-df-convert {\n",
              "      background-color: #3B4455;\n",
              "      fill: #D2E3FC;\n",
              "    }\n",
              "\n",
              "    [theme=dark] .colab-df-convert:hover {\n",
              "      background-color: #434B5C;\n",
              "      box-shadow: 0px 1px 3px 1px rgba(0, 0, 0, 0.15);\n",
              "      filter: drop-shadow(0px 1px 2px rgba(0, 0, 0, 0.3));\n",
              "      fill: #FFFFFF;\n",
              "    }\n",
              "  </style>\n",
              "\n",
              "    <script>\n",
              "      const buttonEl =\n",
              "        document.querySelector('#df-2cde4370-e7b7-478b-aaa5-ca0a93e613df button.colab-df-convert');\n",
              "      buttonEl.style.display =\n",
              "        google.colab.kernel.accessAllowed ? 'block' : 'none';\n",
              "\n",
              "      async function convertToInteractive(key) {\n",
              "        const element = document.querySelector('#df-2cde4370-e7b7-478b-aaa5-ca0a93e613df');\n",
              "        const dataTable =\n",
              "          await google.colab.kernel.invokeFunction('convertToInteractive',\n",
              "                                                    [key], {});\n",
              "        if (!dataTable) return;\n",
              "\n",
              "        const docLinkHtml = 'Like what you see? Visit the ' +\n",
              "          '<a target=\"_blank\" href=https://colab.research.google.com/notebooks/data_table.ipynb>data table notebook</a>'\n",
              "          + ' to learn more about interactive tables.';\n",
              "        element.innerHTML = '';\n",
              "        dataTable['output_type'] = 'display_data';\n",
              "        await google.colab.output.renderOutput(dataTable, element);\n",
              "        const docLink = document.createElement('div');\n",
              "        docLink.innerHTML = docLinkHtml;\n",
              "        element.appendChild(docLink);\n",
              "      }\n",
              "    </script>\n",
              "  </div>\n",
              "\n",
              "\n",
              "    <div id=\"df-71ad8bac-7003-4d7b-b7c5-e9b96aee9dc3\">\n",
              "      <button class=\"colab-df-quickchart\" onclick=\"quickchart('df-71ad8bac-7003-4d7b-b7c5-e9b96aee9dc3')\"\n",
              "                title=\"Suggest charts\"\n",
              "                style=\"display:none;\">\n",
              "\n",
              "<svg xmlns=\"http://www.w3.org/2000/svg\" height=\"24px\"viewBox=\"0 0 24 24\"\n",
              "     width=\"24px\">\n",
              "    <g>\n",
              "        <path d=\"M19 3H5c-1.1 0-2 .9-2 2v14c0 1.1.9 2 2 2h14c1.1 0 2-.9 2-2V5c0-1.1-.9-2-2-2zM9 17H7v-7h2v7zm4 0h-2V7h2v10zm4 0h-2v-4h2v4z\"/>\n",
              "    </g>\n",
              "</svg>\n",
              "      </button>\n",
              "\n",
              "<style>\n",
              "  .colab-df-quickchart {\n",
              "      --bg-color: #E8F0FE;\n",
              "      --fill-color: #1967D2;\n",
              "      --hover-bg-color: #E2EBFA;\n",
              "      --hover-fill-color: #174EA6;\n",
              "      --disabled-fill-color: #AAA;\n",
              "      --disabled-bg-color: #DDD;\n",
              "  }\n",
              "\n",
              "  [theme=dark] .colab-df-quickchart {\n",
              "      --bg-color: #3B4455;\n",
              "      --fill-color: #D2E3FC;\n",
              "      --hover-bg-color: #434B5C;\n",
              "      --hover-fill-color: #FFFFFF;\n",
              "      --disabled-bg-color: #3B4455;\n",
              "      --disabled-fill-color: #666;\n",
              "  }\n",
              "\n",
              "  .colab-df-quickchart {\n",
              "    background-color: var(--bg-color);\n",
              "    border: none;\n",
              "    border-radius: 50%;\n",
              "    cursor: pointer;\n",
              "    display: none;\n",
              "    fill: var(--fill-color);\n",
              "    height: 32px;\n",
              "    padding: 0;\n",
              "    width: 32px;\n",
              "  }\n",
              "\n",
              "  .colab-df-quickchart:hover {\n",
              "    background-color: var(--hover-bg-color);\n",
              "    box-shadow: 0 1px 2px rgba(60, 64, 67, 0.3), 0 1px 3px 1px rgba(60, 64, 67, 0.15);\n",
              "    fill: var(--button-hover-fill-color);\n",
              "  }\n",
              "\n",
              "  .colab-df-quickchart-complete:disabled,\n",
              "  .colab-df-quickchart-complete:disabled:hover {\n",
              "    background-color: var(--disabled-bg-color);\n",
              "    fill: var(--disabled-fill-color);\n",
              "    box-shadow: none;\n",
              "  }\n",
              "\n",
              "  .colab-df-spinner {\n",
              "    border: 2px solid var(--fill-color);\n",
              "    border-color: transparent;\n",
              "    border-bottom-color: var(--fill-color);\n",
              "    animation:\n",
              "      spin 1s steps(1) infinite;\n",
              "  }\n",
              "\n",
              "  @keyframes spin {\n",
              "    0% {\n",
              "      border-color: transparent;\n",
              "      border-bottom-color: var(--fill-color);\n",
              "      border-left-color: var(--fill-color);\n",
              "    }\n",
              "    20% {\n",
              "      border-color: transparent;\n",
              "      border-left-color: var(--fill-color);\n",
              "      border-top-color: var(--fill-color);\n",
              "    }\n",
              "    30% {\n",
              "      border-color: transparent;\n",
              "      border-left-color: var(--fill-color);\n",
              "      border-top-color: var(--fill-color);\n",
              "      border-right-color: var(--fill-color);\n",
              "    }\n",
              "    40% {\n",
              "      border-color: transparent;\n",
              "      border-right-color: var(--fill-color);\n",
              "      border-top-color: var(--fill-color);\n",
              "    }\n",
              "    60% {\n",
              "      border-color: transparent;\n",
              "      border-right-color: var(--fill-color);\n",
              "    }\n",
              "    80% {\n",
              "      border-color: transparent;\n",
              "      border-right-color: var(--fill-color);\n",
              "      border-bottom-color: var(--fill-color);\n",
              "    }\n",
              "    90% {\n",
              "      border-color: transparent;\n",
              "      border-bottom-color: var(--fill-color);\n",
              "    }\n",
              "  }\n",
              "</style>\n",
              "\n",
              "      <script>\n",
              "        async function quickchart(key) {\n",
              "          const quickchartButtonEl =\n",
              "            document.querySelector('#' + key + ' button');\n",
              "          quickchartButtonEl.disabled = true;  // To prevent multiple clicks.\n",
              "          quickchartButtonEl.classList.add('colab-df-spinner');\n",
              "          try {\n",
              "            const charts = await google.colab.kernel.invokeFunction(\n",
              "                'suggestCharts', [key], {});\n",
              "          } catch (error) {\n",
              "            console.error('Error during call to suggestCharts:', error);\n",
              "          }\n",
              "          quickchartButtonEl.classList.remove('colab-df-spinner');\n",
              "          quickchartButtonEl.classList.add('colab-df-quickchart-complete');\n",
              "        }\n",
              "        (() => {\n",
              "          let quickchartButtonEl =\n",
              "            document.querySelector('#df-71ad8bac-7003-4d7b-b7c5-e9b96aee9dc3 button');\n",
              "          quickchartButtonEl.style.display =\n",
              "            google.colab.kernel.accessAllowed ? 'block' : 'none';\n",
              "        })();\n",
              "      </script>\n",
              "    </div>\n",
              "\n",
              "    </div>\n",
              "  </div>\n"
            ],
            "application/vnd.google.colaboratory.intrinsic+json": {
              "type": "dataframe",
              "variable_name": "cbg_visits_filtered",
              "summary": "{\n  \"name\": \"cbg_visits_filtered\",\n  \"rows\": 3046,\n  \"fields\": [\n    {\n      \"column\": \"CBG\",\n      \"properties\": {\n        \"dtype\": \"string\",\n        \"num_unique_values\": 3046,\n        \"samples\": [\n          \"060372170023\",\n          \"060371905202\",\n          \"060375327001\"\n        ],\n        \"semantic_type\": \"\",\n        \"description\": \"\"\n      }\n    },\n    {\n      \"column\": \"Visit_Count\",\n      \"properties\": {\n        \"dtype\": \"number\",\n        \"std\": 195,\n        \"min\": 4,\n        \"max\": 2308,\n        \"num_unique_values\": 505,\n        \"samples\": [\n          378,\n          396,\n          703\n        ],\n        \"semantic_type\": \"\",\n        \"description\": \"\"\n      }\n    }\n  ]\n}"
            }
          },
          "metadata": {},
          "execution_count": 119
        }
      ],
      "source": [
        "# Step: Filter visit data to only CBGs in your demographic dataset\n",
        "valid_geoids = merged_df['GEOID'].unique()\n",
        "cbg_visits_filtered = cbg_visits_df[cbg_visits_df['CBG'].isin(valid_geoids)]\n",
        "\n",
        "# Check result\n",
        "print(\"Filtered visit CBGs:\", cbg_visits_filtered.shape)\n",
        "cbg_visits_filtered.head()"
      ]
    },
    {
      "cell_type": "code",
      "source": [
        "# Merge visit counts into demographic data\n",
        "final_df = pd.merge(merged_df, cbg_visits_filtered, left_on='GEOID', right_on='CBG', how='inner')\n",
        "\n",
        "# Drop redundant CBG column\n",
        "final_df = final_df.drop(columns=['CBG'])\n",
        "\n",
        "# Check shape and preview\n",
        "print(\"Final enriched dataset shape:\", final_df.shape)\n",
        "final_df.head()"
      ],
      "metadata": {
        "colab": {
          "base_uri": "https://localhost:8080/",
          "height": 224
        },
        "id": "8iqcov9VTwp3",
        "outputId": "fa1c3651-f590-4fdb-90d3-e1bc7e51800d"
      },
      "execution_count": null,
      "outputs": [
        {
          "output_type": "stream",
          "name": "stdout",
          "text": [
            "Final enriched dataset shape: (3046, 11)\n"
          ]
        },
        {
          "output_type": "execute_result",
          "data": {
            "text/plain": [
              "          GEOID  median_income  18_24  25_40  41_60  60_plus  pct_white  \\\n",
              "0  060371011101        63242.0     49     62    308      490   0.580919   \n",
              "1  060371011102        56250.0     30     60    304      460   0.576670   \n",
              "2  060371011221       120833.0     57    242    258      755   0.751634   \n",
              "3  060371011222        90536.0      7    109    323      521   0.595035   \n",
              "4  060371012201        55781.0     47     65    224      363   0.556236   \n",
              "\n",
              "   pct_black  pct_asian  pct_other  Visit_Count  \n",
              "0   0.064311   0.048057   0.306714           10  \n",
              "1   0.016429   0.145126   0.257393           74  \n",
              "2   0.024691   0.136166   0.087509          149  \n",
              "3   0.005674   0.146809   0.236879           28  \n",
              "4   0.000000   0.134660   0.309105           89  "
            ],
            "text/html": [
              "\n",
              "  <div id=\"df-1f962c2f-6fb5-4964-bfa3-cf57aa3a313a\" class=\"colab-df-container\">\n",
              "    <div>\n",
              "<style scoped>\n",
              "    .dataframe tbody tr th:only-of-type {\n",
              "        vertical-align: middle;\n",
              "    }\n",
              "\n",
              "    .dataframe tbody tr th {\n",
              "        vertical-align: top;\n",
              "    }\n",
              "\n",
              "    .dataframe thead th {\n",
              "        text-align: right;\n",
              "    }\n",
              "</style>\n",
              "<table border=\"1\" class=\"dataframe\">\n",
              "  <thead>\n",
              "    <tr style=\"text-align: right;\">\n",
              "      <th></th>\n",
              "      <th>GEOID</th>\n",
              "      <th>median_income</th>\n",
              "      <th>18_24</th>\n",
              "      <th>25_40</th>\n",
              "      <th>41_60</th>\n",
              "      <th>60_plus</th>\n",
              "      <th>pct_white</th>\n",
              "      <th>pct_black</th>\n",
              "      <th>pct_asian</th>\n",
              "      <th>pct_other</th>\n",
              "      <th>Visit_Count</th>\n",
              "    </tr>\n",
              "  </thead>\n",
              "  <tbody>\n",
              "    <tr>\n",
              "      <th>0</th>\n",
              "      <td>060371011101</td>\n",
              "      <td>63242.0</td>\n",
              "      <td>49</td>\n",
              "      <td>62</td>\n",
              "      <td>308</td>\n",
              "      <td>490</td>\n",
              "      <td>0.580919</td>\n",
              "      <td>0.064311</td>\n",
              "      <td>0.048057</td>\n",
              "      <td>0.306714</td>\n",
              "      <td>10</td>\n",
              "    </tr>\n",
              "    <tr>\n",
              "      <th>1</th>\n",
              "      <td>060371011102</td>\n",
              "      <td>56250.0</td>\n",
              "      <td>30</td>\n",
              "      <td>60</td>\n",
              "      <td>304</td>\n",
              "      <td>460</td>\n",
              "      <td>0.576670</td>\n",
              "      <td>0.016429</td>\n",
              "      <td>0.145126</td>\n",
              "      <td>0.257393</td>\n",
              "      <td>74</td>\n",
              "    </tr>\n",
              "    <tr>\n",
              "      <th>2</th>\n",
              "      <td>060371011221</td>\n",
              "      <td>120833.0</td>\n",
              "      <td>57</td>\n",
              "      <td>242</td>\n",
              "      <td>258</td>\n",
              "      <td>755</td>\n",
              "      <td>0.751634</td>\n",
              "      <td>0.024691</td>\n",
              "      <td>0.136166</td>\n",
              "      <td>0.087509</td>\n",
              "      <td>149</td>\n",
              "    </tr>\n",
              "    <tr>\n",
              "      <th>3</th>\n",
              "      <td>060371011222</td>\n",
              "      <td>90536.0</td>\n",
              "      <td>7</td>\n",
              "      <td>109</td>\n",
              "      <td>323</td>\n",
              "      <td>521</td>\n",
              "      <td>0.595035</td>\n",
              "      <td>0.005674</td>\n",
              "      <td>0.146809</td>\n",
              "      <td>0.236879</td>\n",
              "      <td>28</td>\n",
              "    </tr>\n",
              "    <tr>\n",
              "      <th>4</th>\n",
              "      <td>060371012201</td>\n",
              "      <td>55781.0</td>\n",
              "      <td>47</td>\n",
              "      <td>65</td>\n",
              "      <td>224</td>\n",
              "      <td>363</td>\n",
              "      <td>0.556236</td>\n",
              "      <td>0.000000</td>\n",
              "      <td>0.134660</td>\n",
              "      <td>0.309105</td>\n",
              "      <td>89</td>\n",
              "    </tr>\n",
              "  </tbody>\n",
              "</table>\n",
              "</div>\n",
              "    <div class=\"colab-df-buttons\">\n",
              "\n",
              "  <div class=\"colab-df-container\">\n",
              "    <button class=\"colab-df-convert\" onclick=\"convertToInteractive('df-1f962c2f-6fb5-4964-bfa3-cf57aa3a313a')\"\n",
              "            title=\"Convert this dataframe to an interactive table.\"\n",
              "            style=\"display:none;\">\n",
              "\n",
              "  <svg xmlns=\"http://www.w3.org/2000/svg\" height=\"24px\" viewBox=\"0 -960 960 960\">\n",
              "    <path d=\"M120-120v-720h720v720H120Zm60-500h600v-160H180v160Zm220 220h160v-160H400v160Zm0 220h160v-160H400v160ZM180-400h160v-160H180v160Zm440 0h160v-160H620v160ZM180-180h160v-160H180v160Zm440 0h160v-160H620v160Z\"/>\n",
              "  </svg>\n",
              "    </button>\n",
              "\n",
              "  <style>\n",
              "    .colab-df-container {\n",
              "      display:flex;\n",
              "      gap: 12px;\n",
              "    }\n",
              "\n",
              "    .colab-df-convert {\n",
              "      background-color: #E8F0FE;\n",
              "      border: none;\n",
              "      border-radius: 50%;\n",
              "      cursor: pointer;\n",
              "      display: none;\n",
              "      fill: #1967D2;\n",
              "      height: 32px;\n",
              "      padding: 0 0 0 0;\n",
              "      width: 32px;\n",
              "    }\n",
              "\n",
              "    .colab-df-convert:hover {\n",
              "      background-color: #E2EBFA;\n",
              "      box-shadow: 0px 1px 2px rgba(60, 64, 67, 0.3), 0px 1px 3px 1px rgba(60, 64, 67, 0.15);\n",
              "      fill: #174EA6;\n",
              "    }\n",
              "\n",
              "    .colab-df-buttons div {\n",
              "      margin-bottom: 4px;\n",
              "    }\n",
              "\n",
              "    [theme=dark] .colab-df-convert {\n",
              "      background-color: #3B4455;\n",
              "      fill: #D2E3FC;\n",
              "    }\n",
              "\n",
              "    [theme=dark] .colab-df-convert:hover {\n",
              "      background-color: #434B5C;\n",
              "      box-shadow: 0px 1px 3px 1px rgba(0, 0, 0, 0.15);\n",
              "      filter: drop-shadow(0px 1px 2px rgba(0, 0, 0, 0.3));\n",
              "      fill: #FFFFFF;\n",
              "    }\n",
              "  </style>\n",
              "\n",
              "    <script>\n",
              "      const buttonEl =\n",
              "        document.querySelector('#df-1f962c2f-6fb5-4964-bfa3-cf57aa3a313a button.colab-df-convert');\n",
              "      buttonEl.style.display =\n",
              "        google.colab.kernel.accessAllowed ? 'block' : 'none';\n",
              "\n",
              "      async function convertToInteractive(key) {\n",
              "        const element = document.querySelector('#df-1f962c2f-6fb5-4964-bfa3-cf57aa3a313a');\n",
              "        const dataTable =\n",
              "          await google.colab.kernel.invokeFunction('convertToInteractive',\n",
              "                                                    [key], {});\n",
              "        if (!dataTable) return;\n",
              "\n",
              "        const docLinkHtml = 'Like what you see? Visit the ' +\n",
              "          '<a target=\"_blank\" href=https://colab.research.google.com/notebooks/data_table.ipynb>data table notebook</a>'\n",
              "          + ' to learn more about interactive tables.';\n",
              "        element.innerHTML = '';\n",
              "        dataTable['output_type'] = 'display_data';\n",
              "        await google.colab.output.renderOutput(dataTable, element);\n",
              "        const docLink = document.createElement('div');\n",
              "        docLink.innerHTML = docLinkHtml;\n",
              "        element.appendChild(docLink);\n",
              "      }\n",
              "    </script>\n",
              "  </div>\n",
              "\n",
              "\n",
              "    <div id=\"df-072d00ae-ce88-46be-aca7-9e40424a9487\">\n",
              "      <button class=\"colab-df-quickchart\" onclick=\"quickchart('df-072d00ae-ce88-46be-aca7-9e40424a9487')\"\n",
              "                title=\"Suggest charts\"\n",
              "                style=\"display:none;\">\n",
              "\n",
              "<svg xmlns=\"http://www.w3.org/2000/svg\" height=\"24px\"viewBox=\"0 0 24 24\"\n",
              "     width=\"24px\">\n",
              "    <g>\n",
              "        <path d=\"M19 3H5c-1.1 0-2 .9-2 2v14c0 1.1.9 2 2 2h14c1.1 0 2-.9 2-2V5c0-1.1-.9-2-2-2zM9 17H7v-7h2v7zm4 0h-2V7h2v10zm4 0h-2v-4h2v4z\"/>\n",
              "    </g>\n",
              "</svg>\n",
              "      </button>\n",
              "\n",
              "<style>\n",
              "  .colab-df-quickchart {\n",
              "      --bg-color: #E8F0FE;\n",
              "      --fill-color: #1967D2;\n",
              "      --hover-bg-color: #E2EBFA;\n",
              "      --hover-fill-color: #174EA6;\n",
              "      --disabled-fill-color: #AAA;\n",
              "      --disabled-bg-color: #DDD;\n",
              "  }\n",
              "\n",
              "  [theme=dark] .colab-df-quickchart {\n",
              "      --bg-color: #3B4455;\n",
              "      --fill-color: #D2E3FC;\n",
              "      --hover-bg-color: #434B5C;\n",
              "      --hover-fill-color: #FFFFFF;\n",
              "      --disabled-bg-color: #3B4455;\n",
              "      --disabled-fill-color: #666;\n",
              "  }\n",
              "\n",
              "  .colab-df-quickchart {\n",
              "    background-color: var(--bg-color);\n",
              "    border: none;\n",
              "    border-radius: 50%;\n",
              "    cursor: pointer;\n",
              "    display: none;\n",
              "    fill: var(--fill-color);\n",
              "    height: 32px;\n",
              "    padding: 0;\n",
              "    width: 32px;\n",
              "  }\n",
              "\n",
              "  .colab-df-quickchart:hover {\n",
              "    background-color: var(--hover-bg-color);\n",
              "    box-shadow: 0 1px 2px rgba(60, 64, 67, 0.3), 0 1px 3px 1px rgba(60, 64, 67, 0.15);\n",
              "    fill: var(--button-hover-fill-color);\n",
              "  }\n",
              "\n",
              "  .colab-df-quickchart-complete:disabled,\n",
              "  .colab-df-quickchart-complete:disabled:hover {\n",
              "    background-color: var(--disabled-bg-color);\n",
              "    fill: var(--disabled-fill-color);\n",
              "    box-shadow: none;\n",
              "  }\n",
              "\n",
              "  .colab-df-spinner {\n",
              "    border: 2px solid var(--fill-color);\n",
              "    border-color: transparent;\n",
              "    border-bottom-color: var(--fill-color);\n",
              "    animation:\n",
              "      spin 1s steps(1) infinite;\n",
              "  }\n",
              "\n",
              "  @keyframes spin {\n",
              "    0% {\n",
              "      border-color: transparent;\n",
              "      border-bottom-color: var(--fill-color);\n",
              "      border-left-color: var(--fill-color);\n",
              "    }\n",
              "    20% {\n",
              "      border-color: transparent;\n",
              "      border-left-color: var(--fill-color);\n",
              "      border-top-color: var(--fill-color);\n",
              "    }\n",
              "    30% {\n",
              "      border-color: transparent;\n",
              "      border-left-color: var(--fill-color);\n",
              "      border-top-color: var(--fill-color);\n",
              "      border-right-color: var(--fill-color);\n",
              "    }\n",
              "    40% {\n",
              "      border-color: transparent;\n",
              "      border-right-color: var(--fill-color);\n",
              "      border-top-color: var(--fill-color);\n",
              "    }\n",
              "    60% {\n",
              "      border-color: transparent;\n",
              "      border-right-color: var(--fill-color);\n",
              "    }\n",
              "    80% {\n",
              "      border-color: transparent;\n",
              "      border-right-color: var(--fill-color);\n",
              "      border-bottom-color: var(--fill-color);\n",
              "    }\n",
              "    90% {\n",
              "      border-color: transparent;\n",
              "      border-bottom-color: var(--fill-color);\n",
              "    }\n",
              "  }\n",
              "</style>\n",
              "\n",
              "      <script>\n",
              "        async function quickchart(key) {\n",
              "          const quickchartButtonEl =\n",
              "            document.querySelector('#' + key + ' button');\n",
              "          quickchartButtonEl.disabled = true;  // To prevent multiple clicks.\n",
              "          quickchartButtonEl.classList.add('colab-df-spinner');\n",
              "          try {\n",
              "            const charts = await google.colab.kernel.invokeFunction(\n",
              "                'suggestCharts', [key], {});\n",
              "          } catch (error) {\n",
              "            console.error('Error during call to suggestCharts:', error);\n",
              "          }\n",
              "          quickchartButtonEl.classList.remove('colab-df-spinner');\n",
              "          quickchartButtonEl.classList.add('colab-df-quickchart-complete');\n",
              "        }\n",
              "        (() => {\n",
              "          let quickchartButtonEl =\n",
              "            document.querySelector('#df-072d00ae-ce88-46be-aca7-9e40424a9487 button');\n",
              "          quickchartButtonEl.style.display =\n",
              "            google.colab.kernel.accessAllowed ? 'block' : 'none';\n",
              "        })();\n",
              "      </script>\n",
              "    </div>\n",
              "\n",
              "    </div>\n",
              "  </div>\n"
            ],
            "application/vnd.google.colaboratory.intrinsic+json": {
              "type": "dataframe",
              "variable_name": "final_df",
              "summary": "{\n  \"name\": \"final_df\",\n  \"rows\": 3046,\n  \"fields\": [\n    {\n      \"column\": \"GEOID\",\n      \"properties\": {\n        \"dtype\": \"string\",\n        \"num_unique_values\": 3046,\n        \"samples\": [\n          \"060372170023\",\n          \"060371905202\",\n          \"060375327001\"\n        ],\n        \"semantic_type\": \"\",\n        \"description\": \"\"\n      }\n    },\n    {\n      \"column\": \"median_income\",\n      \"properties\": {\n        \"dtype\": \"number\",\n        \"std\": 42296.104731391715,\n        \"min\": 12092.0,\n        \"max\": 250001.0,\n        \"num_unique_values\": 2733,\n        \"samples\": [\n          46438.0,\n          66000.0,\n          125662.0\n        ],\n        \"semantic_type\": \"\",\n        \"description\": \"\"\n      }\n    },\n    {\n      \"column\": \"18_24\",\n      \"properties\": {\n        \"dtype\": \"number\",\n        \"std\": 55,\n        \"min\": 0,\n        \"max\": 1260,\n        \"num_unique_values\": 197,\n        \"samples\": [\n          107,\n          77,\n          51\n        ],\n        \"semantic_type\": \"\",\n        \"description\": \"\"\n      }\n    },\n    {\n      \"column\": \"25_40\",\n      \"properties\": {\n        \"dtype\": \"number\",\n        \"std\": 99,\n        \"min\": 0,\n        \"max\": 1835,\n        \"num_unique_values\": 354,\n        \"samples\": [\n          139,\n          58,\n          213\n        ],\n        \"semantic_type\": \"\",\n        \"description\": \"\"\n      }\n    },\n    {\n      \"column\": \"41_60\",\n      \"properties\": {\n        \"dtype\": \"number\",\n        \"std\": 223,\n        \"min\": 0,\n        \"max\": 5331,\n        \"num_unique_values\": 814,\n        \"samples\": [\n          130,\n          262,\n          256\n        ],\n        \"semantic_type\": \"\",\n        \"description\": \"\"\n      }\n    },\n    {\n      \"column\": \"60_plus\",\n      \"properties\": {\n        \"dtype\": \"number\",\n        \"std\": 196,\n        \"min\": 12,\n        \"max\": 2950,\n        \"num_unique_values\": 786,\n        \"samples\": [\n          1339,\n          664,\n          518\n        ],\n        \"semantic_type\": \"\",\n        \"description\": \"\"\n      }\n    },\n    {\n      \"column\": \"pct_white\",\n      \"properties\": {\n        \"dtype\": \"number\",\n        \"std\": 0.22586587807438602,\n        \"min\": 0.0,\n        \"max\": 0.9869848156182213,\n        \"num_unique_values\": 3020,\n        \"samples\": [\n          0.4119014411901441,\n          0.47530288909599255,\n          0.22517162471395882\n        ],\n        \"semantic_type\": \"\",\n        \"description\": \"\"\n      }\n    },\n    {\n      \"column\": \"pct_black\",\n      \"properties\": {\n        \"dtype\": \"number\",\n        \"std\": 0.14556153890371906,\n        \"min\": 0.0,\n        \"max\": 1.0,\n        \"num_unique_values\": 2406,\n        \"samples\": [\n          0.24862579281183933,\n          0.10625,\n          0.0511727078891258\n        ],\n        \"semantic_type\": \"\",\n        \"description\": \"\"\n      }\n    },\n    {\n      \"column\": \"pct_asian\",\n      \"properties\": {\n        \"dtype\": \"number\",\n        \"std\": 0.16136498154290563,\n        \"min\": 0.0,\n        \"max\": 0.8907501820830298,\n        \"num_unique_values\": 2585,\n        \"samples\": [\n          0.2959747434885556,\n          0.12103281334050565,\n          0.4497307001795332\n        ],\n        \"semantic_type\": \"\",\n        \"description\": \"\"\n      }\n    },\n    {\n      \"column\": \"pct_other\",\n      \"properties\": {\n        \"dtype\": \"number\",\n        \"std\": 0.21508164399787527,\n        \"min\": 0.0,\n        \"max\": 0.9448345035105316,\n        \"num_unique_values\": 3015,\n        \"samples\": [\n          0.3125336202259279,\n          0.40897097625329815,\n          0.574934268185802\n        ],\n        \"semantic_type\": \"\",\n        \"description\": \"\"\n      }\n    },\n    {\n      \"column\": \"Visit_Count\",\n      \"properties\": {\n        \"dtype\": \"number\",\n        \"std\": 195,\n        \"min\": 4,\n        \"max\": 2308,\n        \"num_unique_values\": 505,\n        \"samples\": [\n          378,\n          396,\n          703\n        ],\n        \"semantic_type\": \"\",\n        \"description\": \"\"\n      }\n    }\n  ]\n}"
            }
          },
          "metadata": {},
          "execution_count": 120
        }
      ]
    },
    {
      "cell_type": "code",
      "source": [
        "# Step: Create income quartiles\n",
        "final_df['income_quartile'] = pd.qcut(final_df['median_income'], q=4, labels=['Q1', 'Q2', 'Q3', 'Q4'])\n",
        "\n",
        "# Preview how data looks\n",
        "final_df[['GEOID', 'median_income', 'income_quartile']].head()"
      ],
      "metadata": {
        "colab": {
          "base_uri": "https://localhost:8080/",
          "height": 206
        },
        "id": "1oe4hTCWTuWQ",
        "outputId": "526e729d-253d-4e34-de8f-7d47da18e4bf"
      },
      "execution_count": null,
      "outputs": [
        {
          "output_type": "execute_result",
          "data": {
            "text/plain": [
              "          GEOID  median_income income_quartile\n",
              "0  060371011101        63242.0              Q2\n",
              "1  060371011102        56250.0              Q2\n",
              "2  060371011221       120833.0              Q4\n",
              "3  060371011222        90536.0              Q3\n",
              "4  060371012201        55781.0              Q2"
            ],
            "text/html": [
              "\n",
              "  <div id=\"df-69af50f5-c055-418e-93f8-b9cc2ccfd064\" class=\"colab-df-container\">\n",
              "    <div>\n",
              "<style scoped>\n",
              "    .dataframe tbody tr th:only-of-type {\n",
              "        vertical-align: middle;\n",
              "    }\n",
              "\n",
              "    .dataframe tbody tr th {\n",
              "        vertical-align: top;\n",
              "    }\n",
              "\n",
              "    .dataframe thead th {\n",
              "        text-align: right;\n",
              "    }\n",
              "</style>\n",
              "<table border=\"1\" class=\"dataframe\">\n",
              "  <thead>\n",
              "    <tr style=\"text-align: right;\">\n",
              "      <th></th>\n",
              "      <th>GEOID</th>\n",
              "      <th>median_income</th>\n",
              "      <th>income_quartile</th>\n",
              "    </tr>\n",
              "  </thead>\n",
              "  <tbody>\n",
              "    <tr>\n",
              "      <th>0</th>\n",
              "      <td>060371011101</td>\n",
              "      <td>63242.0</td>\n",
              "      <td>Q2</td>\n",
              "    </tr>\n",
              "    <tr>\n",
              "      <th>1</th>\n",
              "      <td>060371011102</td>\n",
              "      <td>56250.0</td>\n",
              "      <td>Q2</td>\n",
              "    </tr>\n",
              "    <tr>\n",
              "      <th>2</th>\n",
              "      <td>060371011221</td>\n",
              "      <td>120833.0</td>\n",
              "      <td>Q4</td>\n",
              "    </tr>\n",
              "    <tr>\n",
              "      <th>3</th>\n",
              "      <td>060371011222</td>\n",
              "      <td>90536.0</td>\n",
              "      <td>Q3</td>\n",
              "    </tr>\n",
              "    <tr>\n",
              "      <th>4</th>\n",
              "      <td>060371012201</td>\n",
              "      <td>55781.0</td>\n",
              "      <td>Q2</td>\n",
              "    </tr>\n",
              "  </tbody>\n",
              "</table>\n",
              "</div>\n",
              "    <div class=\"colab-df-buttons\">\n",
              "\n",
              "  <div class=\"colab-df-container\">\n",
              "    <button class=\"colab-df-convert\" onclick=\"convertToInteractive('df-69af50f5-c055-418e-93f8-b9cc2ccfd064')\"\n",
              "            title=\"Convert this dataframe to an interactive table.\"\n",
              "            style=\"display:none;\">\n",
              "\n",
              "  <svg xmlns=\"http://www.w3.org/2000/svg\" height=\"24px\" viewBox=\"0 -960 960 960\">\n",
              "    <path d=\"M120-120v-720h720v720H120Zm60-500h600v-160H180v160Zm220 220h160v-160H400v160Zm0 220h160v-160H400v160ZM180-400h160v-160H180v160Zm440 0h160v-160H620v160ZM180-180h160v-160H180v160Zm440 0h160v-160H620v160Z\"/>\n",
              "  </svg>\n",
              "    </button>\n",
              "\n",
              "  <style>\n",
              "    .colab-df-container {\n",
              "      display:flex;\n",
              "      gap: 12px;\n",
              "    }\n",
              "\n",
              "    .colab-df-convert {\n",
              "      background-color: #E8F0FE;\n",
              "      border: none;\n",
              "      border-radius: 50%;\n",
              "      cursor: pointer;\n",
              "      display: none;\n",
              "      fill: #1967D2;\n",
              "      height: 32px;\n",
              "      padding: 0 0 0 0;\n",
              "      width: 32px;\n",
              "    }\n",
              "\n",
              "    .colab-df-convert:hover {\n",
              "      background-color: #E2EBFA;\n",
              "      box-shadow: 0px 1px 2px rgba(60, 64, 67, 0.3), 0px 1px 3px 1px rgba(60, 64, 67, 0.15);\n",
              "      fill: #174EA6;\n",
              "    }\n",
              "\n",
              "    .colab-df-buttons div {\n",
              "      margin-bottom: 4px;\n",
              "    }\n",
              "\n",
              "    [theme=dark] .colab-df-convert {\n",
              "      background-color: #3B4455;\n",
              "      fill: #D2E3FC;\n",
              "    }\n",
              "\n",
              "    [theme=dark] .colab-df-convert:hover {\n",
              "      background-color: #434B5C;\n",
              "      box-shadow: 0px 1px 3px 1px rgba(0, 0, 0, 0.15);\n",
              "      filter: drop-shadow(0px 1px 2px rgba(0, 0, 0, 0.3));\n",
              "      fill: #FFFFFF;\n",
              "    }\n",
              "  </style>\n",
              "\n",
              "    <script>\n",
              "      const buttonEl =\n",
              "        document.querySelector('#df-69af50f5-c055-418e-93f8-b9cc2ccfd064 button.colab-df-convert');\n",
              "      buttonEl.style.display =\n",
              "        google.colab.kernel.accessAllowed ? 'block' : 'none';\n",
              "\n",
              "      async function convertToInteractive(key) {\n",
              "        const element = document.querySelector('#df-69af50f5-c055-418e-93f8-b9cc2ccfd064');\n",
              "        const dataTable =\n",
              "          await google.colab.kernel.invokeFunction('convertToInteractive',\n",
              "                                                    [key], {});\n",
              "        if (!dataTable) return;\n",
              "\n",
              "        const docLinkHtml = 'Like what you see? Visit the ' +\n",
              "          '<a target=\"_blank\" href=https://colab.research.google.com/notebooks/data_table.ipynb>data table notebook</a>'\n",
              "          + ' to learn more about interactive tables.';\n",
              "        element.innerHTML = '';\n",
              "        dataTable['output_type'] = 'display_data';\n",
              "        await google.colab.output.renderOutput(dataTable, element);\n",
              "        const docLink = document.createElement('div');\n",
              "        docLink.innerHTML = docLinkHtml;\n",
              "        element.appendChild(docLink);\n",
              "      }\n",
              "    </script>\n",
              "  </div>\n",
              "\n",
              "\n",
              "    <div id=\"df-a30245b0-af95-44b4-8f09-43045eb92060\">\n",
              "      <button class=\"colab-df-quickchart\" onclick=\"quickchart('df-a30245b0-af95-44b4-8f09-43045eb92060')\"\n",
              "                title=\"Suggest charts\"\n",
              "                style=\"display:none;\">\n",
              "\n",
              "<svg xmlns=\"http://www.w3.org/2000/svg\" height=\"24px\"viewBox=\"0 0 24 24\"\n",
              "     width=\"24px\">\n",
              "    <g>\n",
              "        <path d=\"M19 3H5c-1.1 0-2 .9-2 2v14c0 1.1.9 2 2 2h14c1.1 0 2-.9 2-2V5c0-1.1-.9-2-2-2zM9 17H7v-7h2v7zm4 0h-2V7h2v10zm4 0h-2v-4h2v4z\"/>\n",
              "    </g>\n",
              "</svg>\n",
              "      </button>\n",
              "\n",
              "<style>\n",
              "  .colab-df-quickchart {\n",
              "      --bg-color: #E8F0FE;\n",
              "      --fill-color: #1967D2;\n",
              "      --hover-bg-color: #E2EBFA;\n",
              "      --hover-fill-color: #174EA6;\n",
              "      --disabled-fill-color: #AAA;\n",
              "      --disabled-bg-color: #DDD;\n",
              "  }\n",
              "\n",
              "  [theme=dark] .colab-df-quickchart {\n",
              "      --bg-color: #3B4455;\n",
              "      --fill-color: #D2E3FC;\n",
              "      --hover-bg-color: #434B5C;\n",
              "      --hover-fill-color: #FFFFFF;\n",
              "      --disabled-bg-color: #3B4455;\n",
              "      --disabled-fill-color: #666;\n",
              "  }\n",
              "\n",
              "  .colab-df-quickchart {\n",
              "    background-color: var(--bg-color);\n",
              "    border: none;\n",
              "    border-radius: 50%;\n",
              "    cursor: pointer;\n",
              "    display: none;\n",
              "    fill: var(--fill-color);\n",
              "    height: 32px;\n",
              "    padding: 0;\n",
              "    width: 32px;\n",
              "  }\n",
              "\n",
              "  .colab-df-quickchart:hover {\n",
              "    background-color: var(--hover-bg-color);\n",
              "    box-shadow: 0 1px 2px rgba(60, 64, 67, 0.3), 0 1px 3px 1px rgba(60, 64, 67, 0.15);\n",
              "    fill: var(--button-hover-fill-color);\n",
              "  }\n",
              "\n",
              "  .colab-df-quickchart-complete:disabled,\n",
              "  .colab-df-quickchart-complete:disabled:hover {\n",
              "    background-color: var(--disabled-bg-color);\n",
              "    fill: var(--disabled-fill-color);\n",
              "    box-shadow: none;\n",
              "  }\n",
              "\n",
              "  .colab-df-spinner {\n",
              "    border: 2px solid var(--fill-color);\n",
              "    border-color: transparent;\n",
              "    border-bottom-color: var(--fill-color);\n",
              "    animation:\n",
              "      spin 1s steps(1) infinite;\n",
              "  }\n",
              "\n",
              "  @keyframes spin {\n",
              "    0% {\n",
              "      border-color: transparent;\n",
              "      border-bottom-color: var(--fill-color);\n",
              "      border-left-color: var(--fill-color);\n",
              "    }\n",
              "    20% {\n",
              "      border-color: transparent;\n",
              "      border-left-color: var(--fill-color);\n",
              "      border-top-color: var(--fill-color);\n",
              "    }\n",
              "    30% {\n",
              "      border-color: transparent;\n",
              "      border-left-color: var(--fill-color);\n",
              "      border-top-color: var(--fill-color);\n",
              "      border-right-color: var(--fill-color);\n",
              "    }\n",
              "    40% {\n",
              "      border-color: transparent;\n",
              "      border-right-color: var(--fill-color);\n",
              "      border-top-color: var(--fill-color);\n",
              "    }\n",
              "    60% {\n",
              "      border-color: transparent;\n",
              "      border-right-color: var(--fill-color);\n",
              "    }\n",
              "    80% {\n",
              "      border-color: transparent;\n",
              "      border-right-color: var(--fill-color);\n",
              "      border-bottom-color: var(--fill-color);\n",
              "    }\n",
              "    90% {\n",
              "      border-color: transparent;\n",
              "      border-bottom-color: var(--fill-color);\n",
              "    }\n",
              "  }\n",
              "</style>\n",
              "\n",
              "      <script>\n",
              "        async function quickchart(key) {\n",
              "          const quickchartButtonEl =\n",
              "            document.querySelector('#' + key + ' button');\n",
              "          quickchartButtonEl.disabled = true;  // To prevent multiple clicks.\n",
              "          quickchartButtonEl.classList.add('colab-df-spinner');\n",
              "          try {\n",
              "            const charts = await google.colab.kernel.invokeFunction(\n",
              "                'suggestCharts', [key], {});\n",
              "          } catch (error) {\n",
              "            console.error('Error during call to suggestCharts:', error);\n",
              "          }\n",
              "          quickchartButtonEl.classList.remove('colab-df-spinner');\n",
              "          quickchartButtonEl.classList.add('colab-df-quickchart-complete');\n",
              "        }\n",
              "        (() => {\n",
              "          let quickchartButtonEl =\n",
              "            document.querySelector('#df-a30245b0-af95-44b4-8f09-43045eb92060 button');\n",
              "          quickchartButtonEl.style.display =\n",
              "            google.colab.kernel.accessAllowed ? 'block' : 'none';\n",
              "        })();\n",
              "      </script>\n",
              "    </div>\n",
              "\n",
              "    </div>\n",
              "  </div>\n"
            ],
            "application/vnd.google.colaboratory.intrinsic+json": {
              "type": "dataframe",
              "summary": "{\n  \"name\": \"final_df[['GEOID', 'median_income', 'income_quartile']]\",\n  \"rows\": 5,\n  \"fields\": [\n    {\n      \"column\": \"GEOID\",\n      \"properties\": {\n        \"dtype\": \"string\",\n        \"num_unique_values\": 5,\n        \"samples\": [\n          \"060371011102\",\n          \"060371012201\",\n          \"060371011221\"\n        ],\n        \"semantic_type\": \"\",\n        \"description\": \"\"\n      }\n    },\n    {\n      \"column\": \"median_income\",\n      \"properties\": {\n        \"dtype\": \"number\",\n        \"std\": 28169.60674734385,\n        \"min\": 55781.0,\n        \"max\": 120833.0,\n        \"num_unique_values\": 5,\n        \"samples\": [\n          56250.0,\n          55781.0,\n          120833.0\n        ],\n        \"semantic_type\": \"\",\n        \"description\": \"\"\n      }\n    },\n    {\n      \"column\": \"income_quartile\",\n      \"properties\": {\n        \"dtype\": \"category\",\n        \"num_unique_values\": 3,\n        \"samples\": [\n          \"Q2\",\n          \"Q4\",\n          \"Q3\"\n        ],\n        \"semantic_type\": \"\",\n        \"description\": \"\"\n      }\n    }\n  ]\n}"
            }
          },
          "metadata": {},
          "execution_count": 121
        }
      ]
    },
    {
      "cell_type": "code",
      "source": [
        "# Step 1: Identify the dominant age group for each CBG\n",
        "age_cols = ['18_24', '25_40', '41_60', '60_plus']\n",
        "final_df['dominant_age_group'] = final_df[age_cols].idxmax(axis=1)\n",
        "\n",
        "# Step 2: Preview\n",
        "print(final_df[['GEOID', '18_24', '25_40', '41_60', '60_plus', 'dominant_age_group']].head())"
      ],
      "metadata": {
        "colab": {
          "base_uri": "https://localhost:8080/"
        },
        "id": "44-nA5cQX6VO",
        "outputId": "488617a4-f7ad-4b3c-98bb-53c5be023331"
      },
      "execution_count": null,
      "outputs": [
        {
          "output_type": "stream",
          "name": "stdout",
          "text": [
            "          GEOID  18_24  25_40  41_60  60_plus dominant_age_group\n",
            "0  060371011101     49     62    308      490            60_plus\n",
            "1  060371011102     30     60    304      460            60_plus\n",
            "2  060371011221     57    242    258      755            60_plus\n",
            "3  060371011222      7    109    323      521            60_plus\n",
            "4  060371012201     47     65    224      363            60_plus\n"
          ]
        }
      ]
    },
    {
      "cell_type": "code",
      "source": [
        "# Step 1: Define which columns to evaluate\n",
        "race_cols = ['pct_white', 'pct_black', 'pct_asian', 'pct_other']\n",
        "\n",
        "# Step 2: Find the race group with the highest percentage\n",
        "final_df['dominant_race_group'] = final_df[race_cols].idxmax(axis=1)\n",
        "\n",
        "# Step 3: Preview\n",
        "print(final_df[['GEOID'] + race_cols + ['dominant_race_group']].head())"
      ],
      "metadata": {
        "colab": {
          "base_uri": "https://localhost:8080/"
        },
        "id": "Dm4aPCQZX5IT",
        "outputId": "3cefc436-2029-487a-cc2b-ea1a57342859"
      },
      "execution_count": null,
      "outputs": [
        {
          "output_type": "stream",
          "name": "stdout",
          "text": [
            "          GEOID  pct_white  pct_black  pct_asian  pct_other  \\\n",
            "0  060371011101   0.580919   0.064311   0.048057   0.306714   \n",
            "1  060371011102   0.576670   0.016429   0.145126   0.257393   \n",
            "2  060371011221   0.751634   0.024691   0.136166   0.087509   \n",
            "3  060371011222   0.595035   0.005674   0.146809   0.236879   \n",
            "4  060371012201   0.556236   0.000000   0.134660   0.309105   \n",
            "\n",
            "  dominant_race_group  \n",
            "0           pct_white  \n",
            "1           pct_white  \n",
            "2           pct_white  \n",
            "3           pct_white  \n",
            "4           pct_white  \n"
          ]
        }
      ]
    },
    {
      "cell_type": "code",
      "source": [
        "# Define weights\n",
        "alpha = 1\n",
        "beta = 1\n",
        "gamma = 1\n",
        "\n",
        "# If you don't have 'median_dwell' yet, temporarily create it with a default\n",
        "if 'median_dwell' not in final_df.columns:\n",
        "    final_df['median_dwell'] = 30  # Assign a placeholder or default value\n",
        "\n",
        "# Calculate score\n",
        "final_df['score'] = alpha * (final_df['Visit_Count'] ** beta) * (final_df['median_dwell'] ** gamma)\n",
        "\n",
        "# Preview\n",
        "print(final_df[['GEOID', 'Visit_Count', 'median_dwell', 'score']].head())"
      ],
      "metadata": {
        "colab": {
          "base_uri": "https://localhost:8080/"
        },
        "id": "PGX0wSoEX377",
        "outputId": "d2438703-b0de-4e5a-92c6-da3d93528b8e"
      },
      "execution_count": null,
      "outputs": [
        {
          "output_type": "stream",
          "name": "stdout",
          "text": [
            "          GEOID  Visit_Count  median_dwell  score\n",
            "0  060371011101           10            30    300\n",
            "1  060371011102           74            30   2220\n",
            "2  060371011221          149            30   4470\n",
            "3  060371011222           28            30    840\n",
            "4  060371012201           89            30   2670\n"
          ]
        }
      ]
    },
    {
      "cell_type": "code",
      "source": [
        "# Step: Normalize the 'score' column to [0, 1] range\n",
        "min_score = final_df['score'].min()\n",
        "max_score = final_df['score'].max()\n",
        "\n",
        "# Avoid division by zero\n",
        "if max_score - min_score != 0:\n",
        "    final_df['normalized_score'] = (final_df['score'] - min_score) / (max_score - min_score)\n",
        "else:\n",
        "    final_df['normalized_score'] = 0.0  # All scores are the same\n",
        "\n",
        "# Preview\n",
        "print(final_df[['GEOID', 'score', 'normalized_score']].head())"
      ],
      "metadata": {
        "colab": {
          "base_uri": "https://localhost:8080/"
        },
        "id": "8NbG1AMFet5O",
        "outputId": "fd4d3130-05fb-49fb-b3cf-e2f443ac2100"
      },
      "execution_count": null,
      "outputs": [
        {
          "output_type": "stream",
          "name": "stdout",
          "text": [
            "          GEOID  score  normalized_score\n",
            "0  060371011101    300          0.002604\n",
            "1  060371011102   2220          0.030382\n",
            "2  060371011221   4470          0.062934\n",
            "3  060371011222    840          0.010417\n",
            "4  060371012201   2670          0.036892\n"
          ]
        }
      ]
    },
    {
      "cell_type": "code",
      "source": [
        "# Load your LA POI dataset\n",
        "poi_df = pd.read_csv('/content/LA_filtered.csv')\n",
        "\n",
        "# Check the key columns\n",
        "print(poi_df[['poi_cbg', 'latitude', 'longitude']].head())\n",
        "print(poi_df[['poi_cbg', 'latitude', 'longitude']].isnull().sum())"
      ],
      "metadata": {
        "colab": {
          "base_uri": "https://localhost:8080/"
        },
        "id": "0vkinMhFesE9",
        "outputId": "b7ee14db-6f93-4563-8e5e-1770a0437e59"
      },
      "execution_count": null,
      "outputs": [
        {
          "output_type": "stream",
          "name": "stdout",
          "text": [
            "       poi_cbg   latitude   longitude\n",
            "0  60372170021  34.053263 -118.383759\n",
            "1  60372652024  34.063814 -118.440667\n",
            "2  60372073012  34.044048 -118.254768\n",
            "3  60372077101  34.049845 -118.259160\n",
            "4  60372412021  33.931619 -118.291242\n",
            "poi_cbg      0\n",
            "latitude     0\n",
            "longitude    0\n",
            "dtype: int64\n"
          ]
        }
      ]
    },
    {
      "cell_type": "code",
      "source": [
        "# List of CBGs in your final scored dataframe\n",
        "scored_cbgs = final_df['GEOID'].unique()\n",
        "\n",
        "# Check overlap\n",
        "overlap = poi_df[poi_df['poi_cbg'].isin(scored_cbgs)]\n",
        "print(\"Matched rows:\", overlap.shape[0])\n",
        "print(overlap[['poi_cbg', 'latitude', 'longitude']].drop_duplicates().head())"
      ],
      "metadata": {
        "colab": {
          "base_uri": "https://localhost:8080/"
        },
        "id": "-IuoSfdheqR6",
        "outputId": "1710420d-ee0d-421f-bb91-1f2dd5d2855c"
      },
      "execution_count": null,
      "outputs": [
        {
          "output_type": "stream",
          "name": "stdout",
          "text": [
            "Matched rows: 0\n",
            "Empty DataFrame\n",
            "Columns: [poi_cbg, latitude, longitude]\n",
            "Index: []\n"
          ]
        }
      ]
    },
    {
      "cell_type": "code",
      "source": [
        "# Format both as strings with 12 digits\n",
        "poi_df['poi_cbg'] = poi_df['poi_cbg'].astype(str).str.zfill(12)\n",
        "final_df['GEOID'] = final_df['GEOID'].astype(str).str.zfill(12)"
      ],
      "metadata": {
        "id": "Un6gajtHeofO"
      },
      "execution_count": null,
      "outputs": []
    },
    {
      "cell_type": "code",
      "source": [
        "# Check overlap again\n",
        "matched_cbgs = poi_df[poi_df['poi_cbg'].isin(final_df['GEOID'])]\n",
        "print(\"Matched CBGs:\", matched_cbgs.shape[0])\n",
        "print(matched_cbgs[['poi_cbg', 'latitude', 'longitude']].drop_duplicates().head())"
      ],
      "metadata": {
        "colab": {
          "base_uri": "https://localhost:8080/"
        },
        "id": "Lv1VggdQemsZ",
        "outputId": "4598260e-33ca-4978-9bf6-69fa30a30957"
      },
      "execution_count": null,
      "outputs": [
        {
          "output_type": "stream",
          "name": "stdout",
          "text": [
            "Matched CBGs: 81316\n",
            "         poi_cbg   latitude   longitude\n",
            "0   060372170021  34.053263 -118.383759\n",
            "4   060372412021  33.931619 -118.291242\n",
            "6   060371899041  34.098914 -118.344919\n",
            "9   060372282101  34.012892 -118.256357\n",
            "12  060371899052  34.098350 -118.353731\n"
          ]
        }
      ]
    },
    {
      "cell_type": "code",
      "source": [
        "# Select distinct coordinates from poi_df\n",
        "cbg_coords = poi_df[['poi_cbg', 'latitude', 'longitude']].drop_duplicates()\n",
        "\n",
        "# Rename for clean merge\n",
        "cbg_coords = cbg_coords.rename(columns={'poi_cbg': 'GEOID'})\n",
        "\n",
        "# Merge with final_df\n",
        "final_df = pd.merge(final_df, cbg_coords, on='GEOID', how='left')\n",
        "\n",
        "# Check result\n",
        "print(\"Final dataset shape with coordinates:\", final_df.shape)\n",
        "print(final_df[['GEOID', 'latitude', 'longitude']].head())"
      ],
      "metadata": {
        "colab": {
          "base_uri": "https://localhost:8080/"
        },
        "id": "eY1fZEvdek9M",
        "outputId": "1dc15e2b-90b4-4d5a-8274-f065d2991e7c"
      },
      "execution_count": null,
      "outputs": [
        {
          "output_type": "stream",
          "name": "stdout",
          "text": [
            "Final dataset shape with coordinates: (82561, 19)\n",
            "          GEOID   latitude   longitude\n",
            "0  060371011101  34.258693 -118.290424\n",
            "1  060371011102        NaN         NaN\n",
            "2  060371011221  34.269282 -118.295807\n",
            "3  060371011221  34.265142 -118.290729\n",
            "4  060371011222        NaN         NaN\n"
          ]
        }
      ]
    },
    {
      "cell_type": "code",
      "source": [
        "# Keep one lat/lon per CBG (first occurrence)\n",
        "cbg_coords_unique = cbg_coords.drop_duplicates(subset='GEOID')\n",
        "\n",
        "# Re-merge with unique coordinates\n",
        "final_df = pd.merge(final_df.drop(columns=['latitude', 'longitude'], errors='ignore'),\n",
        "                    cbg_coords_unique, on='GEOID', how='left')"
      ],
      "metadata": {
        "id": "j13ToTdTejBk"
      },
      "execution_count": null,
      "outputs": []
    },
    {
      "cell_type": "code",
      "source": [
        "print(\"CBGs with coordinates:\", final_df['latitude'].notnull().sum())\n",
        "print(\"CBGs without coordinates:\", final_df['latitude'].isnull().sum())"
      ],
      "metadata": {
        "colab": {
          "base_uri": "https://localhost:8080/"
        },
        "id": "BU7N6p7ZehQ4",
        "outputId": "12b9596a-043c-4f87-d997-076ff2686914"
      },
      "execution_count": null,
      "outputs": [
        {
          "output_type": "stream",
          "name": "stdout",
          "text": [
            "CBGs with coordinates: 81152\n",
            "CBGs without coordinates: 1409\n"
          ]
        }
      ]
    },
    {
      "cell_type": "code",
      "source": [
        "# Filter out rows with missing coordinates\n",
        "final_mapped_df = final_df.dropna(subset=['latitude', 'longitude']).copy()\n",
        "\n",
        "# Confirm shape\n",
        "print(\"Final mapped data shape:\", final_mapped_df.shape)"
      ],
      "metadata": {
        "colab": {
          "base_uri": "https://localhost:8080/"
        },
        "id": "R6xXf6jkefm1",
        "outputId": "f305ac74-e6fa-451d-8697-42f2d82febac"
      },
      "execution_count": null,
      "outputs": [
        {
          "output_type": "stream",
          "name": "stdout",
          "text": [
            "Final mapped data shape: (81152, 19)\n"
          ]
        }
      ]
    },
    {
      "cell_type": "code",
      "source": [
        "# Set how many zones you want to view\n",
        "TOP_N = 10  # you can change this later in the dashboard\n",
        "\n",
        "# Sort by normalized score\n",
        "top_cbgs = final_mapped_df.sort_values(by='normalized_score', ascending=False).head(TOP_N)\n",
        "\n",
        "# Display\n",
        "print(top_cbgs[['GEOID', 'normalized_score', 'Visit_Count', 'median_dwell', 'latitude', 'longitude']])"
      ],
      "metadata": {
        "colab": {
          "base_uri": "https://localhost:8080/"
        },
        "id": "6MAOWzHIed1H",
        "outputId": "a9b65db8-6e21-4013-973f-5d0c5d0e7792"
      },
      "execution_count": null,
      "outputs": [
        {
          "output_type": "stream",
          "name": "stdout",
          "text": [
            "             GEOID  normalized_score  Visit_Count  median_dwell  latitude  \\\n",
            "4110  060371862011               1.0         2308            30  34.12355   \n",
            "4111  060371862011               1.0         2308            30  34.12355   \n",
            "4112  060371862011               1.0         2308            30  34.12355   \n",
            "4113  060371862011               1.0         2308            30  34.12355   \n",
            "4114  060371862011               1.0         2308            30  34.12355   \n",
            "4115  060371862011               1.0         2308            30  34.12355   \n",
            "4120  060371862011               1.0         2308            30  34.12355   \n",
            "4057  060371862011               1.0         2308            30  34.12355   \n",
            "4059  060371862011               1.0         2308            30  34.12355   \n",
            "4117  060371862011               1.0         2308            30  34.12355   \n",
            "\n",
            "      longitude  \n",
            "4110 -118.22117  \n",
            "4111 -118.22117  \n",
            "4112 -118.22117  \n",
            "4113 -118.22117  \n",
            "4114 -118.22117  \n",
            "4115 -118.22117  \n",
            "4120 -118.22117  \n",
            "4057 -118.22117  \n",
            "4059 -118.22117  \n",
            "4117 -118.22117  \n"
          ]
        }
      ]
    },
    {
      "cell_type": "code",
      "source": [
        "# Keep only one row per GEOID, keeping the one with max normalized score\n",
        "top_unique_cbgs = final_mapped_df.sort_values(by='normalized_score', ascending=False).drop_duplicates(subset='GEOID')\n",
        "\n",
        "# Now extract top N unique CBGs\n",
        "TOP_N = 10\n",
        "top_zones = top_unique_cbgs.head(TOP_N)\n",
        "\n",
        "# View result\n",
        "print(top_zones[['GEOID', 'normalized_score', 'Visit_Count', 'median_dwell', 'latitude', 'longitude']])"
      ],
      "metadata": {
        "colab": {
          "base_uri": "https://localhost:8080/"
        },
        "id": "27PRVctiecN4",
        "outputId": "f71a6372-5ac2-4f51-f3d2-8048699ad6ed"
      },
      "execution_count": null,
      "outputs": [
        {
          "output_type": "stream",
          "name": "stdout",
          "text": [
            "              GEOID  normalized_score  Visit_Count  median_dwell   latitude  \\\n",
            "4110   060371862011          1.000000         2308            30  34.123550   \n",
            "68443  060372679011          0.962674         2222            30  34.062783   \n",
            "73886  060372765001          0.927951         2142            30  33.959982   \n",
            "56773  060372364002          0.916233         2115            30  34.005000   \n",
            "25616  060372087101          0.873264         2016            30  34.064225   \n",
            "21480  060372071011          0.771267         1781            30  34.063608   \n",
            "82542  060379800101          0.684028         1580            30  34.087057   \n",
            "24566  060372075021          0.674913         1559            30  34.049863   \n",
            "110    060371081021          0.652778         1508            30  34.281757   \n",
            "117    060371082021          0.607205         1403            30  34.281501   \n",
            "\n",
            "        longitude  \n",
            "4110  -118.221170  \n",
            "68443 -118.415114  \n",
            "73886 -118.418453  \n",
            "56773 -118.341141  \n",
            "25616 -118.284021  \n",
            "21480 -118.247403  \n",
            "82542 -118.246938  \n",
            "24566 -118.252811  \n",
            "110   -118.552153  \n",
            "117   -118.576775  \n"
          ]
        }
      ]
    },
    {
      "cell_type": "code",
      "source": [
        "final_mapped_df.to_csv(\"final_dashboard_data.csv\", index=False)"
      ],
      "metadata": {
        "id": "cYtoTB1HDK9Y"
      },
      "execution_count": null,
      "outputs": []
    },
    {
      "cell_type": "code",
      "source": [
        "pip install streamlit"
      ],
      "metadata": {
        "colab": {
          "base_uri": "https://localhost:8080/"
        },
        "id": "pt_CB_znwepq",
        "outputId": "b2af7e03-970d-4a6a-bea8-f3d43da0c515"
      },
      "execution_count": null,
      "outputs": [
        {
          "output_type": "stream",
          "name": "stdout",
          "text": [
            "Collecting streamlit\n",
            "  Downloading streamlit-1.46.0-py3-none-any.whl.metadata (9.0 kB)\n",
            "Requirement already satisfied: altair<6,>=4.0 in /usr/local/lib/python3.11/dist-packages (from streamlit) (5.5.0)\n",
            "Requirement already satisfied: blinker<2,>=1.5.0 in /usr/local/lib/python3.11/dist-packages (from streamlit) (1.9.0)\n",
            "Requirement already satisfied: cachetools<7,>=4.0 in /usr/local/lib/python3.11/dist-packages (from streamlit) (5.5.2)\n",
            "Requirement already satisfied: click<9,>=7.0 in /usr/local/lib/python3.11/dist-packages (from streamlit) (8.2.1)\n",
            "Requirement already satisfied: numpy<3,>=1.23 in /usr/local/lib/python3.11/dist-packages (from streamlit) (2.0.2)\n",
            "Requirement already satisfied: packaging<26,>=20 in /usr/local/lib/python3.11/dist-packages (from streamlit) (24.2)\n",
            "Requirement already satisfied: pandas<3,>=1.4.0 in /usr/local/lib/python3.11/dist-packages (from streamlit) (2.2.2)\n",
            "Requirement already satisfied: pillow<12,>=7.1.0 in /usr/local/lib/python3.11/dist-packages (from streamlit) (11.2.1)\n",
            "Requirement already satisfied: protobuf<7,>=3.20 in /usr/local/lib/python3.11/dist-packages (from streamlit) (5.29.5)\n",
            "Requirement already satisfied: pyarrow>=7.0 in /usr/local/lib/python3.11/dist-packages (from streamlit) (18.1.0)\n",
            "Requirement already satisfied: requests<3,>=2.27 in /usr/local/lib/python3.11/dist-packages (from streamlit) (2.32.3)\n",
            "Requirement already satisfied: tenacity<10,>=8.1.0 in /usr/local/lib/python3.11/dist-packages (from streamlit) (8.5.0)\n",
            "Requirement already satisfied: toml<2,>=0.10.1 in /usr/local/lib/python3.11/dist-packages (from streamlit) (0.10.2)\n",
            "Requirement already satisfied: typing-extensions<5,>=4.4.0 in /usr/local/lib/python3.11/dist-packages (from streamlit) (4.14.0)\n",
            "Collecting watchdog<7,>=2.1.5 (from streamlit)\n",
            "  Downloading watchdog-6.0.0-py3-none-manylinux2014_x86_64.whl.metadata (44 kB)\n",
            "\u001b[2K     \u001b[90m━━━━━━━━━━━━━━━━━━━━━━━━━━━━━━━━━━━━━━━━\u001b[0m \u001b[32m44.3/44.3 kB\u001b[0m \u001b[31m3.1 MB/s\u001b[0m eta \u001b[36m0:00:00\u001b[0m\n",
            "\u001b[?25hRequirement already satisfied: gitpython!=3.1.19,<4,>=3.0.7 in /usr/local/lib/python3.11/dist-packages (from streamlit) (3.1.44)\n",
            "Collecting pydeck<1,>=0.8.0b4 (from streamlit)\n",
            "  Downloading pydeck-0.9.1-py2.py3-none-any.whl.metadata (4.1 kB)\n",
            "Requirement already satisfied: tornado!=6.5.0,<7,>=6.0.3 in /usr/local/lib/python3.11/dist-packages (from streamlit) (6.4.2)\n",
            "Requirement already satisfied: jinja2 in /usr/local/lib/python3.11/dist-packages (from altair<6,>=4.0->streamlit) (3.1.6)\n",
            "Requirement already satisfied: jsonschema>=3.0 in /usr/local/lib/python3.11/dist-packages (from altair<6,>=4.0->streamlit) (4.24.0)\n",
            "Requirement already satisfied: narwhals>=1.14.2 in /usr/local/lib/python3.11/dist-packages (from altair<6,>=4.0->streamlit) (1.44.0)\n",
            "Requirement already satisfied: gitdb<5,>=4.0.1 in /usr/local/lib/python3.11/dist-packages (from gitpython!=3.1.19,<4,>=3.0.7->streamlit) (4.0.12)\n",
            "Requirement already satisfied: python-dateutil>=2.8.2 in /usr/local/lib/python3.11/dist-packages (from pandas<3,>=1.4.0->streamlit) (2.9.0.post0)\n",
            "Requirement already satisfied: pytz>=2020.1 in /usr/local/lib/python3.11/dist-packages (from pandas<3,>=1.4.0->streamlit) (2025.2)\n",
            "Requirement already satisfied: tzdata>=2022.7 in /usr/local/lib/python3.11/dist-packages (from pandas<3,>=1.4.0->streamlit) (2025.2)\n",
            "Requirement already satisfied: charset-normalizer<4,>=2 in /usr/local/lib/python3.11/dist-packages (from requests<3,>=2.27->streamlit) (3.4.2)\n",
            "Requirement already satisfied: idna<4,>=2.5 in /usr/local/lib/python3.11/dist-packages (from requests<3,>=2.27->streamlit) (3.10)\n",
            "Requirement already satisfied: urllib3<3,>=1.21.1 in /usr/local/lib/python3.11/dist-packages (from requests<3,>=2.27->streamlit) (2.4.0)\n",
            "Requirement already satisfied: certifi>=2017.4.17 in /usr/local/lib/python3.11/dist-packages (from requests<3,>=2.27->streamlit) (2025.6.15)\n",
            "Requirement already satisfied: smmap<6,>=3.0.1 in /usr/local/lib/python3.11/dist-packages (from gitdb<5,>=4.0.1->gitpython!=3.1.19,<4,>=3.0.7->streamlit) (5.0.2)\n",
            "Requirement already satisfied: MarkupSafe>=2.0 in /usr/local/lib/python3.11/dist-packages (from jinja2->altair<6,>=4.0->streamlit) (3.0.2)\n",
            "Requirement already satisfied: attrs>=22.2.0 in /usr/local/lib/python3.11/dist-packages (from jsonschema>=3.0->altair<6,>=4.0->streamlit) (25.3.0)\n",
            "Requirement already satisfied: jsonschema-specifications>=2023.03.6 in /usr/local/lib/python3.11/dist-packages (from jsonschema>=3.0->altair<6,>=4.0->streamlit) (2025.4.1)\n",
            "Requirement already satisfied: referencing>=0.28.4 in /usr/local/lib/python3.11/dist-packages (from jsonschema>=3.0->altair<6,>=4.0->streamlit) (0.36.2)\n",
            "Requirement already satisfied: rpds-py>=0.7.1 in /usr/local/lib/python3.11/dist-packages (from jsonschema>=3.0->altair<6,>=4.0->streamlit) (0.25.1)\n",
            "Requirement already satisfied: six>=1.5 in /usr/local/lib/python3.11/dist-packages (from python-dateutil>=2.8.2->pandas<3,>=1.4.0->streamlit) (1.17.0)\n",
            "Downloading streamlit-1.46.0-py3-none-any.whl (10.1 MB)\n",
            "\u001b[2K   \u001b[90m━━━━━━━━━━━━━━━━━━━━━━━━━━━━━━━━━━━━━━━━\u001b[0m \u001b[32m10.1/10.1 MB\u001b[0m \u001b[31m81.2 MB/s\u001b[0m eta \u001b[36m0:00:00\u001b[0m\n",
            "\u001b[?25hDownloading pydeck-0.9.1-py2.py3-none-any.whl (6.9 MB)\n",
            "\u001b[2K   \u001b[90m━━━━━━━━━━━━━━━━━━━━━━━━━━━━━━━━━━━━━━━━\u001b[0m \u001b[32m6.9/6.9 MB\u001b[0m \u001b[31m75.8 MB/s\u001b[0m eta \u001b[36m0:00:00\u001b[0m\n",
            "\u001b[?25hDownloading watchdog-6.0.0-py3-none-manylinux2014_x86_64.whl (79 kB)\n",
            "\u001b[2K   \u001b[90m━━━━━━━━━━━━━━━━━━━━━━━━━━━━━━━━━━━━━━━━\u001b[0m \u001b[32m79.1/79.1 kB\u001b[0m \u001b[31m5.5 MB/s\u001b[0m eta \u001b[36m0:00:00\u001b[0m\n",
            "\u001b[?25hInstalling collected packages: watchdog, pydeck, streamlit\n",
            "Successfully installed pydeck-0.9.1 streamlit-1.46.0 watchdog-6.0.0\n"
          ]
        }
      ]
    },
    {
      "cell_type": "code",
      "source": [
        "df = pd.read_csv(\"final_dashboard_data.csv\")"
      ],
      "metadata": {
        "id": "bPe39rnwDTvQ"
      },
      "execution_count": null,
      "outputs": []
    },
    {
      "cell_type": "code",
      "source": [
        "import streamlit as st\n",
        "import pandas as pd\n",
        "import plotly.express as px\n",
        "\n",
        "st.set_page_config(layout=\"wide\")\n",
        "st.title(\"📍 Billboard Zone Recommender for LA\")\n",
        "\n",
        "@st.cache_data\n",
        "def load_data():\n",
        "    return pd.read_csv(\"final_dashboard_data.csv\")\n",
        "\n",
        "df = load_data()\n",
        "\n",
        "# Sidebar filters\n",
        "st.sidebar.header(\"Filter by Demographics\")\n",
        "\n",
        "income = st.sidebar.multiselect(\"Select Income Group\", options=df['income_quartile'].unique(), default=df['income_quartile'].unique())\n",
        "age = st.sidebar.multiselect(\"Select Age Group\", options=df['dominant_age_group'].unique(), default=df['dominant_age_group'].unique())\n",
        "race = st.sidebar.multiselect(\"Select Race Group\", options=df['dominant_race_group'].unique(), default=df['dominant_race_group'].unique())\n",
        "\n",
        "# Weights\n",
        "st.sidebar.header(\"Scoring Preferences\")\n",
        "beta = st.sidebar.slider(\"Visitor Importance (β)\", 0.5, 3.0, 1.0, 0.1)\n",
        "gamma = st.sidebar.slider(\"Dwell Time Importance (γ)\", 0.5, 3.0, 1.0, 0.1)\n",
        "\n",
        "# Top-N\n",
        "top_n = st.sidebar.slider(\"Top N CBG Zones\", 5, 50, 10)\n",
        "\n",
        "# Filter\n",
        "filtered_df = df[\n",
        "    df['income_quartile'].isin(income) &\n",
        "    df['dominant_age_group'].isin(age) &\n",
        "    df['dominant_race_group'].isin(race)\n",
        "].copy()\n",
        "\n",
        "# Recalculate score with custom weights\n",
        "filtered_df['custom_score'] = (filtered_df['Visit_Count'] ** beta) * (filtered_df['median_dwell'] ** gamma)\n",
        "\n",
        "# Normalize\n",
        "min_score = filtered_df['custom_score'].min()\n",
        "max_score = filtered_df['custom_score'].max()\n",
        "filtered_df['custom_score_norm'] = (filtered_df['custom_score'] - min_score) / (max_score - min_score + 1e-6)\n",
        "\n",
        "# Top-N\n",
        "top_zones = filtered_df.sort_values('custom_score_norm', ascending=False).head(top_n)\n",
        "\n",
        "# Map\n",
        "fig = px.scatter_mapbox(\n",
        "    top_zones,\n",
        "    lat=\"latitude\",\n",
        "    lon=\"longitude\",\n",
        "    hover_name=\"GEOID\",\n",
        "    hover_data=[\"custom_score_norm\", \"Visit_Count\", \"median_dwell\"],\n",
        "    color=\"custom_score_norm\",\n",
        "    color_continuous_scale=\"Viridis\",\n",
        "    zoom=10,\n",
        "    height=600\n",
        ")\n",
        "fig.update_layout(mapbox_style=\"carto-positron\")\n",
        "st.plotly_chart(fig, use_container_width=True)\n",
        "\n",
        "# Table\n",
        "st.subheader(\"📋 Top Billboard Zones\")\n",
        "st.dataframe(top_zones[['GEOID', 'custom_score_norm', 'Visit_Count', 'median_dwell']], height=400)"
      ],
      "metadata": {
        "colab": {
          "base_uri": "https://localhost:8080/"
        },
        "id": "ALQwmjAHeane",
        "outputId": "ae48722e-25ee-426d-a743-80d0f8996de7"
      },
      "execution_count": null,
      "outputs": [
        {
          "output_type": "stream",
          "name": "stderr",
          "text": [
            "2025-06-25 21:48:00.042 Thread 'MainThread': missing ScriptRunContext! This warning can be ignored when running in bare mode.\n",
            "2025-06-25 21:48:00.044 Thread 'MainThread': missing ScriptRunContext! This warning can be ignored when running in bare mode.\n",
            "2025-06-25 21:48:00.045 Thread 'MainThread': missing ScriptRunContext! This warning can be ignored when running in bare mode.\n",
            "2025-06-25 21:48:00.046 Thread 'MainThread': missing ScriptRunContext! This warning can be ignored when running in bare mode.\n",
            "2025-06-25 21:48:00.047 No runtime found, using MemoryCacheStorageManager\n",
            "2025-06-25 21:48:00.049 Thread 'MainThread': missing ScriptRunContext! This warning can be ignored when running in bare mode.\n",
            "2025-06-25 21:48:00.050 Thread 'MainThread': missing ScriptRunContext! This warning can be ignored when running in bare mode.\n",
            "2025-06-25 21:48:00.052 Thread 'MainThread': missing ScriptRunContext! This warning can be ignored when running in bare mode.\n",
            "2025-06-25 21:48:00.053 Thread 'MainThread': missing ScriptRunContext! This warning can be ignored when running in bare mode.\n",
            "2025-06-25 21:48:00.268 Thread 'MainThread': missing ScriptRunContext! This warning can be ignored when running in bare mode.\n",
            "2025-06-25 21:48:00.269 Thread 'MainThread': missing ScriptRunContext! This warning can be ignored when running in bare mode.\n",
            "2025-06-25 21:48:00.270 Thread 'MainThread': missing ScriptRunContext! This warning can be ignored when running in bare mode.\n",
            "2025-06-25 21:48:00.273 Thread 'MainThread': missing ScriptRunContext! This warning can be ignored when running in bare mode.\n",
            "2025-06-25 21:48:00.274 Thread 'MainThread': missing ScriptRunContext! This warning can be ignored when running in bare mode.\n",
            "2025-06-25 21:48:00.275 Thread 'MainThread': missing ScriptRunContext! This warning can be ignored when running in bare mode.\n",
            "2025-06-25 21:48:00.285 Thread 'MainThread': missing ScriptRunContext! This warning can be ignored when running in bare mode.\n",
            "2025-06-25 21:48:00.286 Thread 'MainThread': missing ScriptRunContext! This warning can be ignored when running in bare mode.\n",
            "2025-06-25 21:48:00.290 Thread 'MainThread': missing ScriptRunContext! This warning can be ignored when running in bare mode.\n",
            "2025-06-25 21:48:00.291 Thread 'MainThread': missing ScriptRunContext! This warning can be ignored when running in bare mode.\n",
            "2025-06-25 21:48:00.292 Thread 'MainThread': missing ScriptRunContext! This warning can be ignored when running in bare mode.\n",
            "2025-06-25 21:48:00.295 Thread 'MainThread': missing ScriptRunContext! This warning can be ignored when running in bare mode.\n",
            "2025-06-25 21:48:00.304 Thread 'MainThread': missing ScriptRunContext! This warning can be ignored when running in bare mode.\n",
            "2025-06-25 21:48:00.305 Thread 'MainThread': missing ScriptRunContext! This warning can be ignored when running in bare mode.\n",
            "2025-06-25 21:48:00.308 Thread 'MainThread': missing ScriptRunContext! This warning can be ignored when running in bare mode.\n",
            "2025-06-25 21:48:00.310 Thread 'MainThread': missing ScriptRunContext! This warning can be ignored when running in bare mode.\n",
            "2025-06-25 21:48:00.311 Thread 'MainThread': missing ScriptRunContext! This warning can be ignored when running in bare mode.\n",
            "2025-06-25 21:48:00.312 Thread 'MainThread': missing ScriptRunContext! This warning can be ignored when running in bare mode.\n",
            "2025-06-25 21:48:00.322 Thread 'MainThread': missing ScriptRunContext! This warning can be ignored when running in bare mode.\n",
            "2025-06-25 21:48:00.323 Thread 'MainThread': missing ScriptRunContext! This warning can be ignored when running in bare mode.\n",
            "2025-06-25 21:48:00.326 Thread 'MainThread': missing ScriptRunContext! This warning can be ignored when running in bare mode.\n",
            "2025-06-25 21:48:00.327 Thread 'MainThread': missing ScriptRunContext! This warning can be ignored when running in bare mode.\n",
            "2025-06-25 21:48:00.328 Thread 'MainThread': missing ScriptRunContext! This warning can be ignored when running in bare mode.\n",
            "2025-06-25 21:48:00.329 Thread 'MainThread': missing ScriptRunContext! This warning can be ignored when running in bare mode.\n",
            "2025-06-25 21:48:00.330 Thread 'MainThread': missing ScriptRunContext! This warning can be ignored when running in bare mode.\n",
            "2025-06-25 21:48:00.331 Thread 'MainThread': missing ScriptRunContext! This warning can be ignored when running in bare mode.\n",
            "2025-06-25 21:48:00.332 Thread 'MainThread': missing ScriptRunContext! This warning can be ignored when running in bare mode.\n",
            "2025-06-25 21:48:00.333 Thread 'MainThread': missing ScriptRunContext! This warning can be ignored when running in bare mode.\n",
            "2025-06-25 21:48:00.334 Thread 'MainThread': missing ScriptRunContext! This warning can be ignored when running in bare mode.\n",
            "2025-06-25 21:48:00.335 Thread 'MainThread': missing ScriptRunContext! This warning can be ignored when running in bare mode.\n",
            "2025-06-25 21:48:00.337 Thread 'MainThread': missing ScriptRunContext! This warning can be ignored when running in bare mode.\n",
            "2025-06-25 21:48:00.338 Thread 'MainThread': missing ScriptRunContext! This warning can be ignored when running in bare mode.\n",
            "2025-06-25 21:48:00.338 Thread 'MainThread': missing ScriptRunContext! This warning can be ignored when running in bare mode.\n",
            "2025-06-25 21:48:00.340 Thread 'MainThread': missing ScriptRunContext! This warning can be ignored when running in bare mode.\n",
            "2025-06-25 21:48:00.341 Thread 'MainThread': missing ScriptRunContext! This warning can be ignored when running in bare mode.\n",
            "2025-06-25 21:48:00.342 Thread 'MainThread': missing ScriptRunContext! This warning can be ignored when running in bare mode.\n",
            "2025-06-25 21:48:00.343 Thread 'MainThread': missing ScriptRunContext! This warning can be ignored when running in bare mode.\n",
            "2025-06-25 21:48:00.344 Thread 'MainThread': missing ScriptRunContext! This warning can be ignored when running in bare mode.\n",
            "2025-06-25 21:48:00.345 Thread 'MainThread': missing ScriptRunContext! This warning can be ignored when running in bare mode.\n",
            "2025-06-25 21:48:00.346 Thread 'MainThread': missing ScriptRunContext! This warning can be ignored when running in bare mode.\n",
            "2025-06-25 21:48:00.347 Thread 'MainThread': missing ScriptRunContext! This warning can be ignored when running in bare mode.\n",
            "2025-06-25 21:48:00.348 Thread 'MainThread': missing ScriptRunContext! This warning can be ignored when running in bare mode.\n",
            "2025-06-25 21:48:00.350 Thread 'MainThread': missing ScriptRunContext! This warning can be ignored when running in bare mode.\n",
            "2025-06-25 21:48:00.350 Thread 'MainThread': missing ScriptRunContext! This warning can be ignored when running in bare mode.\n",
            "2025-06-25 21:48:00.351 Thread 'MainThread': missing ScriptRunContext! This warning can be ignored when running in bare mode.\n",
            "2025-06-25 21:48:01.022 Thread 'MainThread': missing ScriptRunContext! This warning can be ignored when running in bare mode.\n",
            "2025-06-25 21:48:01.023 Thread 'MainThread': missing ScriptRunContext! This warning can be ignored when running in bare mode.\n",
            "2025-06-25 21:48:01.024 Thread 'MainThread': missing ScriptRunContext! This warning can be ignored when running in bare mode.\n",
            "2025-06-25 21:48:01.025 Thread 'MainThread': missing ScriptRunContext! This warning can be ignored when running in bare mode.\n",
            "2025-06-25 21:48:01.027 Thread 'MainThread': missing ScriptRunContext! This warning can be ignored when running in bare mode.\n",
            "2025-06-25 21:48:01.028 Thread 'MainThread': missing ScriptRunContext! This warning can be ignored when running in bare mode.\n",
            "2025-06-25 21:48:01.029 Thread 'MainThread': missing ScriptRunContext! This warning can be ignored when running in bare mode.\n",
            "2025-06-25 21:48:01.030 Thread 'MainThread': missing ScriptRunContext! This warning can be ignored when running in bare mode.\n",
            "2025-06-25 21:48:01.070 Thread 'MainThread': missing ScriptRunContext! This warning can be ignored when running in bare mode.\n",
            "2025-06-25 21:48:01.071 Thread 'MainThread': missing ScriptRunContext! This warning can be ignored when running in bare mode.\n",
            "2025-06-25 21:48:01.072 Thread 'MainThread': missing ScriptRunContext! This warning can be ignored when running in bare mode.\n"
          ]
        },
        {
          "output_type": "execute_result",
          "data": {
            "text/plain": [
              "DeltaGenerator()"
            ]
          },
          "metadata": {},
          "execution_count": 142
        }
      ]
    },
    {
      "cell_type": "code",
      "source": [
        "pip install streamlit plotly"
      ],
      "metadata": {
        "colab": {
          "base_uri": "https://localhost:8080/"
        },
        "id": "NJP1qZNVeY_2",
        "outputId": "bfd85134-e703-4974-ecb2-49e45167dfd0"
      },
      "execution_count": null,
      "outputs": [
        {
          "output_type": "stream",
          "name": "stdout",
          "text": [
            "Requirement already satisfied: streamlit in /usr/local/lib/python3.11/dist-packages (1.46.0)\n",
            "Requirement already satisfied: plotly in /usr/local/lib/python3.11/dist-packages (5.24.1)\n",
            "Requirement already satisfied: altair<6,>=4.0 in /usr/local/lib/python3.11/dist-packages (from streamlit) (5.5.0)\n",
            "Requirement already satisfied: blinker<2,>=1.5.0 in /usr/local/lib/python3.11/dist-packages (from streamlit) (1.9.0)\n",
            "Requirement already satisfied: cachetools<7,>=4.0 in /usr/local/lib/python3.11/dist-packages (from streamlit) (5.5.2)\n",
            "Requirement already satisfied: click<9,>=7.0 in /usr/local/lib/python3.11/dist-packages (from streamlit) (8.2.1)\n",
            "Requirement already satisfied: numpy<3,>=1.23 in /usr/local/lib/python3.11/dist-packages (from streamlit) (2.0.2)\n",
            "Requirement already satisfied: packaging<26,>=20 in /usr/local/lib/python3.11/dist-packages (from streamlit) (24.2)\n",
            "Requirement already satisfied: pandas<3,>=1.4.0 in /usr/local/lib/python3.11/dist-packages (from streamlit) (2.2.2)\n",
            "Requirement already satisfied: pillow<12,>=7.1.0 in /usr/local/lib/python3.11/dist-packages (from streamlit) (11.2.1)\n",
            "Requirement already satisfied: protobuf<7,>=3.20 in /usr/local/lib/python3.11/dist-packages (from streamlit) (5.29.5)\n",
            "Requirement already satisfied: pyarrow>=7.0 in /usr/local/lib/python3.11/dist-packages (from streamlit) (18.1.0)\n",
            "Requirement already satisfied: requests<3,>=2.27 in /usr/local/lib/python3.11/dist-packages (from streamlit) (2.32.3)\n",
            "Requirement already satisfied: tenacity<10,>=8.1.0 in /usr/local/lib/python3.11/dist-packages (from streamlit) (8.5.0)\n",
            "Requirement already satisfied: toml<2,>=0.10.1 in /usr/local/lib/python3.11/dist-packages (from streamlit) (0.10.2)\n",
            "Requirement already satisfied: typing-extensions<5,>=4.4.0 in /usr/local/lib/python3.11/dist-packages (from streamlit) (4.14.0)\n",
            "Requirement already satisfied: watchdog<7,>=2.1.5 in /usr/local/lib/python3.11/dist-packages (from streamlit) (6.0.0)\n",
            "Requirement already satisfied: gitpython!=3.1.19,<4,>=3.0.7 in /usr/local/lib/python3.11/dist-packages (from streamlit) (3.1.44)\n",
            "Requirement already satisfied: pydeck<1,>=0.8.0b4 in /usr/local/lib/python3.11/dist-packages (from streamlit) (0.9.1)\n",
            "Requirement already satisfied: tornado!=6.5.0,<7,>=6.0.3 in /usr/local/lib/python3.11/dist-packages (from streamlit) (6.4.2)\n",
            "Requirement already satisfied: jinja2 in /usr/local/lib/python3.11/dist-packages (from altair<6,>=4.0->streamlit) (3.1.6)\n",
            "Requirement already satisfied: jsonschema>=3.0 in /usr/local/lib/python3.11/dist-packages (from altair<6,>=4.0->streamlit) (4.24.0)\n",
            "Requirement already satisfied: narwhals>=1.14.2 in /usr/local/lib/python3.11/dist-packages (from altair<6,>=4.0->streamlit) (1.44.0)\n",
            "Requirement already satisfied: gitdb<5,>=4.0.1 in /usr/local/lib/python3.11/dist-packages (from gitpython!=3.1.19,<4,>=3.0.7->streamlit) (4.0.12)\n",
            "Requirement already satisfied: python-dateutil>=2.8.2 in /usr/local/lib/python3.11/dist-packages (from pandas<3,>=1.4.0->streamlit) (2.9.0.post0)\n",
            "Requirement already satisfied: pytz>=2020.1 in /usr/local/lib/python3.11/dist-packages (from pandas<3,>=1.4.0->streamlit) (2025.2)\n",
            "Requirement already satisfied: tzdata>=2022.7 in /usr/local/lib/python3.11/dist-packages (from pandas<3,>=1.4.0->streamlit) (2025.2)\n",
            "Requirement already satisfied: charset-normalizer<4,>=2 in /usr/local/lib/python3.11/dist-packages (from requests<3,>=2.27->streamlit) (3.4.2)\n",
            "Requirement already satisfied: idna<4,>=2.5 in /usr/local/lib/python3.11/dist-packages (from requests<3,>=2.27->streamlit) (3.10)\n",
            "Requirement already satisfied: urllib3<3,>=1.21.1 in /usr/local/lib/python3.11/dist-packages (from requests<3,>=2.27->streamlit) (2.4.0)\n",
            "Requirement already satisfied: certifi>=2017.4.17 in /usr/local/lib/python3.11/dist-packages (from requests<3,>=2.27->streamlit) (2025.6.15)\n",
            "Requirement already satisfied: smmap<6,>=3.0.1 in /usr/local/lib/python3.11/dist-packages (from gitdb<5,>=4.0.1->gitpython!=3.1.19,<4,>=3.0.7->streamlit) (5.0.2)\n",
            "Requirement already satisfied: MarkupSafe>=2.0 in /usr/local/lib/python3.11/dist-packages (from jinja2->altair<6,>=4.0->streamlit) (3.0.2)\n",
            "Requirement already satisfied: attrs>=22.2.0 in /usr/local/lib/python3.11/dist-packages (from jsonschema>=3.0->altair<6,>=4.0->streamlit) (25.3.0)\n",
            "Requirement already satisfied: jsonschema-specifications>=2023.03.6 in /usr/local/lib/python3.11/dist-packages (from jsonschema>=3.0->altair<6,>=4.0->streamlit) (2025.4.1)\n",
            "Requirement already satisfied: referencing>=0.28.4 in /usr/local/lib/python3.11/dist-packages (from jsonschema>=3.0->altair<6,>=4.0->streamlit) (0.36.2)\n",
            "Requirement already satisfied: rpds-py>=0.7.1 in /usr/local/lib/python3.11/dist-packages (from jsonschema>=3.0->altair<6,>=4.0->streamlit) (0.25.1)\n",
            "Requirement already satisfied: six>=1.5 in /usr/local/lib/python3.11/dist-packages (from python-dateutil>=2.8.2->pandas<3,>=1.4.0->streamlit) (1.17.0)\n"
          ]
        }
      ]
    },
    {
      "cell_type": "code",
      "source": [
        "streamlit run dashboard.py"
      ],
      "metadata": {
        "colab": {
          "base_uri": "https://localhost:8080/",
          "height": 108
        },
        "id": "FLARK7SGeXcV",
        "outputId": "f916d9e6-6f30-40bd-f102-81d50f9b75dd"
      },
      "execution_count": null,
      "outputs": [
        {
          "output_type": "error",
          "ename": "SyntaxError",
          "evalue": "invalid syntax (ipython-input-144-512221001.py, line 1)",
          "traceback": [
            "\u001b[0;36m  File \u001b[0;32m\"/tmp/ipython-input-144-512221001.py\"\u001b[0;36m, line \u001b[0;32m1\u001b[0m\n\u001b[0;31m    streamlit run dashboard.py\u001b[0m\n\u001b[0m              ^\u001b[0m\n\u001b[0;31mSyntaxError\u001b[0m\u001b[0;31m:\u001b[0m invalid syntax\n"
          ]
        }
      ]
    },
    {
      "cell_type": "code",
      "source": [
        "# Assuming your final dataframe is `final_mapped_df`\n",
        "final_mapped_df.to_csv('final_dashboard_data.csv', index=False)"
      ],
      "metadata": {
        "id": "tA_Wp-GXeV5p"
      },
      "execution_count": 145,
      "outputs": []
    },
    {
      "cell_type": "code",
      "source": [],
      "metadata": {
        "id": "cra1YBhaeUYd"
      },
      "execution_count": null,
      "outputs": []
    },
    {
      "cell_type": "code",
      "source": [],
      "metadata": {
        "id": "X41YyzfqeS34"
      },
      "execution_count": null,
      "outputs": []
    },
    {
      "cell_type": "code",
      "source": [],
      "metadata": {
        "id": "H4OkN7KveRXd"
      },
      "execution_count": null,
      "outputs": []
    },
    {
      "cell_type": "code",
      "source": [],
      "metadata": {
        "id": "NxUsGP-IeP45"
      },
      "execution_count": null,
      "outputs": []
    }
  ],
  "metadata": {
    "colab": {
      "provenance": []
    },
    "kernelspec": {
      "display_name": "Python 3",
      "name": "python3"
    },
    "language_info": {
      "name": "python"
    }
  },
  "nbformat": 4,
  "nbformat_minor": 0
}